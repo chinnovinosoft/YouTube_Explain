{
 "cells": [
  {
   "cell_type": "code",
   "execution_count": null,
   "metadata": {},
   "outputs": [],
   "source": [
    "import os\n",
    "os.environ[\"OPENAI_API_KEY\"] = \"\"\n",
    "os.environ[\"LANGSMITH_PROJECT\"] = \"youtube-trail-1\"\n",
    "os.environ[\"LANGSMITH_ENDPOINT\"] = \"\"\n",
    "os.environ[\"LANGSMITH_TRACING\"] = \"true\"\n",
    "os.environ[\"LANGSMITH_API_KEY\"] =\"\""
   ]
  },
  {
   "cell_type": "code",
   "execution_count": 270,
   "metadata": {},
   "outputs": [],
   "source": [
    "import os\n",
    "from langchain_openai import ChatOpenAI\n",
    "from typing import Literal, Annotated\n",
    "import sqlite3\n",
    "import json\n",
    "from datetime import datetime\n",
    "from langchain_core.tools import tool\n",
    "from langchain.chat_models import init_chat_model\n",
    "from langchain_core.runnables import RunnableConfig\n",
    "from langgraph.graph import END, StateGraph, START\n",
    "from langgraph.graph.message import AnyMessage, add_messages\n",
    "from langgraph.types import Command\n",
    "from tabulate import tabulate\n",
    "from typing_extensions import TypedDict\n",
    "from langgraph.prebuilt import create_react_agent\n",
    "from langgraph.prebuilt.chat_agent_executor import Prompt\n",
    "from langchain_core.messages import AIMessage, HumanMessage, ToolMessage"
   ]
  },
  {
   "cell_type": "code",
   "execution_count": 272,
   "metadata": {},
   "outputs": [],
   "source": [
    "def init_db(db_path: str = \"theater.db\") -> None:\n",
    "    conn = sqlite3.connect(db_path)\n",
    "    cur = conn.cursor()\n",
    "    cur.executescript(\"\"\"\n",
    "    CREATE TABLE screenings (\n",
    "        screening_id INTEGER PRIMARY KEY,\n",
    "        movie_title  TEXT NOT NULL,\n",
    "        show_time    TEXT NOT NULL,\n",
    "        available_seats INTEGER NOT NULL\n",
    "    );\n",
    "    CREATE TABLE bookings (\n",
    "        booking_id   INTEGER PRIMARY KEY AUTOINCREMENT,\n",
    "        screening_id INTEGER NOT NULL,\n",
    "        customer_name TEXT NOT NULL,\n",
    "        customer_phone TEXT NOT NULL,\n",
    "        seats_booked  INTEGER NOT NULL,\n",
    "        booking_time  TEXT NOT NULL,\n",
    "        FOREIGN KEY(screening_id) REFERENCES screenings(screening_id)\n",
    "    );\n",
    "    \"\"\")\n",
    "    # Insert sample screenings\n",
    "    screenings = [\n",
    "        (1, \"The Matrix\", \"2025-05-11T19:00:00\", 100),\n",
    "        (2, \"Inception\", \"2025-05-11T20:00:00\", 80),\n",
    "        (3, \"Spirited Away\", \"2025-05-12T18:00:00\", 50),\n",
    "    ]\n",
    "    cur.executemany(\n",
    "        \"INSERT INTO screenings(screening_id, movie_title, show_time, available_seats) VALUES (?,?,?,?)\",\n",
    "        screenings,\n",
    "    )\n",
    "    conn.commit()\n",
    "    conn.close()\n",
    "\n",
    "# Initialize DB on import\n",
    "init_db()\n"
   ]
  },
  {
   "cell_type": "markdown",
   "metadata": {},
   "source": [
    "### Test"
   ]
  },
  {
   "cell_type": "code",
   "execution_count": 274,
   "metadata": {},
   "outputs": [
    {
     "data": {
      "text/plain": [
       "[(1, 'The Matrix', '2025-05-11T19:00:00', 100),\n",
       " (2, 'Inception', '2025-05-11T20:00:00', 80),\n",
       " (3, 'Spirited Away', '2025-05-12T18:00:00', 50)]"
      ]
     },
     "execution_count": 274,
     "metadata": {},
     "output_type": "execute_result"
    }
   ],
   "source": [
    "conn = sqlite3.connect(\"theater.db\")\n",
    "cur = conn.cursor()\n",
    "cur.execute(\"SELECT * FROM screenings\")\n",
    "authors = cur.fetchall()\n",
    "authors"
   ]
  },
  {
   "cell_type": "code",
   "execution_count": 275,
   "metadata": {},
   "outputs": [],
   "source": [
    "\n",
    "llm = ChatOpenAI(model_name=\"gpt-4\", temperature=0)\n"
   ]
  },
  {
   "cell_type": "code",
   "execution_count": 276,
   "metadata": {},
   "outputs": [],
   "source": [
    "class State(TypedDict):\n",
    "    messages: Annotated[list[AnyMessage], add_messages]\n",
    "    query_type: Literal[\"book\", \"lookup\"]\n",
    "    customer_name: str | None\n",
    "    customer_phone: str | None\n",
    "    movie_title: str | None\n",
    "    tickets: str | None\n",
    "    llm_response: str | None\n"
   ]
  },
  {
   "cell_type": "code",
   "execution_count": 277,
   "metadata": {},
   "outputs": [],
   "source": [
    "@tool\n",
    "def check_seats_availability(\n",
    "    movie_title: str,\n",
    "    db_path: str = \"theater.db\"\n",
    ") -> str:\n",
    "    \n",
    "    \"\"\"Check the availability of seats for a given movie title.\"\"\"\n",
    "    conn = sqlite3.connect(db_path)\n",
    "    cur = conn.cursor()\n",
    "    cur.execute(\n",
    "        f\"SELECT available_seats FROM screenings WHERE lower(movie_title) like '%{movie_title.lower()}%' \"\n",
    "    )\n",
    "    row = cur.fetchone()\n",
    "    conn.close()\n",
    "    if row is None:\n",
    "        return json.dumps({\"error\": f\"{movie_title} not found.\"})\n",
    "    return json.dumps({\"available_seats\": row[0]})\n"
   ]
  },
  {
   "cell_type": "code",
   "execution_count": 278,
   "metadata": {},
   "outputs": [],
   "source": [
    "@tool\n",
    "def _bookings(\n",
    "    movie_title: str | None = None,\n",
    "    customer_name: str = \"\",\n",
    "    customer_phone: str = \"\",\n",
    "    num_tickets: int = 0,\n",
    "    db_path: str = \"theater.db\"\n",
    ") -> str:\n",
    "    \"\"\"Book tickets for a given movie title.\"\"\"\n",
    "    conn = sqlite3.connect(db_path)\n",
    "    cur = conn.cursor()\n",
    "    cur.execute(\n",
    "        \"SELECT screening_id, available_seats FROM screenings WHERE movie_title = ? ORDER BY show_time LIMIT 1\",\n",
    "        (movie_title,)\n",
    "    )\n",
    "    row = cur.fetchone()\n",
    "    if not row:\n",
    "        conn.close()\n",
    "        return json.dumps({\"error\": \"No upcoming screening found for given movie title.\"})\n",
    "    \n",
    "    screening_id, available = row\n",
    "    # Check availability\n",
    "    if num_tickets > available:\n",
    "        conn.close()\n",
    "        return json.dumps({\"error\": \"Not enough seats available.\"})\n",
    "    # Update availability\n",
    "    new_avail = available - num_tickets\n",
    "    cur.execute(\n",
    "        \"UPDATE screenings SET available_seats = ? WHERE screening_id = ?\",\n",
    "        (new_avail, screening_id)\n",
    "    )\n",
    "    # Insert booking record\n",
    "    booking_time = datetime.now().isoformat()\n",
    "    cur.execute(\n",
    "        \"INSERT INTO bookings(screening_id, customer_name, customer_phone, seats_booked, booking_time) VALUES (?,?,?,?,?)\",\n",
    "        (screening_id, customer_name, customer_phone, num_tickets, booking_time)\n",
    "    )\n",
    "    conn.commit()\n",
    "    conn.close()\n",
    "    screening_id, available = row\n",
    "    return json.dumps({\n",
    "        \"screening_id\": screening_id,\n",
    "        \"booked_seats\": num_tickets,\n",
    "        \"remaining_seats\": new_avail,\n",
    "        \"booking_time\": booking_time\n",
    "    })\n",
    "    "
   ]
  },
  {
   "cell_type": "code",
   "execution_count": 222,
   "metadata": {},
   "outputs": [],
   "source": [
    "gather_info_instructions = (\n",
    "\"\"\"\n",
    "    You are a movie theater assistant. Customers can ask for information about \n",
    "    1. movie ticket availability \n",
    "    2. book tickets.\n",
    "    so, you are capable enough to understand the customer's request/query.\n",
    "    if the customer is asking for information about ticket availability, respond with just TICKET_AVAILABILITY.\n",
    "    if the customer is asking for booking tickets, respond with just BOOK_TICKETS.\n",
    "    Do not respond with any other information or extra text, respond with just TICKET_AVAILABILITY or BOOK_TICKETS.\n",
    "\"\"\"\n",
    ")"
   ]
  },
  {
   "cell_type": "code",
   "execution_count": 280,
   "metadata": {},
   "outputs": [],
   "source": [
    "def gather_info(state: State):\n",
    "    res = llm.invoke([\n",
    "        {\"role\": \"system\", \"content\": gather_info_instructions},\n",
    "        *state[\"messages\"],\n",
    "    ])\n",
    "    query_text = res.content\n",
    "    print(\"query_text-->\",query_text)\n",
    "    if \"TICKET_AVAILABILITY\" in query_text:\n",
    "        state['query_type'] = \"lookup\"\n",
    "    elif \"BOOK_TICKETS\" in query_text:\n",
    "        state['query_type'] = \"book\"\n",
    "    else:\n",
    "        raise ValueError(f\"Unexpected response: {query_text}\")\n",
    "    # print(\"state-->\",state)\n",
    "    return state"
   ]
  },
  {
   "cell_type": "code",
   "execution_count": 281,
   "metadata": {},
   "outputs": [],
   "source": [
    "def nav(state: State) -> Literal[\"lookup\", \"book\", END]:\n",
    "    if state['query_type'] == \"lookup\":\n",
    "        return \"lookup\"\n",
    "    elif state['query_type'] == \"book\":\n",
    "        return \"book\"\n",
    "    else:\n",
    "        return END"
   ]
  },
  {
   "cell_type": "code",
   "execution_count": 282,
   "metadata": {},
   "outputs": [],
   "source": [
    "def availability(state: State):\n",
    "    # Create a React agent for availability\n",
    "    prompt =\"\"\"you are a movie theater assistant.\n",
    "    You are capable enough to understand the customer's request and check if the tickets are avaiable or not for the movie name provided by using the tools provided to you.\"\"\"\n",
    "    agent = create_react_agent(\n",
    "        model=llm,\n",
    "        tools=[check_seats_availability],\n",
    "    )\n",
    "    # print(\"state[messages][-1] \",state[\"messages\"][-1])\n",
    "    human_message =  state[\"messages\"][-1].content\n",
    "    # print(\"human_message-->\",human_message)\n",
    "    res = agent.invoke(\n",
    "        {\"messages\": [{\"role\": \"user\", \"content\": f\"{human_message}\"}]}\n",
    "    )\n",
    "    # print(\"res-->\",res['messages'][-1])\n",
    "    return {'llm_response':res['messages'][-1].content}\n"
   ]
  },
  {
   "cell_type": "code",
   "execution_count": 283,
   "metadata": {},
   "outputs": [],
   "source": [
    "def book(state: State):\n",
    "    # Create a React agent for booking\n",
    "    prompt = \"\"\"you are a movie theater assistant.\n",
    "    You are capable enough to understand the customer's request and book the tickets for the movie name provided by using the tools provided to you.\"\"\"\n",
    "    agent = create_react_agent(\n",
    "        model=llm,\n",
    "        tools=[_bookings],\n",
    "    )\n",
    "    # print(\"Book --> state[messages][-1] \",state[\"messages\"][-1])\n",
    "    human_message =  state[\"messages\"][-1].content\n",
    "    # print(\"Book --> human_message-->\",human_message)\n",
    "    # Invoke the agent with the state\n",
    "    res = agent.invoke(\n",
    "        {\"messages\": [{\"role\": \"user\", \"content\": f\"{human_message}\"}]}\n",
    "    )\n",
    "    # print(\"res-->\",res['messages'][-1])\n",
    "    return {'llm_response':res['messages'][-1].content}"
   ]
  },
  {
   "cell_type": "code",
   "execution_count": 284,
   "metadata": {},
   "outputs": [],
   "source": [
    "graph_builder = StateGraph(State)\n",
    "graph_builder.add_node(\"gather_info\",gather_info)\n",
    "graph_builder.add_node(\"availability\",availability)\n",
    "graph_builder.add_node(\"book\",book)\n",
    "graph_builder.add_edge(START, \"gather_info\")\n",
    "graph_builder.add_conditional_edges(\n",
    "    \"gather_info\",\n",
    "    nav,\n",
    "    {\n",
    "        \"lookup\": \"availability\",\n",
    "        \"book\": \"book\",\n",
    "    },\n",
    ")\n",
    "graph_builder.add_edge(\"availability\", END)\n",
    "graph_builder.add_edge(\"book\", END)\n",
    "theater_graph = graph_builder.compile()"
   ]
  },
  {
   "cell_type": "code",
   "execution_count": 285,
   "metadata": {},
   "outputs": [
    {
     "data": {
      "image/png": "[encoded data removed]",
      "text/plain": [
       "<IPython.core.display.Image object>"
      ]
     },
     "metadata": {},
     "output_type": "display_data"
    }
   ],
   "source": [
    "from IPython.display import Image, display\n",
    "\n",
    "try:\n",
    "    display(Image(theater_graph.get_graph().draw_mermaid_png()))\n",
    "except Exception:\n",
    "    # This requires some extra dependencies and is optional\n",
    "    pass"
   ]
  },
  {
   "cell_type": "code",
   "execution_count": 286,
   "metadata": {},
   "outputs": [
    {
     "name": "stdout",
     "output_type": "stream",
     "text": [
      "query_text--> TICKET_AVAILABILITY\n"
     ]
    },
    {
     "data": {
      "text/plain": [
       "{'messages': [HumanMessage(content='Hi, could you tell me how many seats are available for The Matrix tonight?', additional_kwargs={}, response_metadata={}, id='2d16f71d-aef0-4a97-b834-bb9d6b8a9819')],\n",
       " 'query_type': 'lookup',\n",
       " 'llm_response': 'There are 100 seats available for The Matrix tonight.'}"
      ]
     },
     "execution_count": 286,
     "metadata": {},
     "output_type": "execute_result"
    }
   ],
   "source": [
    "theater_graph.invoke(\n",
    "        {\"messages\": [{\"role\": \"user\", \"content\": \"Hi, could you tell me how many seats are available for The Matrix tonight?\"}]}\n",
    "    )"
   ]
  },
  {
   "cell_type": "code",
   "execution_count": 287,
   "metadata": {},
   "outputs": [
    {
     "name": "stdout",
     "output_type": "stream",
     "text": [
      "query_text--> BOOK_TICKETS\n"
     ]
    },
    {
     "data": {
      "text/plain": [
       "{'messages': [HumanMessage(content='Can you book 3 tickets to Inception', additional_kwargs={}, response_metadata={}, id='70eb1f90-b175-4379-a4a7-7e16b766e542')],\n",
       " 'query_type': 'book',\n",
       " 'llm_response': 'I have booked 3 tickets for the movie Inception. Your screening ID is 2. The booking time is 2025-05-13T20:08:23. There are 77 seats remaining for this screening. Enjoy the movie!'}"
      ]
     },
     "execution_count": 287,
     "metadata": {},
     "output_type": "execute_result"
    }
   ],
   "source": [
    "theater_graph.invoke(\n",
    "        {\"messages\": [{\"role\": \"user\", \"content\": \"Can you book 3 tickets to Inception\"}]}\n",
    "    )"
   ]
  },
  {
   "cell_type": "code",
   "execution_count": 288,
   "metadata": {},
   "outputs": [],
   "source": [
    "examples = [\n",
    "# Availability check example\n",
    "{\n",
    "    \"inputs\": {\n",
    "        \"question\": \"Hi, could you tell me how many seats are available for The Matrix tonight?\"\n",
    "    },\n",
    "    \"outputs\": {\n",
    "        \"response\": \"We have 100 seats available for The Matrix.\",\n",
    "        \"trajectory\": [\"gather_info\", \"availability\"]\n",
    "    }\n",
    "},\n",
    "# Simple booking example\n",
    "{\n",
    "    \"inputs\": {\n",
    "        \"question\": \"I'd like to book 2 tickets for Inception, please.\"\n",
    "    },\n",
    "    \"outputs\": {\n",
    "        \"response\": \"Your booking is confirmed: 2 seats for Inception. Remaining seats: 78.\",\n",
    "        \"trajectory\": [\"gather_info\", \"book\"]\n",
    "    }\n",
    "},\n",
    "# Booking with explicit user details\n",
    "{\n",
    "    \"inputs\": {\n",
    "        \"question\": \"Book 3 tickets for Spirited Away. My name is Arushi and my phone is +91-9876543210.\"\n",
    "    },\n",
    "    \"outputs\": {\n",
    "        \"response\": \"Booking successful! 3 seats for Spirited Away under Arushi. Remaining seats: 47.\",\n",
    "        \"trajectory\": [\"gather_info\", \"book\"]\n",
    "    }\n",
    "},\n",
    "# Fallback / missing movie title\n",
    "{\n",
    "    \"inputs\": {\n",
    "        \"question\": \"I want to book tickets.\"\n",
    "    },\n",
    "    \"outputs\": {\n",
    "        \"response\": \"Could you please specify the movie you'd like to book tickets for?\",\n",
    "        \"trajectory\": [\"gather_info\"]\n",
    "    }\n",
    "},\n",
    "# Lookup with fuzzy movie name\n",
    "{\n",
    "    \"inputs\": {\n",
    "        \"question\": \"How many seats left for matrix?\"\n",
    "    },\n",
    "    \"outputs\": {\n",
    "        \"response\": \"We have 100 seats available for The Matrix.\",\n",
    "        \"trajectory\": [\"gather_info\", \"availability\"]\n",
    "    }\n",
    "}\n",
    "]\n"
   ]
  },
  {
   "cell_type": "code",
   "execution_count": 289,
   "metadata": {},
   "outputs": [
    {
     "data": {
      "text/html": [
       "<a href=\"https://smith.langchain.com\", target=\"_blank\" rel=\"noopener\">LangSmith Client</a>"
      ],
      "text/plain": [
       "Client (API URL: https://api.smith.langchain.com)"
      ]
     },
     "execution_count": 289,
     "metadata": {},
     "output_type": "execute_result"
    }
   ],
   "source": [
    "client"
   ]
  },
  {
   "cell_type": "code",
   "execution_count": 290,
   "metadata": {},
   "outputs": [
    {
     "data": {
      "text/plain": [
       "{'example_ids': ['5f8e8e73-1aee-4785-9290-53e46bcc33d9',\n",
       "  '2660e90f-f87f-432a-b2b2-542006bf2597',\n",
       "  '3143f28a-9b05-4242-8b83-2e0fcc690067',\n",
       "  '1896531f-de5f-4be8-acbb-679a3975c099',\n",
       "  '553113b9-4c7d-4fb4-8a85-8c16d8001aee'],\n",
       " 'count': 5}"
      ]
     },
     "execution_count": 290,
     "metadata": {},
     "output_type": "execute_result"
    }
   ],
   "source": [
    "from langsmith import Client\n",
    "\n",
    "client = Client(api_key=os.environ[\"LANGSMITH_API_KEY\"])\n",
    "\n",
    "dataset_name = \"Cinema Booking Bot: E2E2\"\n",
    "\n",
    "dataset = client.create_dataset(dataset_name=dataset_name)\n",
    "client.create_examples(\n",
    "    dataset_id=dataset.id,\n",
    "    examples=examples\n",
    ")"
   ]
  },
  {
   "cell_type": "code",
   "execution_count": 302,
   "metadata": {},
   "outputs": [],
   "source": [
    "grader_instructions = \"\"\"You are a teacher grading a quiz.\n",
    "\n",
    "You will be given a QUESTION, the EXPECTED RESPONSE (correct), and the BOT RESPONSE.\n",
    "\n",
    "Grade according to:\n",
    "1. Accuracy: does the bot response match the expected response?\n",
    "2. No contradictions.\n",
    "3. Extra correct details are OK.\n",
    "\n",
    "Return a JSON with:\n",
    "- reasoning: step-by-step why it's correct or not.\n",
    "- is_correct: True/False.\n",
    "\"\"\"\n",
    "\n",
    "class Grade(TypedDict):\n",
    "    \"\"\"Compare the expected and actual answers and grade the actual answer.\"\"\"\n",
    "    reasoning: Annotated[str, ..., \"Explain your reasoning for whether the actual response is correct or not.\"]\n",
    "    is_correct: Annotated[bool, ..., \"True if the student response is mostly or exactly correct, otherwise False.\"]\n",
    "\n",
    "\n",
    "grader_llm = init_chat_model(\"gpt-4o\", temperature=0).with_structured_output(Grade, method=\"json_schema\", strict=True)\n",
    "\n",
    "def final_answer_correct(inputs, outputs, reference_outputs) -> bool:\n",
    "    prompt = (\n",
    "        f\"QUESTION: {inputs['question']}\\n\"\n",
    "        f\"EXPECTED RESPONSE: {reference_outputs['response']}\\n\"\n",
    "        f\"BOT RESPONSE: {outputs}\"\n",
    "    )\n",
    "    grade = grader_llm.invoke([\n",
    "        {\"role\": \"system\",  \"content\": grader_instructions},\n",
    "        {\"role\": \"user\",    \"content\": prompt},\n",
    "    ])\n",
    "    return grade[\"is_correct\"]\n",
    "\n",
    "def run_graph(inputs: dict) -> dict:\n",
    "    result = theater_graph.invoke(\n",
    "        {\"messages\": [{\"role\": \"user\", \"content\": inputs[\"question\"]}]}\n",
    "    )\n",
    "    print(\"response -->\", result[\"llm_response\"])\n",
    "    return result[\"llm_response\"]\n",
    "\n"
   ]
  },
  {
   "cell_type": "code",
   "execution_count": 303,
   "metadata": {},
   "outputs": [
    {
     "name": "stdout",
     "output_type": "stream",
     "text": [
      "View the evaluation results for experiment: 'cinema-booking-e2e-5c88844f' at:\n",
      "https://smith.langchain.com/o/aa8f96d0-a69d-4f38-9273-1ebe8cbd672b/datasets/9e892331-9b6b-4110-b7b9-8b08d9371aaa/compare?selectedSessions=91b90d9a-1e2a-48b0-b32c-a42773c48f2d\n",
      "\n",
      "\n"
     ]
    },
    {
     "name": "stderr",
     "output_type": "stream",
     "text": [
      "0it [00:00, ?it/s]"
     ]
    },
    {
     "name": "stdout",
     "output_type": "stream",
     "text": [
      "query_text--> BOOK_TICKETS\n",
      "query_text--> TICKET_AVAILABILITY\n",
      "query_text--> TICKET_AVAILABILITY\n",
      "query_text--> BOOK_TICKETS\n",
      "response --> Sure, I can help you with that. Could you please provide me with the following details?\n",
      "\n",
      "1. Movie Title\n",
      "2. Your Name\n",
      "3. Your Phone Number\n",
      "4. Number of Tickets\n",
      "response --> There are 100 seats available for The Matrix tonight.\n",
      "response --> There are 100 seats left for the movie \"Matrix\".\n",
      "query_text--> BOOK_TICKETS\n"
     ]
    },
    {
     "name": "stderr",
     "output_type": "stream",
     "text": [
      "1it [00:07,  7.40s/it]"
     ]
    },
    {
     "name": "stdout",
     "output_type": "stream",
     "text": [
      "response --> Sure, I have booked 2 tickets for the movie Inception for you. Your screening ID is 2. The booking time is 2025-05-13T20:24:51. There are 65 seats remaining for this screening. Enjoy the movie!\n"
     ]
    },
    {
     "name": "stderr",
     "output_type": "stream",
     "text": [
      "2it [00:11,  5.18s/it]"
     ]
    },
    {
     "name": "stdout",
     "output_type": "stream",
     "text": [
      "response --> I have booked 3 tickets for the movie \"Spirited Away\" for you, Arushi. Your screening is scheduled and your booking time is 2025-05-13T20:24:55.553336. There are 32 seats remaining for this screening. Enjoy the movie!\n"
     ]
    },
    {
     "name": "stderr",
     "output_type": "stream",
     "text": [
      "5it [00:15,  3.05s/it]\n"
     ]
    }
   ],
   "source": [
    "experiment_results = client.evaluate(\n",
    "    run_graph,\n",
    "    data=\"Cinema Booking Bot: E2E2\",\n",
    "    evaluators=[final_answer_correct],\n",
    "    experiment_prefix=\"cinema-booking-e2e\",\n",
    "    num_repetitions=1,\n",
    "    max_concurrency=4,\n",
    ")"
   ]
  },
  {
   "cell_type": "code",
   "execution_count": 296,
   "metadata": {},
   "outputs": [],
   "source": [
    "def trajectory_subsequence(outputs: dict, reference_outputs: dict) -> float:\n",
    "    \"\"\"Check how many of the desired steps the agent took.\"\"\"\n",
    "    if len(reference_outputs['trajectory']) > len(outputs['trajectory']):\n",
    "        return False\n",
    "\n",
    "    i = j = 0\n",
    "    while i < len(reference_outputs['trajectory']) and j < len(outputs['trajectory']):\n",
    "        if reference_outputs['trajectory'][i] == outputs['trajectory'][j]:\n",
    "            i += 1\n",
    "        j += 1\n",
    "\n",
    "    return i / len(reference_outputs['trajectory'])"
   ]
  },
  {
   "cell_type": "code",
   "execution_count": 297,
   "metadata": {},
   "outputs": [],
   "source": [
    "async def run_graph(inputs: dict) -> dict:\n",
    "    \"\"\"Run graph and track the trajectory it takes along with the final response.\"\"\"\n",
    "    trajectory = []\n",
    "    # Set subgraph=True to stream events from subgraphs of the main graph: https://langchain-ai.github.io/langgraph/how-tos/streaming-subgraphs/\n",
    "    # Set stream_mode=\"debug\" to stream all possible events: https://langchain-ai.github.io/langgraph/concepts/streaming\n",
    "    async for namespace, chunk in theater_graph.astream({\"messages\": [\n",
    "            {\n",
    "                \"role\": \"user\",\n",
    "                \"content\": inputs['question'],\n",
    "            }\n",
    "        ]}, subgraphs=True, stream_mode=\"debug\"):\n",
    "        # Event type for entering a node\n",
    "        if chunk['type'] == 'task':\n",
    "            # Record the node name\n",
    "            trajectory.append(chunk['payload']['name'])\n",
    "            # Given how we defined our dataset, we also need to track when specific tools are\n",
    "            # called by our question answering ReACT agent. These tool calls can be found\n",
    "            # when the ToolsNode (named \"tools\") is invoked by looking at the AIMessage.tool_calls\n",
    "            # of the latest input message.\n",
    "            if chunk['payload']['name'] == 'tools' and chunk['type'] == 'task':\n",
    "                for tc in chunk['payload']['input']['messages'][-1].tool_calls:\n",
    "                    trajectory.append(tc['name'])\n",
    "\n",
    "    return {\"trajectory\": trajectory}"
   ]
  },
  {
   "cell_type": "code",
   "execution_count": 298,
   "metadata": {},
   "outputs": [
    {
     "name": "stdout",
     "output_type": "stream",
     "text": [
      "View the evaluation results for experiment: 'sql-agent-gpt4o-trajectory-17ec7307' at:\n",
      "https://smith.langchain.com/o/aa8f96d0-a69d-4f38-9273-1ebe8cbd672b/datasets/9e892331-9b6b-4110-b7b9-8b08d9371aaa/compare?selectedSessions=2dabbf74-9b5f-4fd4-b91a-d5dfa1b6ed79\n",
      "\n",
      "\n"
     ]
    },
    {
     "name": "stderr",
     "output_type": "stream",
     "text": [
      "0it [00:00, ?it/s]"
     ]
    },
    {
     "name": "stdout",
     "output_type": "stream",
     "text": [
      "query_text--> BOOK_TICKETS\n",
      "query_text--> TICKET_AVAILABILITY\n",
      "query_text--> TICKET_AVAILABILITY\n",
      "query_text--> BOOK_TICKETS\n"
     ]
    },
    {
     "name": "stderr",
     "output_type": "stream",
     "text": [
      "2it [00:04,  2.00s/it]"
     ]
    },
    {
     "name": "stdout",
     "output_type": "stream",
     "text": [
      "query_text--> BOOK_TICKETS\n"
     ]
    },
    {
     "name": "stderr",
     "output_type": "stream",
     "text": [
      "5it [00:11,  2.38s/it]\n"
     ]
    }
   ],
   "source": [
    "experiment_results = await client.aevaluate(\n",
    "    run_graph,\n",
    "    data=dataset_name,\n",
    "    evaluators=[trajectory_subsequence],\n",
    "    experiment_prefix=\"sql-agent-gpt4o-trajectory\",\n",
    "    num_repetitions=1,\n",
    "    max_concurrency=4,\n",
    ")\n"
   ]
  },
  {
   "cell_type": "code",
   "execution_count": 299,
   "metadata": {},
   "outputs": [
    {
     "data": {
      "text/html": [
       "<div>\n",
       "<style scoped>\n",
       "    .dataframe tbody tr th:only-of-type {\n",
       "        vertical-align: middle;\n",
       "    }\n",
       "\n",
       "    .dataframe tbody tr th {\n",
       "        vertical-align: top;\n",
       "    }\n",
       "\n",
       "    .dataframe thead th {\n",
       "        text-align: right;\n",
       "    }\n",
       "</style>\n",
       "<table border=\"1\" class=\"dataframe\">\n",
       "  <thead>\n",
       "    <tr style=\"text-align: right;\">\n",
       "      <th></th>\n",
       "      <th>inputs.question</th>\n",
       "      <th>outputs.trajectory</th>\n",
       "      <th>error</th>\n",
       "      <th>reference.response</th>\n",
       "      <th>reference.trajectory</th>\n",
       "      <th>feedback.trajectory_subsequence</th>\n",
       "      <th>execution_time</th>\n",
       "      <th>example_id</th>\n",
       "      <th>id</th>\n",
       "    </tr>\n",
       "  </thead>\n",
       "  <tbody>\n",
       "    <tr>\n",
       "      <th>0</th>\n",
       "      <td>How many seats left for matrix?</td>\n",
       "      <td>[gather_info, availability, agent, tools, chec...</td>\n",
       "      <td>None</td>\n",
       "      <td>We have 100 seats available for The Matrix.</td>\n",
       "      <td>[gather_info, availability]</td>\n",
       "      <td>1.0</td>\n",
       "      <td>4.025898</td>\n",
       "      <td>3143f28a-9b05-4242-8b83-2e0fcc690067</td>\n",
       "      <td>472ad695-2d5f-46a4-bcd0-7e97c37b5d70</td>\n",
       "    </tr>\n",
       "    <tr>\n",
       "      <th>1</th>\n",
       "      <td>I want to book tickets.</td>\n",
       "      <td>[gather_info, book, agent]</td>\n",
       "      <td>None</td>\n",
       "      <td>Could you please specify the movie you'd like ...</td>\n",
       "      <td>[gather_info]</td>\n",
       "      <td>1.0</td>\n",
       "      <td>4.603933</td>\n",
       "      <td>2660e90f-f87f-432a-b2b2-542006bf2597</td>\n",
       "      <td>d4c7c4bb-1eaf-4fba-a018-b26c8f6886aa</td>\n",
       "    </tr>\n",
       "    <tr>\n",
       "      <th>2</th>\n",
       "      <td>Hi, could you tell me how many seats are avail...</td>\n",
       "      <td>[gather_info, availability, agent, tools, chec...</td>\n",
       "      <td>None</td>\n",
       "      <td>We have 100 seats available for The Matrix.</td>\n",
       "      <td>[gather_info, availability]</td>\n",
       "      <td>1.0</td>\n",
       "      <td>5.118792</td>\n",
       "      <td>1896531f-de5f-4be8-acbb-679a3975c099</td>\n",
       "      <td>62807c00-0c47-4a16-a00a-437cf4222caf</td>\n",
       "    </tr>\n",
       "    <tr>\n",
       "      <th>3</th>\n",
       "      <td>I'd like to book 2 tickets for Inception, please.</td>\n",
       "      <td>[gather_info, book, agent, tools, _bookings, a...</td>\n",
       "      <td>None</td>\n",
       "      <td>Your booking is confirmed: 2 seats for Incepti...</td>\n",
       "      <td>[gather_info, book]</td>\n",
       "      <td>1.0</td>\n",
       "      <td>6.847235</td>\n",
       "      <td>553113b9-4c7d-4fb4-8a85-8c16d8001aee</td>\n",
       "      <td>09730525-ee68-4deb-92c2-3fa61472e687</td>\n",
       "    </tr>\n",
       "    <tr>\n",
       "      <th>4</th>\n",
       "      <td>Book 3 tickets for Spirited Away. My name is A...</td>\n",
       "      <td>[gather_info, book, agent, tools, _bookings, a...</td>\n",
       "      <td>None</td>\n",
       "      <td>Booking successful! 3 seats for Spirited Away ...</td>\n",
       "      <td>[gather_info, book]</td>\n",
       "      <td>1.0</td>\n",
       "      <td>7.836859</td>\n",
       "      <td>5f8e8e73-1aee-4785-9290-53e46bcc33d9</td>\n",
       "      <td>6e61c76a-ea18-4718-95e8-c62db27b3262</td>\n",
       "    </tr>\n",
       "  </tbody>\n",
       "</table>\n",
       "</div>"
      ],
      "text/plain": [
       "                                     inputs.question  \\\n",
       "0                    How many seats left for matrix?   \n",
       "1                            I want to book tickets.   \n",
       "2  Hi, could you tell me how many seats are avail...   \n",
       "3  I'd like to book 2 tickets for Inception, please.   \n",
       "4  Book 3 tickets for Spirited Away. My name is A...   \n",
       "\n",
       "                                  outputs.trajectory error  \\\n",
       "0  [gather_info, availability, agent, tools, chec...  None   \n",
       "1                         [gather_info, book, agent]  None   \n",
       "2  [gather_info, availability, agent, tools, chec...  None   \n",
       "3  [gather_info, book, agent, tools, _bookings, a...  None   \n",
       "4  [gather_info, book, agent, tools, _bookings, a...  None   \n",
       "\n",
       "                                  reference.response  \\\n",
       "0        We have 100 seats available for The Matrix.   \n",
       "1  Could you please specify the movie you'd like ...   \n",
       "2        We have 100 seats available for The Matrix.   \n",
       "3  Your booking is confirmed: 2 seats for Incepti...   \n",
       "4  Booking successful! 3 seats for Spirited Away ...   \n",
       "\n",
       "          reference.trajectory  feedback.trajectory_subsequence  \\\n",
       "0  [gather_info, availability]                              1.0   \n",
       "1                [gather_info]                              1.0   \n",
       "2  [gather_info, availability]                              1.0   \n",
       "3          [gather_info, book]                              1.0   \n",
       "4          [gather_info, book]                              1.0   \n",
       "\n",
       "   execution_time                            example_id  \\\n",
       "0        4.025898  3143f28a-9b05-4242-8b83-2e0fcc690067   \n",
       "1        4.603933  2660e90f-f87f-432a-b2b2-542006bf2597   \n",
       "2        5.118792  1896531f-de5f-4be8-acbb-679a3975c099   \n",
       "3        6.847235  553113b9-4c7d-4fb4-8a85-8c16d8001aee   \n",
       "4        7.836859  5f8e8e73-1aee-4785-9290-53e46bcc33d9   \n",
       "\n",
       "                                     id  \n",
       "0  472ad695-2d5f-46a4-bcd0-7e97c37b5d70  \n",
       "1  d4c7c4bb-1eaf-4fba-a018-b26c8f6886aa  \n",
       "2  62807c00-0c47-4a16-a00a-437cf4222caf  \n",
       "3  09730525-ee68-4deb-92c2-3fa61472e687  \n",
       "4  6e61c76a-ea18-4718-95e8-c62db27b3262  "
      ]
     },
     "execution_count": 299,
     "metadata": {},
     "output_type": "execute_result"
    }
   ],
   "source": [
    "experiment_results.to_pandas()"
   ]
  },
  {
   "cell_type": "code",
   "execution_count": null,
   "metadata": {},
   "outputs": [],
   "source": []
  }
 ],
 "metadata": {
  "kernelspec": {
   "display_name": ".venv",
   "language": "python",
   "name": "python3"
  },
  "language_info": {
   "codemirror_mode": {
    "name": "ipython",
    "version": 3
   },
   "file_extension": ".py",
   "mimetype": "text/x-python",
   "name": "python",
   "nbconvert_exporter": "python",
   "pygments_lexer": "ipython3",
   "version": "3.11.5"
  }
 },
 "nbformat": 4,
 "nbformat_minor": 2
}
