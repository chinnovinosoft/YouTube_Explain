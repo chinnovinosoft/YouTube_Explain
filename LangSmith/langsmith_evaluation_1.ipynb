{
 "cells": [
  {
   "cell_type": "markdown",
   "metadata": {},
   "source": [
    "Evaluations are a quantitative way to measure performance of LLM applications, which is important because LLMs don't always behave predictably — small changes in prompts, models, or inputs can significantly impact results. Evaluations provide a structured way to identify failures, compare changes across different versions of your application, and build more reliable AI applications.\n",
    "\n"
   ]
  },
  {
   "cell_type": "markdown",
   "metadata": {},
   "source": [
    "Dataset :: \n",
    "A named collection of “examples” (each example is an input + the correct output).\n",
    "\n",
    "\n",
    "Target Function :: \n",
    "The piece of code you want to test—typically your RAG bot, chain, or agent function.\n",
    "\n",
    "\n",
    "Evaluators :: \n",
    "Small functions that take (inputs, outputs, reference_outputs) (or (inputs, outputs) for one-sided checks) and return True/False.\n"
   ]
  },
  {
   "cell_type": "code",
   "execution_count": null,
   "metadata": {},
   "outputs": [],
   "source": [
    "import os\n",
    "os.environ[\"OPENAI_API_KEY\"] = \"\"\n",
    "os.environ[\"LANGSMITH_PROJECT\"] = \"youtube-trail-2\"\n",
    "os.environ[\"LANGSMITH_ENDPOINT\"] = \"\"\n",
    "os.environ[\"LANGSMITH_TRACING\"] = \"true\"\n",
    "os.environ[\"LANGSMITH_API_KEY\"] =\"\""
   ]
  },
  {
   "cell_type": "code",
   "execution_count": 3,
   "metadata": {},
   "outputs": [
    {
     "name": "stderr",
     "output_type": "stream",
     "text": [
      "USER_AGENT environment variable not set, consider setting it to identify your requests.\n"
     ]
    }
   ],
   "source": [
    "\n",
    "from langchain_community.document_loaders import WebBaseLoader\n",
    "from langchain_core.vectorstores import InMemoryVectorStore\n",
    "from langchain_openai import ChatOpenAI, OpenAIEmbeddings\n",
    "from langchain_text_splitters import RecursiveCharacterTextSplitter\n",
    "from langsmith import Client, traceable\n",
    "from typing_extensions import Annotated, TypedDict"
   ]
  },
  {
   "cell_type": "code",
   "execution_count": 27,
   "metadata": {},
   "outputs": [],
   "source": [
    "examples = [\n",
    "    {\n",
    "        \"inputs\": {\"question\": \"What occurred during the Pahalgam attack in April 2025?\"},\n",
    "        \"outputs\": {\"answer\": \"On April 22, 2025, five armed militants attacked tourists in Baisaran Valley near Pahalgam, Jammu and Kashmir, killing 26 civilians, primarily Hindu tourists. The attackers used AK-47s and M4 carbines, and the incident is considered the deadliest on civilians in India since the 2008 Mumbai attacks.\"},\n",
    "    },\n",
    "    {\n",
    "        \"inputs\": {\"question\": \"Who were the perpetrators of the Pahalgam attack?\"},\n",
    "        \"outputs\": {\"answer\": \"The attack was initially claimed by The Resistance Front (TRF), believed to be an offshoot of the Pakistan-based Lashkar-e-Taiba. However, TRF later retracted their claim. The attackers were armed Islamist militants opposing India's policies in Kashmir.\"},\n",
    "    },\n",
    "    {\n",
    "        \"inputs\": {\"question\": \"What was the motive behind the Pahalgam attack?\"},\n",
    "        \"outputs\": {\"answer\": \"The attackers opposed Indian government policies allowing non-local settlements in Kashmir, which they viewed as demographic changes threatening the region's Muslim majority.\"},\n",
    "    },\n",
    "    {\n",
    "        \"inputs\": {\"question\": \"How did the Pahalgam attack affect India-Pakistan relations?\"},\n",
    "        \"outputs\": {\"answer\": \"Following the attack, India accused Pakistan of supporting cross-border terrorism, leading to the suspension of the Indus Waters Treaty, expulsion of Pakistani diplomats, and closure of borders. Pakistan denied the accusations and retaliated by suspending the Simla Agreement and closing airspace, escalating tensions between the two nations.\"},\n",
    "    },\n",
    "    {\n",
    "        \"inputs\": {\"question\": \"What is the historical context of the Kashmir conflict?\"},\n",
    "        \"outputs\": {\"answer\": \"The Kashmir conflict dates back to 1947 when the princely state of Jammu and Kashmir acceded to India during the partition. Since then, India and Pakistan have fought multiple wars over the region, with both countries claiming it in full but controlling different parts.\"},\n",
    "    },\n",
    "    {\n",
    "        \"inputs\": {\"question\": \"What is the significance of the Indus Waters Treaty in the India-Pakistan relationship?\"},\n",
    "        \"outputs\": {\"answer\": \"The Indus Waters Treaty, signed in 1960, allowed equitable water sharing between India and Pakistan and has been a stabilizing factor in their relations. India's suspension of the treaty after the Pahalgam attack has strained the relationship further.\"},\n",
    "    },\n",
    "    {\n",
    "        \"inputs\": {\"question\": \"What measures did India take internally after the Pahalgam attack?\"},\n",
    "        \"outputs\": {\"answer\": \"India launched a massive crackdown in nearby villages, including detentions and increased military patrols. The house of a suspected attacker was demolished, sparking fears among civilians of collective punishment.\"},\n",
    "    },\n",
    "    {\n",
    "        \"inputs\": {\"question\": \"How has the Pahalgam attack impacted the local population in Kashmir?\"},\n",
    "        \"outputs\": {\"answer\": \"The attack has led to increased military presence and crackdowns in the region, causing fear among civilians. There is also concern about being unjustly targeted and the impact on the local tourism industry.\"},\n",
    "    },\n",
    "]\n"
   ]
  },
  {
   "cell_type": "code",
   "execution_count": 28,
   "metadata": {},
   "outputs": [],
   "source": [
    "urls = [\n",
    "    \"https://www.bbc.com/news/articles/crrz4ezzlxjo\",\n",
    "    \"https://www.aljazeera.com/news/2025/5/2/pahalgam-attack-a-simple-guide-to-the-kashmir-conflict\",\n",
    "]"
   ]
  },
  {
   "cell_type": "code",
   "execution_count": 6,
   "metadata": {},
   "outputs": [],
   "source": [
    "docs = [WebBaseLoader(url).load() for url in urls]\n",
    "docs_list = [item for sublist in docs for item in sublist]\n",
    "\n",
    "# Initialize a text splitter with specified chunk size and overlap\n",
    "text_splitter = RecursiveCharacterTextSplitter.from_tiktoken_encoder(\n",
    "    chunk_size=250, chunk_overlap=0\n",
    ")\n",
    "\n",
    "# Split the documents into chunks\n",
    "doc_splits = text_splitter.split_documents(docs_list)\n",
    "\n",
    "# Add the document chunks to the \"vector store\" using OpenAIEmbeddings\n",
    "vectorstore = InMemoryVectorStore.from_documents(\n",
    "    documents=doc_splits,\n",
    "    embedding=OpenAIEmbeddings(),\n",
    ")\n",
    "\n",
    "# With langchain we can easily turn any vector store into a retrieval component:\n",
    "retriever = vectorstore.as_retriever(k=6)"
   ]
  },
  {
   "cell_type": "code",
   "execution_count": 7,
   "metadata": {},
   "outputs": [],
   "source": [
    "llm = ChatOpenAI(model=\"gpt-4o\", temperature=1)"
   ]
  },
  {
   "cell_type": "code",
   "execution_count": null,
   "metadata": {},
   "outputs": [],
   "source": [
    "@traceable()\n",
    "def rag_bot(question: str) -> dict:\n",
    "    # langchain Retriever will be automatically traced\n",
    "    docs = retriever.invoke(question)\n",
    "\n",
    "    docs_string = \"  \".join(doc.page_content for doc in docs)\n",
    "    instructions = f\"\"\"You are a helpful assistant who is good at analyzing source information and answering questions.\n",
    "        Use the following source documents to answer the user's questions.\n",
    "        If you don't know the answer, just say that you don't know. \n",
    "        Use three sentences maximum and keep the answer concise.\n",
    "        Documents:\n",
    "        {docs_string}\"\"\"\n",
    "    # langchain ChatModel will be automatically traced\n",
    "    ai_msg = llm.invoke(\n",
    "        [\n",
    "            {\"role\": \"system\", \"content\": instructions},\n",
    "            {\"role\": \"user\", \"content\": question},\n",
    "        ],\n",
    "    )\n",
    "    return {\"answer\": ai_msg.content, \"documents\": docs}\n"
   ]
  },
  {
   "cell_type": "code",
   "execution_count": 29,
   "metadata": {},
   "outputs": [],
   "source": [
    "client = Client()"
   ]
  },
  {
   "cell_type": "code",
   "execution_count": 30,
   "metadata": {},
   "outputs": [],
   "source": [
    "dataset_name = \"Pahalgam attack Blogs Q&A2\""
   ]
  },
  {
   "cell_type": "code",
   "execution_count": 31,
   "metadata": {},
   "outputs": [
    {
     "data": {
      "text/plain": [
       "{'example_ids': ['436b92d4-e675-446f-9be4-1b2254be0a32',\n",
       "  '93cf80fc-2d3a-4609-bda6-0766ecc4f42a',\n",
       "  '5748daad-f595-450f-92b6-52014d5e14e5',\n",
       "  '596d27b8-c0e5-44db-8a28-82723da824c5',\n",
       "  '1e660e82-6b5a-4a26-b40d-ee300e176c95',\n",
       "  '6e1effe3-01d4-4630-be54-bf424060d7eb',\n",
       "  '15b9a63a-8364-4018-ae1e-86e54f3265a0',\n",
       "  '8786186e-93be-4dd9-9ccd-5d46622f076f'],\n",
       " 'count': 8}"
      ]
     },
     "execution_count": 31,
     "metadata": {},
     "output_type": "execute_result"
    }
   ],
   "source": [
    "dataset = client.create_dataset(dataset_name=dataset_name)\n",
    "client.create_examples(\n",
    "    dataset_id=dataset.id,\n",
    "    examples=examples\n",
    ")"
   ]
  },
  {
   "cell_type": "code",
   "execution_count": 32,
   "metadata": {},
   "outputs": [],
   "source": [
    "class CorrectnessGrade(TypedDict):\n",
    "    explanation: Annotated[str, ..., \"Explain your reasoning for the score\"]\n",
    "    correct: Annotated[bool, ..., \"True if the answer is correct, False otherwise.\"]\n",
    "\n",
    "class RelevanceGrade(TypedDict):\n",
    "    explanation: Annotated[str, ..., \"Explain your reasoning for the score\"]\n",
    "    relevant: Annotated[\n",
    "        bool, ..., \"Provide the score on whether the answer addresses the question\"\n",
    "    ]\n",
    "\n",
    "# class GroundedGrade(TypedDict):\n",
    "#     explanation: Annotated[str, ..., \"Explain your reasoning for the score\"]\n",
    "#     grounded: Annotated[\n",
    "#         bool, ..., \"Provide the score on if the answer hallucinates from the documents\"\n",
    "#     ]\n",
    "\n",
    "# class RetrievalRelevanceGrade(TypedDict):\n",
    "#     explanation: Annotated[str, ..., \"Explain your reasoning for the score\"]\n",
    "#     relevant: Annotated[\n",
    "#         bool,\n",
    "#         ...,\n",
    "#         \"True if the retrieved documents are relevant to the question, False otherwise\",\n",
    "#     ]"
   ]
  },
  {
   "cell_type": "code",
   "execution_count": 33,
   "metadata": {},
   "outputs": [],
   "source": [
    "correctness_instructions = \"\"\"You are a teacher grading a quiz. \n",
    "\n",
    "You will be given a QUESTION, the GROUND TRUTH (correct) ANSWER, and the STUDENT ANSWER. \n",
    "\n",
    "Here is the grade criteria to follow:\n",
    "(1) Grade the student answers based ONLY on their factual accuracy relative to the ground truth answer. \n",
    "(2) Ensure that the student answer does not contain any conflicting statements.\n",
    "(3) It is OK if the student answer contains more information than the ground truth answer, as long as it is factually accurate relative to the  ground truth answer.\n",
    "\n",
    "Correctness:\n",
    "A correctness value of True means that the student's answer meets all of the criteria.\n",
    "A correctness value of False means that the student's answer does not meet all of the criteria.\n",
    "\n",
    "Explain your reasoning in a step-by-step manner to ensure your reasoning and conclusion are correct. \n",
    "\n",
    "Avoid simply stating the correct answer at the outset.\"\"\"\n"
   ]
  },
  {
   "cell_type": "code",
   "execution_count": 34,
   "metadata": {},
   "outputs": [],
   "source": [
    "grader_llm = ChatOpenAI(model=\"gpt-4o\", temperature=0).with_structured_output(\n",
    "    CorrectnessGrade, method=\"json_schema\", strict=True\n",
    ")\n",
    "\n",
    "\n",
    "def correctness(inputs: dict, outputs: dict, reference_outputs: dict) -> bool:\n",
    "    \"\"\"An evaluator for RAG answer accuracy\"\"\"\n",
    "    answers = f\"\"\"\\\n",
    "        QUESTION: {inputs['question']}\n",
    "        GROUND TRUTH ANSWER: {reference_outputs['answer']}\n",
    "        STUDENT ANSWER: {outputs['answer']}\"\"\"\n",
    "\n",
    "    # Run evaluator\n",
    "    grade = grader_llm.invoke(\n",
    "        [\n",
    "            {\"role\": \"system\", \"content\": correctness_instructions},\n",
    "            {\"role\": \"user\", \"content\": answers},\n",
    "        ]\n",
    "    )\n",
    "    return grade[\"correct\"]"
   ]
  },
  {
   "cell_type": "code",
   "execution_count": 35,
   "metadata": {},
   "outputs": [],
   "source": [
    "relevance_instructions = \"\"\"You are a teacher grading a quiz. \n",
    "\n",
    "You will be given a QUESTION and a STUDENT ANSWER. \n",
    "\n",
    "Here is the grade criteria to follow:\n",
    "(1) Ensure the STUDENT ANSWER is concise and relevant to the QUESTION\n",
    "(2) Ensure the STUDENT ANSWER helps to answer the QUESTION\n",
    "\n",
    "Relevance:\n",
    "A relevance value of True means that the student's answer meets all of the criteria.\n",
    "A relevance value of False means that the student's answer does not meet all of the criteria.\n",
    "\n",
    "Explain your reasoning in a step-by-step manner to ensure your reasoning and conclusion are correct. \n",
    "\n",
    "Avoid simply stating the correct answer at the outset.\"\"\"\n"
   ]
  },
  {
   "cell_type": "code",
   "execution_count": null,
   "metadata": {},
   "outputs": [],
   "source": [
    "relevance_llm = ChatOpenAI(model=\"gpt-4o\", temperature=0).with_structured_output(\n",
    "    RelevanceGrade, method=\"json_schema\", strict=True\n",
    ")\n",
    "\n",
    "\n",
    "# Evaluator\n",
    "def relevance(inputs: dict, outputs: dict) -> bool:\n",
    "    \"\"\"A simple evaluator for RAG answer helpfulness.\"\"\"\n",
    "    answer = f\"QUESTION: {inputs['question']}\\nSTUDENT ANSWER: {outputs['answer']} \\n\\n GROUND TRUTH ANSWER: {reference_outputs['answer']}\"\n",
    "    grade = relevance_llm.invoke(\n",
    "        [\n",
    "            {\"role\": \"system\", \"content\": relevance_instructions},\n",
    "            {\"role\": \"user\", \"content\": answer},\n",
    "        ]\n",
    "    )\n",
    "    return grade[\"relevant\"]"
   ]
  },
  {
   "cell_type": "code",
   "execution_count": 37,
   "metadata": {},
   "outputs": [],
   "source": [
    "# grounded_instructions = \"\"\"You are a teacher grading a quiz. \n",
    "\n",
    "# You will be given FACTS and a STUDENT ANSWER. \n",
    "\n",
    "# Here is the grade criteria to follow:\n",
    "# (1) Ensure the STUDENT ANSWER is grounded in the FACTS. \n",
    "# (2) Ensure the STUDENT ANSWER does not contain \"hallucinated\" information outside the scope of the FACTS.\n",
    "\n",
    "# Grounded:\n",
    "# A grounded value of True means that the student's answer meets all of the criteria.\n",
    "# A grounded value of False means that the student's answer does not meet all of the criteria.\n",
    "\n",
    "# Explain your reasoning in a step-by-step manner to ensure your reasoning and conclusion are correct. \n",
    "\n",
    "# Avoid simply stating the correct answer at the outset.\"\"\""
   ]
  },
  {
   "cell_type": "code",
   "execution_count": 38,
   "metadata": {},
   "outputs": [],
   "source": [
    "# grounded_llm = ChatOpenAI(model=\"gpt-4o\", temperature=0).with_structured_output(\n",
    "#     GroundedGrade, method=\"json_schema\", strict=True\n",
    "# )\n",
    "\n",
    "\n",
    "# # Evaluator\n",
    "# def groundedness(inputs: dict, outputs: dict) -> bool:\n",
    "#     \"\"\"A simple evaluator for RAG answer groundedness.\"\"\"\n",
    "#     doc_string = \"\\n\\n\".join(doc.page_content for doc in outputs[\"documents\"])\n",
    "#     answer = f\"FACTS: {doc_string}\\nSTUDENT ANSWER: {outputs['answer']}\"\n",
    "#     grade = grounded_llm.invoke(\n",
    "#         [\n",
    "#             {\"role\": \"system\", \"content\": grounded_instructions},\n",
    "#             {\"role\": \"user\", \"content\": answer},\n",
    "#         ]\n",
    "#     )\n",
    "#     return grade[\"grounded\"]"
   ]
  },
  {
   "cell_type": "code",
   "execution_count": 39,
   "metadata": {},
   "outputs": [],
   "source": [
    "# retrieval_relevance_instructions = \"\"\"You are a teacher grading a quiz. \n",
    "\n",
    "# You will be given a QUESTION and a set of FACTS provided by the student. \n",
    "\n",
    "# Here is the grade criteria to follow:\n",
    "# (1) You goal is to identify FACTS that are completely unrelated to the QUESTION\n",
    "# (2) If the facts contain ANY keywords or semantic meaning related to the question, consider them relevant\n",
    "# (3) It is OK if the facts have SOME information that is unrelated to the question as long as (2) is met\n",
    "\n",
    "# Relevance:\n",
    "# A relevance value of True means that the FACTS contain ANY keywords or semantic meaning related to the QUESTION and are therefore relevant.\n",
    "# A relevance value of False means that the FACTS are completely unrelated to the QUESTION.\n",
    "\n",
    "# Explain your reasoning in a step-by-step manner to ensure your reasoning and conclusion are correct. \n",
    "\n",
    "# Avoid simply stating the correct answer at the outset.\"\"\""
   ]
  },
  {
   "cell_type": "code",
   "execution_count": 40,
   "metadata": {},
   "outputs": [],
   "source": [
    "# retrieval_relevance_llm = ChatOpenAI(\n",
    "#     model=\"gpt-4o\", temperature=0\n",
    "# ).with_structured_output(RetrievalRelevanceGrade, method=\"json_schema\", strict=True)\n",
    "\n",
    "\n",
    "# def retrieval_relevance(inputs: dict, outputs: dict) -> bool:\n",
    "#     \"\"\"An evaluator for document relevance\"\"\"\n",
    "#     doc_string = \"\\n\\n\".join(doc.page_content for doc in outputs[\"documents\"])\n",
    "#     answer = f\"FACTS: {doc_string}\\nQUESTION: {inputs['question']}\"\n",
    "\n",
    "#     # Run evaluator\n",
    "#     grade = retrieval_relevance_llm.invoke(\n",
    "#         [\n",
    "#             {\"role\": \"system\", \"content\": retrieval_relevance_instructions},\n",
    "#             {\"role\": \"user\", \"content\": answer},\n",
    "#         ]\n",
    "#     )\n",
    "#     return grade[\"relevant\"]"
   ]
  },
  {
   "cell_type": "code",
   "execution_count": 41,
   "metadata": {},
   "outputs": [],
   "source": [
    "def target(inputs: dict) -> dict:\n",
    "    return rag_bot(inputs[\"question\"])"
   ]
  },
  {
   "cell_type": "code",
   "execution_count": 43,
   "metadata": {},
   "outputs": [
    {
     "name": "stdout",
     "output_type": "stream",
     "text": [
      "View the evaluation results for experiment: 'rag-doc-relevance2-ac44f905' at:\n",
      "https://smith.langchain.com/o/aa8f96d0-a69d-4f38-9273-1ebe8cbd672b/datasets/424e6cd5-f6fc-4fa0-bcd9-5711cc433540/compare?selectedSessions=27fecb01-8c4a-47f1-91ad-26fb1105a62f\n",
      "\n",
      "\n"
     ]
    },
    {
     "name": "stderr",
     "output_type": "stream",
     "text": [
      "8it [01:11,  8.92s/it]\n"
     ]
    }
   ],
   "source": [
    "experiment_results = client.evaluate(\n",
    "    target,\n",
    "    data=dataset_name, \n",
    "    evaluators=[correctness, relevance], # groundedness, , retrieval_relevance],\n",
    "    experiment_prefix=\"rag-doc-relevance2\",\n",
    "    metadata={\"version\": \"LCEL context, gpt-4-0125-preview\"},\n",
    ")"
   ]
  },
  {
   "cell_type": "code",
   "execution_count": null,
   "metadata": {},
   "outputs": [],
   "source": []
  }
 ],
 "metadata": {
  "kernelspec": {
   "display_name": ".venv",
   "language": "python",
   "name": "python3"
  },
  "language_info": {
   "codemirror_mode": {
    "name": "ipython",
    "version": 3
   },
   "file_extension": ".py",
   "mimetype": "text/x-python",
   "name": "python",
   "nbconvert_exporter": "python",
   "pygments_lexer": "ipython3",
   "version": "3.11.5"
  }
 },
 "nbformat": 4,
 "nbformat_minor": 2
}
