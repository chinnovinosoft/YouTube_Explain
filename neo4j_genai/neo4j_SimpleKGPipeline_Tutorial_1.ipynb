{
 "cells": [
  {
   "cell_type": "code",
   "execution_count": 2,
   "metadata": {},
   "outputs": [],
   "source": [
    "import nest_asyncio\n",
    "nest_asyncio.apply()\n"
   ]
  },
  {
   "cell_type": "code",
   "execution_count": null,
   "metadata": {},
   "outputs": [],
   "source": [
    "# from dotenv import load_dotenv\n",
    "# import os"
   ]
  },
  {
   "cell_type": "code",
   "execution_count": 4,
   "metadata": {},
   "outputs": [],
   "source": [
    "import asyncio\n",
    "from pathlib import Path\n",
    "\n",
    "import neo4j\n",
    "from neo4j_graphrag.embeddings import OpenAIEmbeddings\n",
    "from neo4j_graphrag.experimental.pipeline.kg_builder import SimpleKGPipeline\n",
    "from neo4j_graphrag.experimental.pipeline.pipeline import PipelineResult\n",
    "from neo4j_graphrag.llm import LLMInterface\n",
    "from neo4j_graphrag.llm import OpenAILLM"
   ]
  },
  {
   "cell_type": "code",
   "execution_count": null,
   "metadata": {},
   "outputs": [],
   "source": [
    "URI = \"\"\n",
    "AUTH = (\"neo4j\", \"\")\n",
    "DATABASE = \"neo4j\"\n"
   ]
  },
  {
   "cell_type": "code",
   "execution_count": 6,
   "metadata": {},
   "outputs": [],
   "source": [
    "file_path = \"Harry Potter and the Chamber of Secrets Summary.pdf\""
   ]
  },
  {
   "cell_type": "code",
   "execution_count": 7,
   "metadata": {},
   "outputs": [],
   "source": [
    "ENTITIES = [\"Person\", \"Organization\", \"Location\"]\n",
    "RELATIONS = [\"SITUATED_AT\", \"INTERACTS\", \"LED_BY\"]\n",
    "POTENTIAL_SCHEMA = [\n",
    "    (\"Person\", \"SITUATED_AT\", \"Location\"),\n",
    "    (\"Person\", \"INTERACTS\", \"Person\"),\n",
    "    (\"Organization\", \"LED_BY\", \"Person\"),\n",
    "]"
   ]
  },
  {
   "cell_type": "code",
   "execution_count": null,
   "metadata": {},
   "outputs": [],
   "source": [
    "llm = OpenAILLM(\n",
    "    model_name=\"gpt-4o\",\n",
    "    model_params={\n",
    "        \"max_tokens\": 2000,\n",
    "        \"response_format\": {\"type\": \"json_object\"},\n",
    "    },\n",
    ")"
   ]
  },
  {
   "cell_type": "code",
   "execution_count": 9,
   "metadata": {},
   "outputs": [],
   "source": [
    "neo4j_driver=neo4j.GraphDatabase.driver(URI, auth=AUTH)"
   ]
  },
  {
   "cell_type": "code",
   "execution_count": null,
   "metadata": {},
   "outputs": [],
   "source": [
    "kg_builder = SimpleKGPipeline(\n",
    "        llm=llm,\n",
    "        driver=neo4j_driver,\n",
    "        embedder=OpenAIEmbeddings(),\n",
    "        entities=ENTITIES,\n",
    "        relations=RELATIONS,\n",
    "        potential_schema=POTENTIAL_SCHEMA,\n",
    "        neo4j_database=DATABASE,\n",
    "    )"
   ]
  },
  {
   "cell_type": "code",
   "execution_count": 11,
   "metadata": {},
   "outputs": [
    {
     "name": "stdout",
     "output_type": "stream",
     "text": [
      "run_id='e07387c8-78c5-4a73-8b58-36b18c5de824' result={'resolver': {'number_of_nodes_to_resolve': 34, 'number_of_created_nodes': 27}}\n"
     ]
    }
   ],
   "source": [
    "res = await kg_builder.run_async(file_path=str(file_path))\n",
    "print(res)"
   ]
  },
  {
   "cell_type": "code",
   "execution_count": 12,
   "metadata": {},
   "outputs": [],
   "source": [
    "import asyncio\n",
    "import logging\n",
    "\n",
    "import neo4j\n",
    "from neo4j_graphrag.embeddings import OpenAIEmbeddings\n",
    "from neo4j_graphrag.experimental.pipeline.kg_builder import SimpleKGPipeline\n",
    "from neo4j_graphrag.experimental.pipeline.pipeline import PipelineResult\n",
    "from neo4j_graphrag.experimental.pipeline.types.schema import (\n",
    "    EntityInputType,\n",
    "    RelationInputType,\n",
    ")\n",
    "from neo4j_graphrag.llm import LLMInterface\n",
    "from neo4j_graphrag.llm import OpenAILLM"
   ]
  },
  {
   "cell_type": "code",
   "execution_count": 16,
   "metadata": {},
   "outputs": [],
   "source": [
    "TEXT = \"\"\"\n",
    "KCR is the Chief Minister of Telangana. Telangana is a state in India. Infosys has an office in Hyderabad. Hyderabad is the capital of Telangana.\n",
    "Telangana was formed on June 2, 2014, becoming India's 29th state. Hyderabad, known for its rich history and architecture, was founded in 1591 by Muhammad Quli Qutb Shah. The city is home to landmarks like the Charminar and Golconda Fort.\n",
    "The state is traversed by major rivers such as the Godavari and Krishna, supporting its predominantly agrarian economy. Telangana is a leading producer of rice, cotton, and mangoes. Additionally, it has a significant IT industry presence, with companies like Infosys and Microsoft operating in Hyderabad.\n",
    "Telangana is also known for its diverse culture, with festivals like Bathukamma and Bonalu celebrated widely.\n",
    "\"\"\""
   ]
  },
  {
   "cell_type": "code",
   "execution_count": 17,
   "metadata": {},
   "outputs": [],
   "source": [
    "ENTITIES = [\"Person\", \"Organization\", \"City\", \"State\", \"Country\", \"River\", \"Monument\", \"Festival\"]\n",
    "RELATIONS = [\"LEADS\", \"LOCATED_IN\", \"HAS_OFFICE\", \"CAPITAL_OF\", \"FOUNDED_BY\", \"FLOWS_THROUGH\", \"CELEBRATES\"]\n",
    "POTENTIAL_SCHEMA = [\n",
    "    (\"Person\", \"LEADS\", \"State\"),\n",
    "    (\"State\", \"LOCATED_IN\", \"Country\"),\n",
    "    (\"Organization\", \"HAS_OFFICE\", \"City\"),\n",
    "    (\"City\", \"CAPITAL_OF\", \"State\"),\n",
    "    (\"City\", \"FOUNDED_BY\", \"Person\"),\n",
    "    (\"River\", \"FLOWS_THROUGH\", \"State\"),\n",
    "    (\"State\", \"CELEBRATES\", \"Festival\"),\n",
    "]\n"
   ]
  },
  {
   "cell_type": "code",
   "execution_count": null,
   "metadata": {},
   "outputs": [],
   "source": [
    "text_kg_builder = SimpleKGPipeline(\n",
    "    llm=llm,\n",
    "        driver=neo4j_driver,\n",
    "        embedder=OpenAIEmbeddings(),\n",
    "        entities=ENTITIES,\n",
    "        relations=RELATIONS,\n",
    "        potential_schema=POTENTIAL_SCHEMA,\n",
    "        neo4j_database=DATABASE,\n",
    "        from_pdf=False\n",
    ")"
   ]
  },
  {
   "cell_type": "code",
   "execution_count": 20,
   "metadata": {},
   "outputs": [
    {
     "name": "stdout",
     "output_type": "stream",
     "text": [
      "run_id='81162916-f8ce-421a-bfa0-78413bace6ab' result={'resolver': {'number_of_nodes_to_resolve': 37, 'number_of_created_nodes': 37}}\n"
     ]
    }
   ],
   "source": [
    "res = await text_kg_builder.run_async(text=TEXT)\n",
    "print(res)"
   ]
  },
  {
   "cell_type": "code",
   "execution_count": null,
   "metadata": {},
   "outputs": [],
   "source": []
  }
 ],
 "metadata": {
  "kernelspec": {
   "display_name": ".venv",
   "language": "python",
   "name": "python3"
  },
  "language_info": {
   "codemirror_mode": {
    "name": "ipython",
    "version": 3
   },
   "file_extension": ".py",
   "mimetype": "text/x-python",
   "name": "python",
   "nbconvert_exporter": "python",
   "pygments_lexer": "ipython3",
   "version": "3.11.5"
  }
 },
 "nbformat": 4,
 "nbformat_minor": 2
}
