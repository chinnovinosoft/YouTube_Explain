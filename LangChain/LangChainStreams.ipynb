{
 "cells": [
  {
   "cell_type": "code",
   "execution_count": 1,
   "metadata": {},
   "outputs": [],
   "source": [
    "import getpass\n",
    "import os\n",
    "\n",
    "os.environ[\"OPENAI_API_KEY\"] = \"sk-\"\n",
    "\n",
    "from langchain_openai import ChatOpenAI\n",
    "\n",
    "model = ChatOpenAI(model=\"gpt-4o-mini\")"
   ]
  },
  {
   "cell_type": "code",
   "execution_count": 17,
   "metadata": {},
   "outputs": [
    {
     "data": {
      "text/plain": [
       "AIMessage(content=\"The color of the sky can vary depending on several factors, including the time of day, weather conditions, and atmospheric particles. Generally, during a clear day, the sky appears blue due to the scattering of sunlight by the Earth's atmosphere. This phenomenon is known as Rayleigh scattering. At sunrise and sunset, the sky may display shades of orange, pink, and red as the sunlight passes through a thicker layer of the atmosphere, scattering shorter wavelengths and allowing longer wavelengths to predominate. On cloudy or overcast days, the sky may appear gray.\", additional_kwargs={'refusal': None}, response_metadata={'token_usage': {'completion_tokens': 110, 'prompt_tokens': 13, 'total_tokens': 123, 'completion_tokens_details': {'audio_tokens': None, 'reasoning_tokens': 0}, 'prompt_tokens_details': {'audio_tokens': None, 'cached_tokens': 0}}, 'model_name': 'gpt-4o-mini-2024-07-18', 'system_fingerprint': 'fp_e2bde53e6e', 'finish_reason': 'stop', 'logprobs': None}, id='run-fd9cdbce-ff16-4d71-8f39-5bc55b816265-0', usage_metadata={'input_tokens': 13, 'output_tokens': 110, 'total_tokens': 123, 'input_token_details': {'cache_read': 0}, 'output_token_details': {'reasoning': 0}})"
      ]
     },
     "execution_count": 17,
     "metadata": {},
     "output_type": "execute_result"
    }
   ],
   "source": [
    "model.invoke(\"what color is the sky?\")"
   ]
  },
  {
   "cell_type": "code",
   "execution_count": 18,
   "metadata": {},
   "outputs": [
    {
     "name": "stdout",
     "output_type": "stream",
     "text": [
      "|The| color| of| the| sky| can| vary| depending| on| several| factors|,| including| the| time| of| day| and| weather| conditions|.| During| a| clear| day|,| the| sky| appears| blue| due| to| the| scattering| of| sunlight| by| the| Earth's| atmosphere|.| This| phenomenon|,| known| as| Ray|leigh| scattering|,| causes| shorter| blue| wavelengths| of| light| to| be| scattered| more| than| other| colors|.| \n",
      "\n",
      "|At| sunrise| and| sunset|,| the| sky| can| take| on| shades| of| orange|,| pink|,| and| red| due| to| the| angle| of| the| sun| and| the| increased| distance| the| sunlight| travels| through| the| atmosphere|,| which| scat|ters| the| shorter| wavelengths| and| allows| the| longer| wavelengths| to| dominate|.| On| cloudy| or| over|cast| days|,| the| sky| may| appear| gray| or| white|.| At| night|,| the| sky| appears| black|,| dotted| with| stars| and| celestial| objects|.||"
     ]
    }
   ],
   "source": [
    "chunks = []\n",
    "for chunk in model.stream(\"what color is the sky?\"):\n",
    "    chunks.append(chunk)\n",
    "    print(chunk.content, end=\"|\", flush=True)"
   ]
  },
  {
   "cell_type": "code",
   "execution_count": 20,
   "metadata": {},
   "outputs": [
    {
     "data": {
      "text/plain": [
       "AIMessageChunk(content=' can', additional_kwargs={}, response_metadata={}, id='run-7e065c85-fb01-45ad-81bd-2b6fd57c4b58')"
      ]
     },
     "execution_count": 20,
     "metadata": {},
     "output_type": "execute_result"
    }
   ],
   "source": [
    "chunks[6]"
   ]
  },
  {
   "cell_type": "markdown",
   "metadata": {},
   "source": [
    "###We got back something called an AIMessageChunk. This chunk represents a part of an AIMessage."
   ]
  },
  {
   "cell_type": "code",
   "execution_count": 21,
   "metadata": {},
   "outputs": [],
   "source": [
    "from langchain_core.output_parsers import StrOutputParser\n",
    "from langchain_core.prompts import ChatPromptTemplate"
   ]
  },
  {
   "cell_type": "code",
   "execution_count": 22,
   "metadata": {},
   "outputs": [],
   "source": [
    "prompt = ChatPromptTemplate.from_template(\"tell me a joke about {topic}\")\n",
    "parser = StrOutputParser()\n",
    "chain = prompt | model #| parser"
   ]
  },
  {
   "cell_type": "code",
   "execution_count": 23,
   "metadata": {},
   "outputs": [
    {
     "name": "stdout",
     "output_type": "stream",
     "text": [
      "content='' additional_kwargs={} response_metadata={} id='run-d29b793b-b17a-4dd2-bc26-83674ef19d47'|content='Why' additional_kwargs={} response_metadata={} id='run-d29b793b-b17a-4dd2-bc26-83674ef19d47'|content=' did' additional_kwargs={} response_metadata={} id='run-d29b793b-b17a-4dd2-bc26-83674ef19d47'|content=' the' additional_kwargs={} response_metadata={} id='run-d29b793b-b17a-4dd2-bc26-83674ef19d47'|content=' par' additional_kwargs={} response_metadata={} id='run-d29b793b-b17a-4dd2-bc26-83674ef19d47'|content='rot' additional_kwargs={} response_metadata={} id='run-d29b793b-b17a-4dd2-bc26-83674ef19d47'|content=' wear' additional_kwargs={} response_metadata={} id='run-d29b793b-b17a-4dd2-bc26-83674ef19d47'|content=' a' additional_kwargs={} response_metadata={} id='run-d29b793b-b17a-4dd2-bc26-83674ef19d47'|content=' rain' additional_kwargs={} response_metadata={} id='run-d29b793b-b17a-4dd2-bc26-83674ef19d47'|content='coat' additional_kwargs={} response_metadata={} id='run-d29b793b-b17a-4dd2-bc26-83674ef19d47'|content='?' additional_kwargs={} response_metadata={} id='run-d29b793b-b17a-4dd2-bc26-83674ef19d47'|content=' \\n\\n' additional_kwargs={} response_metadata={} id='run-d29b793b-b17a-4dd2-bc26-83674ef19d47'|content='Because' additional_kwargs={} response_metadata={} id='run-d29b793b-b17a-4dd2-bc26-83674ef19d47'|content=' it' additional_kwargs={} response_metadata={} id='run-d29b793b-b17a-4dd2-bc26-83674ef19d47'|content=' wanted' additional_kwargs={} response_metadata={} id='run-d29b793b-b17a-4dd2-bc26-83674ef19d47'|content=' to' additional_kwargs={} response_metadata={} id='run-d29b793b-b17a-4dd2-bc26-83674ef19d47'|content=' be' additional_kwargs={} response_metadata={} id='run-d29b793b-b17a-4dd2-bc26-83674ef19d47'|content=' a' additional_kwargs={} response_metadata={} id='run-d29b793b-b17a-4dd2-bc26-83674ef19d47'|content=' poly' additional_kwargs={} response_metadata={} id='run-d29b793b-b17a-4dd2-bc26-83674ef19d47'|content='-' additional_kwargs={} response_metadata={} id='run-d29b793b-b17a-4dd2-bc26-83674ef19d47'|content='ester' additional_kwargs={} response_metadata={} id='run-d29b793b-b17a-4dd2-bc26-83674ef19d47'|content='!' additional_kwargs={} response_metadata={} id='run-d29b793b-b17a-4dd2-bc26-83674ef19d47'|content='' additional_kwargs={} response_metadata={'finish_reason': 'stop', 'model_name': 'gpt-4o-mini-2024-07-18', 'system_fingerprint': 'fp_e2bde53e6e'} id='run-d29b793b-b17a-4dd2-bc26-83674ef19d47'|"
     ]
    }
   ],
   "source": [
    "async for chunk in chain.astream({\"topic\": \"parrot\"}):\n",
    "    print(chunk, end=\"|\", flush=True)"
   ]
  },
  {
   "cell_type": "code",
   "execution_count": 27,
   "metadata": {},
   "outputs": [],
   "source": [
    "prompt = ChatPromptTemplate.from_template(\"tell me a joke about {topic}\")\n",
    "parser = StrOutputParser()\n",
    "chain = prompt | model | parser"
   ]
  },
  {
   "cell_type": "code",
   "execution_count": 28,
   "metadata": {},
   "outputs": [
    {
     "name": "stdout",
     "output_type": "stream",
     "text": [
      "|Why| did| the| par|rot| wear| a| rain|coat|?\n",
      "\n",
      "|Because| it| wanted| to| be| a| poly|-|ester|!||"
     ]
    }
   ],
   "source": [
    "async for chunk in chain.astream({\"topic\": \"parrot\"}):\n",
    "    print(chunk, end=\"|\", flush=True)"
   ]
  },
  {
   "cell_type": "code",
   "execution_count": null,
   "metadata": {},
   "outputs": [],
   "source": []
  },
  {
   "cell_type": "code",
   "execution_count": null,
   "metadata": {},
   "outputs": [],
   "source": []
  },
  {
   "cell_type": "code",
   "execution_count": 29,
   "metadata": {},
   "outputs": [
    {
     "name": "stdout",
     "output_type": "stream",
     "text": [
      "{}\n",
      "{'countries': []}\n",
      "{'countries': [{}]}\n",
      "{'countries': [{'name': ''}]}\n",
      "{'countries': [{'name': 'France'}]}\n",
      "{'countries': [{'name': 'France', 'population': 652}]}\n",
      "{'countries': [{'name': 'France', 'population': 652735}]}\n",
      "{'countries': [{'name': 'France', 'population': 65273511}]}\n",
      "{'countries': [{'name': 'France', 'population': 65273511}, {}]}\n",
      "{'countries': [{'name': 'France', 'population': 65273511}, {'name': ''}]}\n",
      "{'countries': [{'name': 'France', 'population': 65273511}, {'name': 'Spain'}]}\n",
      "{'countries': [{'name': 'France', 'population': 65273511}, {'name': 'Spain', 'population': 467}]}\n",
      "{'countries': [{'name': 'France', 'population': 65273511}, {'name': 'Spain', 'population': 467547}]}\n",
      "{'countries': [{'name': 'France', 'population': 65273511}, {'name': 'Spain', 'population': 46754778}]}\n",
      "{'countries': [{'name': 'France', 'population': 65273511}, {'name': 'Spain', 'population': 46754778}, {}]}\n",
      "{'countries': [{'name': 'France', 'population': 65273511}, {'name': 'Spain', 'population': 46754778}, {'name': ''}]}\n",
      "{'countries': [{'name': 'France', 'population': 65273511}, {'name': 'Spain', 'population': 46754778}, {'name': 'Japan'}]}\n",
      "{'countries': [{'name': 'France', 'population': 65273511}, {'name': 'Spain', 'population': 46754778}, {'name': 'Japan', 'population': 126}]}\n",
      "{'countries': [{'name': 'France', 'population': 65273511}, {'name': 'Spain', 'population': 46754778}, {'name': 'Japan', 'population': 126476}]}\n",
      "{'countries': [{'name': 'France', 'population': 65273511}, {'name': 'Spain', 'population': 46754778}, {'name': 'Japan', 'population': 126476461}]}\n"
     ]
    }
   ],
   "source": [
    "from langchain_core.output_parsers import JsonOutputParser\n",
    "\n",
    "chain = (\n",
    "    model | JsonOutputParser()\n",
    ")\n",
    "async for text in chain.astream(\n",
    "    \"output a list of the countries france, spain and japan and their populations in JSON format. \"\n",
    "    'Use a dict with an outer key of \"countries\" which contains a list of countries. '\n",
    "    \"Each country should have the key `name` and `population`\"\n",
    "):\n",
    "    print(text, flush=True)"
   ]
  },
  {
   "cell_type": "code",
   "execution_count": null,
   "metadata": {},
   "outputs": [],
   "source": []
  }
 ],
 "metadata": {
  "kernelspec": {
   "display_name": "Python 3 (ipykernel)",
   "language": "python",
   "name": "python3"
  },
  "language_info": {
   "codemirror_mode": {
    "name": "ipython",
    "version": 3
   },
   "file_extension": ".py",
   "mimetype": "text/x-python",
   "name": "python",
   "nbconvert_exporter": "python",
   "pygments_lexer": "ipython3",
   "version": "3.12.4"
  }
 },
 "nbformat": 4,
 "nbformat_minor": 2
}
