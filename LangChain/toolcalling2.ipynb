{
 "cells": [
  {
   "cell_type": "markdown",
   "metadata": {},
   "source": [
    "###Remember, while the name \"tool calling\" implies that the model is directly performing some action, this is actually not the case! The model only generates the arguments to a tool, and actually running the tool (or not) is up to the user."
   ]
  },
  {
   "cell_type": "code",
   "execution_count": 2,
   "metadata": {},
   "outputs": [],
   "source": [
    "import getpass\n",
    "import os\n",
    "\n",
    "os.environ[\"OPENAI_API_KEY\"] = \"sk-\"\n",
    "\n",
    "from langchain_openai import ChatOpenAI\n",
    "\n",
    "llm = ChatOpenAI(model=\"gpt-4o-mini\")"
   ]
  },
  {
   "cell_type": "code",
   "execution_count": 33,
   "metadata": {},
   "outputs": [
    {
     "data": {
      "text/plain": [
       "AIMessage(content=\"I don't have real-time data access to provide current weather information. To check the current weather in Hyderabad, please refer to a reliable weather website or app, such as the Weather Channel, AccuWeather, or a local meteorological service.\", additional_kwargs={'refusal': None}, response_metadata={'token_usage': {'completion_tokens': 48, 'prompt_tokens': 14, 'total_tokens': 62, 'completion_tokens_details': {'audio_tokens': None, 'reasoning_tokens': 0}, 'prompt_tokens_details': {'audio_tokens': None, 'cached_tokens': 0}}, 'model_name': 'gpt-4o-mini-2024-07-18', 'system_fingerprint': 'fp_8552ec53e1', 'finish_reason': 'stop', 'logprobs': None}, id='run-aa43d9c5-e9c2-4bbe-abee-d5662f04e6d9-0', usage_metadata={'input_tokens': 14, 'output_tokens': 48, 'total_tokens': 62, 'input_token_details': {'cache_read': 0}, 'output_token_details': {'reasoning': 0}})"
      ]
     },
     "execution_count": 33,
     "metadata": {},
     "output_type": "execute_result"
    }
   ],
   "source": [
    "llm.invoke(\"What is the weather in hyderabad\")"
   ]
  },
  {
   "cell_type": "code",
   "execution_count": 24,
   "metadata": {},
   "outputs": [],
   "source": [
    "from langchain_core.tools import tool\n",
    "\n",
    "@tool\n",
    "def sum_marks(subjects: list[int]) -> int:\n",
    "    \"\"\"Adds all the list of subject values passed\"\"\"\n",
    "    sum = 0\n",
    "    for sub in subjects:\n",
    "        sum = sum+sub \n",
    "    return sum\n",
    "@tool\n",
    "def avg_marks(subjects: list[int]) -> int:\n",
    "    \"\"\"Average all the list of subject values passed\"\"\"\n",
    "    num = len(subjects)\n",
    "    sum = 0\n",
    "    for sub in subjects:\n",
    "        sum = sum+sub \n",
    "    return sum\n",
    "    avg =  sum/num\n",
    "    return avg\n",
    "\n",
    "tools = [sum_marks, avg_marks]\n",
    "llm_with_tools = llm.bind_tools(tools)"
   ]
  },
  {
   "cell_type": "code",
   "execution_count": 28,
   "metadata": {},
   "outputs": [],
   "source": [
    "from langchain_core.messages import HumanMessage\n",
    "\n",
    "query = \"What is sum and avg marks praveen has got , his marks are 80,67,89,77,73?\"\n",
    "\n",
    "messages = [HumanMessage(query)]\n",
    "\n",
    "ai_message =  llm_with_tools.invoke(messages)\n",
    "\n",
    "messages.append(ai_message)"
   ]
  },
  {
   "cell_type": "code",
   "execution_count": 29,
   "metadata": {},
   "outputs": [
    {
     "name": "stdout",
     "output_type": "stream",
     "text": [
      "content='' additional_kwargs={'tool_calls': [{'id': 'call_1dSZaqgReIyqSXouKNKlJx0p', 'function': {'arguments': '{\"subjects\": [80, 67, 89, 77, 73]}', 'name': 'sum_marks'}, 'type': 'function'}, {'id': 'call_eBnIe3v1e6ZojXKZZ3sK8573', 'function': {'arguments': '{\"subjects\": [80, 67, 89, 77, 73]}', 'name': 'avg_marks'}, 'type': 'function'}], 'refusal': None} response_metadata={'token_usage': {'completion_tokens': 61, 'prompt_tokens': 97, 'total_tokens': 158, 'completion_tokens_details': {'audio_tokens': None, 'reasoning_tokens': 0}, 'prompt_tokens_details': {'audio_tokens': None, 'cached_tokens': 0}}, 'model_name': 'gpt-4o-mini-2024-07-18', 'system_fingerprint': 'fp_e2bde53e6e', 'finish_reason': 'tool_calls', 'logprobs': None} id='run-8354484d-9c27-4e5a-ae63-3705434e3634-0' tool_calls=[{'name': 'sum_marks', 'args': {'subjects': [80, 67, 89, 77, 73]}, 'id': 'call_1dSZaqgReIyqSXouKNKlJx0p', 'type': 'tool_call'}, {'name': 'avg_marks', 'args': {'subjects': [80, 67, 89, 77, 73]}, 'id': 'call_eBnIe3v1e6ZojXKZZ3sK8573', 'type': 'tool_call'}] usage_metadata={'input_tokens': 97, 'output_tokens': 61, 'total_tokens': 158, 'input_token_details': {'cache_read': 0}, 'output_token_details': {'reasoning': 0}}\n"
     ]
    }
   ],
   "source": [
    "print(ai_message)"
   ]
  },
  {
   "cell_type": "markdown",
   "metadata": {},
   "source": [
    "content='' additional_kwargs={'tool_calls': \n",
    "\n",
    "[{'id': 'call_wl368D3mPyKqp8SdTtR0f6hw', 'function': {'arguments': '{\"subjects\": [80, 67, 89, 77, 73]}', 'name': 'sum_marks'}, 'type': 'function'}, {'id': 'call_FufoWgy3p0sFEkQms6iTEx34', 'function': {'arguments': '{\"subjects\": [80, 67, 89, 77, 73]}', 'name': 'avg_marks'}, 'type': 'function'}]\n",
    "\n",
    ", 'refusal': None} response_metadata={'token_usage': {'completion_tokens': 61, 'prompt_tokens': 97, 'total_tokens': 158, 'completion_tokens_details': {'audio_tokens': None, 'reasoning_tokens': 0}, 'prompt_tokens_details': {'audio_tokens': None, 'cached_tokens': 0}}, 'model_name': 'gpt-4o-mini-2024-07-18', 'system_fingerprint': 'fp_e2bde53e6e', 'finish_reason': 'tool_calls', 'logprobs': None} id='run-ee28c17f-dc6c-431d-bb5d-903271865809-0' tool_calls=[{'name': 'sum_marks', 'args': {'subjects': [80, 67, 89, 77, 73]}, 'id': 'call_wl368D3mPyKqp8SdTtR0f6hw', 'type': 'tool_call'}, {'name': 'avg_marks', 'args': {'subjects': [80, 67, 89, 77, 73]}, 'id': 'call_FufoWgy3p0sFEkQms6iTEx34', 'type': 'tool_call'}] usage_metadata={'input_tokens': 97, 'output_tokens': 61, 'total_tokens': 158, 'input_token_details': {'cache_read': 0}, 'output_token_details': {'reasoning': 0}}\n"
   ]
  },
  {
   "cell_type": "code",
   "execution_count": 30,
   "metadata": {},
   "outputs": [
    {
     "name": "stdout",
     "output_type": "stream",
     "text": [
      "tool_call :::::>>>>>  {'name': 'sum_marks', 'args': {'subjects': [80, 67, 89, 77, 73]}, 'id': 'call_1dSZaqgReIyqSXouKNKlJx0p', 'type': 'tool_call'}\n",
      "selected_tool ::::::>>>>>  name='sum_marks' description='Adds all the list of subject values passed' args_schema=<class 'langchain_core.utils.pydantic.sum_marks'> func=<function sum_marks at 0x1149a7c40>\n",
      "tool_msg:::::>>>> content='386' name='sum_marks' tool_call_id='call_1dSZaqgReIyqSXouKNKlJx0p'\n",
      "tool_call :::::>>>>>  {'name': 'avg_marks', 'args': {'subjects': [80, 67, 89, 77, 73]}, 'id': 'call_eBnIe3v1e6ZojXKZZ3sK8573', 'type': 'tool_call'}\n",
      "selected_tool ::::::>>>>>  name='avg_marks' description='Average all the list of subject values passed' args_schema=<class 'langchain_core.utils.pydantic.avg_marks'> func=<function avg_marks at 0x1149a42c0>\n",
      "tool_msg:::::>>>> content='386' name='avg_marks' tool_call_id='call_eBnIe3v1e6ZojXKZZ3sK8573'\n"
     ]
    }
   ],
   "source": [
    "for tool_call in ai_message.tool_calls:\n",
    "    # print(\"tool_call :::::>>>>> \",tool_call)\n",
    "    selected_tool = {\"sum_marks\": sum_marks, \"avg_marks\": avg_marks}[tool_call[\"name\"].lower()]\n",
    "    # print(\"selected_tool ::::::>>>>> \",selected_tool)\n",
    "    tool_msg = selected_tool.invoke(tool_call)\n",
    "    # print(\"tool_msg:::::>>>>\",tool_msg)\n",
    "    messages.append(tool_msg)"
   ]
  },
  {
   "cell_type": "code",
   "execution_count": null,
   "metadata": {},
   "outputs": [],
   "source": []
  },
  {
   "cell_type": "code",
   "execution_count": 34,
   "metadata": {},
   "outputs": [
    {
     "data": {
      "text/plain": [
       "[HumanMessage(content='What is sum and avg marks praveen has got , his marks are 80,67,89,77,73?', additional_kwargs={}, response_metadata={}),\n",
       " AIMessage(content='', additional_kwargs={'tool_calls': [{'id': 'call_1dSZaqgReIyqSXouKNKlJx0p', 'function': {'arguments': '{\"subjects\": [80, 67, 89, 77, 73]}', 'name': 'sum_marks'}, 'type': 'function'}, {'id': 'call_eBnIe3v1e6ZojXKZZ3sK8573', 'function': {'arguments': '{\"subjects\": [80, 67, 89, 77, 73]}', 'name': 'avg_marks'}, 'type': 'function'}], 'refusal': None}, response_metadata={'token_usage': {'completion_tokens': 61, 'prompt_tokens': 97, 'total_tokens': 158, 'completion_tokens_details': {'audio_tokens': None, 'reasoning_tokens': 0}, 'prompt_tokens_details': {'audio_tokens': None, 'cached_tokens': 0}}, 'model_name': 'gpt-4o-mini-2024-07-18', 'system_fingerprint': 'fp_e2bde53e6e', 'finish_reason': 'tool_calls', 'logprobs': None}, id='run-8354484d-9c27-4e5a-ae63-3705434e3634-0', tool_calls=[{'name': 'sum_marks', 'args': {'subjects': [80, 67, 89, 77, 73]}, 'id': 'call_1dSZaqgReIyqSXouKNKlJx0p', 'type': 'tool_call'}, {'name': 'avg_marks', 'args': {'subjects': [80, 67, 89, 77, 73]}, 'id': 'call_eBnIe3v1e6ZojXKZZ3sK8573', 'type': 'tool_call'}], usage_metadata={'input_tokens': 97, 'output_tokens': 61, 'total_tokens': 158, 'input_token_details': {'cache_read': 0}, 'output_token_details': {'reasoning': 0}}),\n",
       " ToolMessage(content='386', name='sum_marks', tool_call_id='call_1dSZaqgReIyqSXouKNKlJx0p'),\n",
       " ToolMessage(content='386', name='avg_marks', tool_call_id='call_eBnIe3v1e6ZojXKZZ3sK8573')]"
      ]
     },
     "execution_count": 34,
     "metadata": {},
     "output_type": "execute_result"
    }
   ],
   "source": [
    "messages"
   ]
  },
  {
   "cell_type": "code",
   "execution_count": 32,
   "metadata": {},
   "outputs": [
    {
     "name": "stdout",
     "output_type": "stream",
     "text": [
      "content=\"Praveen's total marks are 386, and his average marks are 77.2.\" additional_kwargs={'refusal': None} response_metadata={'token_usage': {'completion_tokens': 21, 'prompt_tokens': 174, 'total_tokens': 195, 'completion_tokens_details': {'audio_tokens': None, 'reasoning_tokens': 0}, 'prompt_tokens_details': {'audio_tokens': None, 'cached_tokens': 0}}, 'model_name': 'gpt-4o-mini-2024-07-18', 'system_fingerprint': 'fp_e2bde53e6e', 'finish_reason': 'stop', 'logprobs': None} id='run-897631b3-edbe-40f5-80ee-ec621b85a830-0' usage_metadata={'input_tokens': 174, 'output_tokens': 21, 'total_tokens': 195, 'input_token_details': {'cache_read': 0}, 'output_token_details': {'reasoning': 0}}\n"
     ]
    }
   ],
   "source": [
    "print(llm_with_tools.invoke(messages))"
   ]
  },
  {
   "cell_type": "code",
   "execution_count": 10,
   "metadata": {},
   "outputs": [
    {
     "name": "stdout",
     "output_type": "stream",
     "text": [
      "Praveen's total marks are 386, and his average marks are also 77.2.\n"
     ]
    }
   ],
   "source": [
    "print(llm_with_tools.invoke(messages).content)"
   ]
  },
  {
   "cell_type": "code",
   "execution_count": 11,
   "metadata": {},
   "outputs": [],
   "source": [
    "from langchain_core.messages import AIMessage, HumanMessage, ToolMessage\n",
    "from langchain_core.prompts import ChatPromptTemplate\n",
    "from langchain_core.runnables import RunnablePassthrough\n",
    "\n",
    "examples = [\n",
    "    HumanMessage(\"What's the sum of following marks 90,60,75,80\", name=\"example_user\"),\n",
    "    AIMessage(\"\",name=\"example_assistant\",tool_calls=[\n",
    "        {\"name\": \"sum_marks\", \"args\": {\"x\": [90,60,75,80] }, \"id\": \"1\"}\n",
    "    ]),\n",
    "    ToolMessage(\"16505054784\", tool_call_id=\"1\"),\n",
    "    AIMessage(\n",
    "        \"\",\n",
    "        name=\"example_assistant\",\n",
    "        tool_calls=[{\"name\": \"sum_marks\", \"args\": {\"x\": [90,60,75,80] }, \"id\": \"2\"}],\n",
    "    ),\n",
    "    ToolMessage(\"16505054788\", tool_call_id=\"2\"),\n",
    "    AIMessage(\n",
    "        \"The sum of follwoing marks is 305\",\n",
    "        name=\"example_assistant\",\n",
    "    ),\n",
    "\n",
    "]\n",
    "\n",
    "system = \"\"\"You are bad at math but are an expert at using a calculator. \n",
    "Use past tool usage as an example of how to correctly use the tools.\"\"\"\n",
    "\n",
    "few_shot_prompt = ChatPromptTemplate.from_messages(\n",
    "    [\n",
    "        (\"system\", system),\n",
    "        *examples,\n",
    "        (\"human\", \"{query}\"),\n",
    "    ]\n",
    ")\n",
    "\n",
    "chain = {\"query\":RunnablePassthrough()} | few_shot_prompt | llm_with_tools\n",
    "\n"
   ]
  },
  {
   "cell_type": "code",
   "execution_count": 12,
   "metadata": {},
   "outputs": [
    {
     "data": {
      "text/plain": [
       "AIMessage(content='', additional_kwargs={'tool_calls': [{'id': 'call_gTa46TWfIofN9Xeiu8BUt6UL', 'function': {'arguments': '{\"subjects\":[40,60,70]}', 'name': 'sum_marks'}, 'type': 'function'}], 'refusal': None}, response_metadata={'token_usage': {'completion_tokens': 18, 'prompt_tokens': 221, 'total_tokens': 239, 'completion_tokens_details': {'audio_tokens': 0, 'reasoning_tokens': 0, 'text_tokens': 0}, 'prompt_tokens_details': {'audio_tokens': None, 'cached_tokens': 0}}, 'model_name': 'gpt-4o-mini-2024-07-18', 'system_fingerprint': 'fp_e2bde53e6e', 'finish_reason': 'tool_calls', 'logprobs': None}, id='run-a86b109c-a09e-415a-9383-6d3a0c6468ce-0', tool_calls=[{'name': 'sum_marks', 'args': {'subjects': [40, 60, 70]}, 'id': 'call_gTa46TWfIofN9Xeiu8BUt6UL', 'type': 'tool_call'}], usage_metadata={'input_tokens': 221, 'output_tokens': 18, 'total_tokens': 239, 'input_token_details': {'cache_read': 0}, 'output_token_details': {'audio': 0, 'reasoning': 0}})"
      ]
     },
     "execution_count": 12,
     "metadata": {},
     "output_type": "execute_result"
    }
   ],
   "source": [
    "chain.invoke(\"Whats sum marks 40,60,70\")"
   ]
  },
  {
   "cell_type": "code",
   "execution_count": 13,
   "metadata": {},
   "outputs": [
    {
     "data": {
      "text/plain": [
       "[{'name': 'sum_marks',\n",
       "  'args': {'subjects': [40, 60, 70]},\n",
       "  'id': 'call_vlKgmqy8PnFrWUUGhipDz5y0',\n",
       "  'type': 'tool_call'}]"
      ]
     },
     "execution_count": 13,
     "metadata": {},
     "output_type": "execute_result"
    }
   ],
   "source": [
    "chain.invoke(\"Whats sum marks 40,60,70\").tool_calls"
   ]
  },
  {
   "cell_type": "code",
   "execution_count": 14,
   "metadata": {},
   "outputs": [
    {
     "data": {
      "text/plain": [
       "[{'name': 'sum_marks',\n",
       "  'args': {'subjects': [40, 60, 70]},\n",
       "  'id': 'call_T3Vw84MZ3j1qKSSY402O867V',\n",
       "  'type': 'tool_call'}]"
      ]
     },
     "execution_count": 14,
     "metadata": {},
     "output_type": "execute_result"
    }
   ],
   "source": [
    "ai_message = chain.invoke(\"Whats sum marks 40,60,70\").tool_calls\n",
    "ai_message"
   ]
  },
  {
   "cell_type": "code",
   "execution_count": 15,
   "metadata": {},
   "outputs": [
    {
     "name": "stdout",
     "output_type": "stream",
     "text": [
      "selected_tool name='sum_marks' description='Adds all the list of subject values passed' args_schema=<class 'langchain_core.utils.pydantic.sum_marks'> func=<function sum_marks at 0x114941a80>\n",
      "content='170' name='sum_marks' tool_call_id='call_T3Vw84MZ3j1qKSSY402O867V'\n"
     ]
    }
   ],
   "source": [
    "for tool_call in ai_message:\n",
    "    selected_tool = {\"sum_marks\": sum_marks, \"avg_marks\": avg_marks}[tool_call[\"name\"].lower()]\n",
    "    print(\"selected_tool\",selected_tool)\n",
    "    tool_msg = selected_tool.invoke(tool_call)\n",
    "    print(tool_msg)"
   ]
  },
  {
   "cell_type": "markdown",
   "metadata": {},
   "source": [
    "#How to pass run time values to tools"
   ]
  },
  {
   "cell_type": "code",
   "execution_count": 35,
   "metadata": {},
   "outputs": [],
   "source": [
    "llm = ChatOpenAI(model=\"gpt-4o-mini\")"
   ]
  },
  {
   "cell_type": "code",
   "execution_count": 37,
   "metadata": {},
   "outputs": [],
   "source": [
    "from typing import List\n",
    "\n",
    "from langchain_core.tools import InjectedToolArg, tool\n",
    "from typing_extensions import Annotated\n",
    "\n",
    "user_to_pets = {}\n",
    "\n",
    "@tool(parse_docstring=True)\n",
    "def update_favorite_pets(pets:List[str],user_id:Annotated[str,InjectedToolArg]) -> None:\n",
    "    \"\"\"Add the list of favorite pets.\n",
    "\n",
    "    Args:\n",
    "        pets: List of favorite pets to set.\n",
    "        user_id: User's ID.\n",
    "    \"\"\"\n",
    "    user_to_pets[user_id] = pets\n",
    "\n",
    "@tool(parse_docstring=True)\n",
    "def delete_favorite_pets(user_id: Annotated[str, InjectedToolArg]) -> None:\n",
    "    \"\"\"Delete the list of favorite pets.\n",
    "\n",
    "    Args:\n",
    "        user_id: User's ID.\n",
    "    \"\"\"\n",
    "    if user_id in user_to_pets:\n",
    "        del user_to_pets[user_id]\n",
    "\n",
    "\n",
    "@tool(parse_docstring=True)\n",
    "def list_favorite_pets(user_id: Annotated[str, InjectedToolArg]) -> None:\n",
    "    \"\"\"List favorite pets if any.\n",
    "\n",
    "    Args:\n",
    "        user_id: User's ID.\n",
    "    \"\"\"\n",
    "    return user_to_pets.get(user_id, [])\n",
    "\n",
    " "
   ]
  },
  {
   "cell_type": "code",
   "execution_count": 22,
   "metadata": {},
   "outputs": [
    {
     "data": {
      "text/plain": [
       "{'description': 'Add the list of favorite pets.',\n",
       " 'properties': {'pets': {'description': 'List of favorite pets to set.',\n",
       "   'items': {'type': 'string'},\n",
       "   'title': 'Pets',\n",
       "   'type': 'array'},\n",
       "  'user_id': {'description': \"User's ID.\",\n",
       "   'title': 'User Id',\n",
       "   'type': 'string'}},\n",
       " 'required': ['pets', 'user_id'],\n",
       " 'title': 'update_favorite_pets',\n",
       " 'type': 'object'}"
      ]
     },
     "execution_count": 22,
     "metadata": {},
     "output_type": "execute_result"
    }
   ],
   "source": [
    "update_favorite_pets.get_input_schema().schema()"
   ]
  },
  {
   "cell_type": "code",
   "execution_count": 23,
   "metadata": {},
   "outputs": [
    {
     "data": {
      "text/plain": [
       "{'description': 'Add the list of favorite pets.',\n",
       " 'properties': {'pets': {'description': 'List of favorite pets to set.',\n",
       "   'items': {'type': 'string'},\n",
       "   'title': 'Pets',\n",
       "   'type': 'array'}},\n",
       " 'required': ['pets'],\n",
       " 'title': 'update_favorite_pets',\n",
       " 'type': 'object'}"
      ]
     },
     "execution_count": 23,
     "metadata": {},
     "output_type": "execute_result"
    }
   ],
   "source": [
    "update_favorite_pets.tool_call_schema.schema()"
   ]
  },
  {
   "cell_type": "code",
   "execution_count": 24,
   "metadata": {},
   "outputs": [
    {
     "name": "stdout",
     "output_type": "stream",
     "text": [
      "{'123': ['lizard', 'dog']}\n",
      "['lizard', 'dog']\n"
     ]
    }
   ],
   "source": [
    "user_id = \"123\"\n",
    "update_favorite_pets.invoke({\"pets\": [\"lizard\", \"dog\"], \"user_id\": user_id})\n",
    "print(user_to_pets)\n",
    "print(list_favorite_pets.invoke({\"user_id\": user_id}))"
   ]
  },
  {
   "cell_type": "code",
   "execution_count": 38,
   "metadata": {},
   "outputs": [
    {
     "data": {
      "text/plain": [
       "[{'name': 'update_favorite_pets',\n",
       "  'args': {'pets': ['cats', 'parrots']},\n",
       "  'id': 'call_IBmcGKZrIPH3B5xmqIKrcGCx',\n",
       "  'type': 'tool_call'}]"
      ]
     },
     "execution_count": 38,
     "metadata": {},
     "output_type": "execute_result"
    }
   ],
   "source": [
    "tools = [\n",
    "    update_favorite_pets,\n",
    "    delete_favorite_pets,\n",
    "    list_favorite_pets,\n",
    "]\n",
    "llm_with_tools = llm.bind_tools(tools)\n",
    "ai_msg = llm_with_tools.invoke(\"my favorite animals are cats and parrots\")\n",
    "ai_msg.tool_calls"
   ]
  },
  {
   "cell_type": "code",
   "execution_count": 26,
   "metadata": {},
   "outputs": [
    {
     "name": "stdout",
     "output_type": "stream",
     "text": [
      "tool_call_copy \n",
      "\n",
      "{'name': 'update_favorite_pets', 'args': {'pets': ['cats', 'parrots']}, 'id': 'call_FykX07b4MgIu5zfksYsdp3oV', 'type': 'tool_call'}\n",
      "tool_call_copy \n",
      "\n"
     ]
    },
    {
     "data": {
      "text/plain": [
       "[{'name': 'update_favorite_pets',\n",
       "  'args': {'pets': ['cats', 'parrots'], 'user_id': '123'},\n",
       "  'id': 'call_FykX07b4MgIu5zfksYsdp3oV',\n",
       "  'type': 'tool_call'}]"
      ]
     },
     "execution_count": 26,
     "metadata": {},
     "output_type": "execute_result"
    }
   ],
   "source": [
    "from copy import deepcopy\n",
    "\n",
    "from langchain_core.runnables import chain\n",
    "\n",
    "@chain\n",
    "def inject_user_id(ai_msg):\n",
    "    tool_calls = []\n",
    "    for tool_call in ai_msg.tool_calls:\n",
    "        tool_call_copy = deepcopy(tool_call)\n",
    "        print(\"tool_call_copy \\n\")\n",
    "        print(tool_call_copy)\n",
    "        print(\"tool_call_copy \\n\")\n",
    "        tool_call_copy[\"args\"][\"user_id\"] = user_id\n",
    "        tool_calls.append(tool_call_copy)\n",
    "    return tool_calls\n",
    "\n",
    "inject_user_id.invoke(ai_msg)"
   ]
  },
  {
   "cell_type": "code",
   "execution_count": 39,
   "metadata": {},
   "outputs": [
    {
     "data": {
      "text/plain": [
       "[StructuredTool(name='update_favorite_pets', description='Add the list of favorite pets.', args_schema=<class 'langchain_core.utils.pydantic.update_favorite_pets'>, func=<function update_favorite_pets at 0x114e20b80>),\n",
       " StructuredTool(name='delete_favorite_pets', description='Delete the list of favorite pets.', args_schema=<class 'langchain_core.utils.pydantic.delete_favorite_pets'>, func=<function delete_favorite_pets at 0x114e20ae0>),\n",
       " StructuredTool(name='list_favorite_pets', description='List favorite pets if any.', args_schema=<class 'langchain_core.utils.pydantic.list_favorite_pets'>, func=<function list_favorite_pets at 0x114e20a40>)]"
      ]
     },
     "execution_count": 39,
     "metadata": {},
     "output_type": "execute_result"
    }
   ],
   "source": [
    "tools"
   ]
  },
  {
   "cell_type": "code",
   "execution_count": 27,
   "metadata": {},
   "outputs": [
    {
     "data": {
      "text/plain": [
       "{'update_favorite_pets': StructuredTool(name='update_favorite_pets', description='Add the list of favorite pets.', args_schema=<class 'langchain_core.utils.pydantic.update_favorite_pets'>, func=<function update_favorite_pets at 0x115a694e0>),\n",
       " 'delete_favorite_pets': StructuredTool(name='delete_favorite_pets', description='Delete the list of favorite pets.', args_schema=<class 'langchain_core.utils.pydantic.delete_favorite_pets'>, func=<function delete_favorite_pets at 0x115a4eac0>),\n",
       " 'list_favorite_pets': StructuredTool(name='list_favorite_pets', description='List favorite pets if any.', args_schema=<class 'langchain_core.utils.pydantic.list_favorite_pets'>, func=<function list_favorite_pets at 0x115a4e5c0>)}"
      ]
     },
     "execution_count": 27,
     "metadata": {},
     "output_type": "execute_result"
    }
   ],
   "source": [
    "tool_map = {tool.name: tool for tool in tools}\n",
    "tool_map"
   ]
  },
  {
   "cell_type": "code",
   "execution_count": 28,
   "metadata": {},
   "outputs": [],
   "source": [
    "@chain\n",
    "def tool_router(tool_call):\n",
    "    return tool_map[tool_call[\"name\"]]"
   ]
  },
  {
   "cell_type": "code",
   "execution_count": 29,
   "metadata": {},
   "outputs": [
    {
     "name": "stdout",
     "output_type": "stream",
     "text": [
      "tool_call_copy \n",
      "\n",
      "{'name': 'update_favorite_pets', 'args': {'pets': ['cats', 'parrots']}, 'id': 'call_IRJnGXeWlixaR2wS8uT9Ts7c', 'type': 'tool_call'}\n",
      "tool_call_copy \n",
      "\n"
     ]
    },
    {
     "data": {
      "text/plain": [
       "[ToolMessage(content='null', name='update_favorite_pets', tool_call_id='call_IRJnGXeWlixaR2wS8uT9Ts7c')]"
      ]
     },
     "execution_count": 29,
     "metadata": {},
     "output_type": "execute_result"
    }
   ],
   "source": [
    "chain = llm_with_tools | inject_user_id | tool_router.map()\n",
    "chain.invoke(\"my favorite animals are cats and parrots\")"
   ]
  },
  {
   "cell_type": "code",
   "execution_count": 30,
   "metadata": {},
   "outputs": [
    {
     "data": {
      "text/plain": [
       "{'123': ['cats', 'parrots']}"
      ]
     },
     "execution_count": 30,
     "metadata": {},
     "output_type": "execute_result"
    }
   ],
   "source": [
    "user_to_pets"
   ]
  },
  {
   "cell_type": "code",
   "execution_count": 31,
   "metadata": {},
   "outputs": [],
   "source": [
    "from langchain_core.tools import BaseTool\n",
    "from pydantic import BaseModel, Field\n",
    "\n",
    "\n",
    "class UpdateFavoritePetsSchema(BaseModel):\n",
    "    \"\"\"Update list of favorite pets\"\"\"\n",
    "\n",
    "    pets: List[str] = Field(..., description=\"List of favorite pets to set.\")\n",
    "    user_id: Annotated[str, InjectedToolArg] = Field(..., description=\"User's ID.\")\n",
    "\n",
    "\n",
    "@tool(args_schema=UpdateFavoritePetsSchema)\n",
    "def update_favorite_pets(pets, user_id):\n",
    "    user_to_pets[user_id] = pets\n"
   ]
  },
  {
   "cell_type": "code",
   "execution_count": 32,
   "metadata": {},
   "outputs": [
    {
     "data": {
      "text/plain": [
       "{'description': 'Update list of favorite pets',\n",
       " 'properties': {'pets': {'description': 'List of favorite pets to set.',\n",
       "   'items': {'type': 'string'},\n",
       "   'title': 'Pets',\n",
       "   'type': 'array'},\n",
       "  'user_id': {'description': \"User's ID.\",\n",
       "   'title': 'User Id',\n",
       "   'type': 'string'}},\n",
       " 'required': ['pets', 'user_id'],\n",
       " 'title': 'UpdateFavoritePetsSchema',\n",
       " 'type': 'object'}"
      ]
     },
     "execution_count": 32,
     "metadata": {},
     "output_type": "execute_result"
    }
   ],
   "source": [
    "\n",
    "update_favorite_pets.get_input_schema().schema()"
   ]
  },
  {
   "cell_type": "code",
   "execution_count": 33,
   "metadata": {},
   "outputs": [
    {
     "data": {
      "text/plain": [
       "{'description': 'Update list of favorite pets',\n",
       " 'properties': {'pets': {'description': 'List of favorite pets to set.',\n",
       "   'items': {'type': 'string'},\n",
       "   'title': 'Pets',\n",
       "   'type': 'array'}},\n",
       " 'required': ['pets'],\n",
       " 'title': 'update_favorite_pets',\n",
       " 'type': 'object'}"
      ]
     },
     "execution_count": 33,
     "metadata": {},
     "output_type": "execute_result"
    }
   ],
   "source": [
    "update_favorite_pets.tool_call_schema.schema()"
   ]
  },
  {
   "cell_type": "code",
   "execution_count": null,
   "metadata": {},
   "outputs": [],
   "source": []
  }
 ],
 "metadata": {
  "kernelspec": {
   "display_name": "Python 3 (ipykernel)",
   "language": "python",
   "name": "python3"
  },
  "language_info": {
   "codemirror_mode": {
    "name": "ipython",
    "version": 3
   },
   "file_extension": ".py",
   "mimetype": "text/x-python",
   "name": "python",
   "nbconvert_exporter": "python",
   "pygments_lexer": "ipython3",
   "version": "3.12.4"
  }
 },
 "nbformat": 4,
 "nbformat_minor": 2
}
