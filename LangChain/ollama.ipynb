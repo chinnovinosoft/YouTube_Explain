{
 "cells": [
  {
   "cell_type": "markdown",
   "metadata": {},
   "source": [
    "The growing popularity of projects like llama.cpp, Ollama, GPT4All, and llamafile highlights the increasing demand for running LLMs locally on personal devices.\n",
    "\n",
    "This offers two key advantages:\n",
    "\n",
    "1. Privacy: Your data stays on your device, avoiding third-party services and their terms of service.\n",
    "2. Cost: There are no inference fees, which is crucial for token-heavy applications like long-running simulations or summarizations.\n"
   ]
  },
  {
   "cell_type": "markdown",
   "metadata": {},
   "source": [
    "Overview\n",
    "\n",
    "Running a local LLM requires a few components:\n",
    "\n",
    "Open-source LLM: \n",
    "A freely modifiable and shareable LLM.\n",
    "\n",
    "Inference capability:\n",
    "The ability to run the model locally with acceptable performance.\n",
    "\n",
    "Users now have access to a rapidly expanding range of open-source LLMs.\n",
    "Several frameworks have been developed to enable LLM inference on personal devices:\n",
    "\n",
    "llama.cpp: A C++ implementation for llama model inference with optimizations like quantization.\n",
    "\n",
    "gpt4all: Optimized C-based backend for efficient inference.\n",
    "\n",
    "Ollama: Bundles model weights and environment into an app for running the model locally.\n",
    "\n",
    "llamafile: Packages model weights and dependencies into a single file, allowing local execution without additional setup.\n",
    "These frameworks typically provide:\n"
   ]
  },
  {
   "cell_type": "code",
   "execution_count": 4,
   "metadata": {},
   "outputs": [
    {
     "name": "stdout",
     "output_type": "stream",
     "text": [
      "Note: you may need to restart the kernel to use updated packages.\n"
     ]
    }
   ],
   "source": [
    "%pip install -qU langchain_ollama"
   ]
  },
  {
   "cell_type": "code",
   "execution_count": 7,
   "metadata": {},
   "outputs": [
    {
     "data": {
      "text/plain": [
       "'...Neil Armstrong. He stepped out of the lunar module Eagle and became the first person to set foot on the Moon\\'s surface on July 20, 1969 as part of the Apollo 11 mission. His famous quote upon setting foot on the Moon was: \"That\\'s one small step for man, one giant leap for mankind.\"'"
      ]
     },
     "execution_count": 7,
     "metadata": {},
     "output_type": "execute_result"
    }
   ],
   "source": [
    "from langchain_ollama import OllamaLLM\n",
    "\n",
    "llm = OllamaLLM(model=\"llama3.2\")\n",
    "\n",
    "llm.invoke(\"The first man on the moon was ...\")"
   ]
  },
  {
   "cell_type": "code",
   "execution_count": 20,
   "metadata": {},
   "outputs": [],
   "source": [
    "from langchain_ollama import ChatOllama\n",
    "llm = ChatOllama(model=\"llama3.2\")\n",
    "\n",
    "# llm.invoke(\"The first man on the moon was ...\")\n"
   ]
  },
  {
   "cell_type": "code",
   "execution_count": 8,
   "metadata": {},
   "outputs": [
    {
     "name": "stdout",
     "output_type": "stream",
     "text": [
      "...|Neil| Armstrong|.| He| became| the| first| person| to| set| foot| on| the| moon| on| July| |20|,| |196|9|,| during| the| Apollo| |11| mission|.||"
     ]
    }
   ],
   "source": [
    "for chunk in llm.stream(\"The first man on the moon was ...\"):\n",
    "    print(chunk, end=\"|\", flush=True)"
   ]
  },
  {
   "cell_type": "code",
   "execution_count": 21,
   "metadata": {},
   "outputs": [],
   "source": [
    "from langchain_core.tools import tool\n",
    "data_dict = {}\n",
    "\n",
    "@tool\n",
    "def add_to_dict(id:int,name:str):\n",
    "    \"\"\" Adds information abount  a persion id and name to the dictionary \"\"\"\n",
    "    data_dict[id] = name \n",
    "\n",
    "@tool \n",
    "def remove_from_dict(id:int):\n",
    "    \"\"\"Removes the element from the dictionary for the id passed\"\"\"\n",
    "    data_dict.pop(id)\n",
    "\n",
    "tools = [add_to_dict,remove_from_dict]"
   ]
  },
  {
   "cell_type": "code",
   "execution_count": 22,
   "metadata": {},
   "outputs": [],
   "source": [
    "llm_with_tools =  llm.bind_tools(tools)"
   ]
  },
  {
   "cell_type": "code",
   "execution_count": 23,
   "metadata": {},
   "outputs": [
    {
     "data": {
      "text/plain": [
       "[{'name': 'add_to_dict',\n",
       "  'args': {'id': '1', 'name': 'Praveen Reddy C'},\n",
       "  'id': '77dbd4b9-74fe-4cc0-b4fd-ee9410df4248',\n",
       "  'type': 'tool_call'}]"
      ]
     },
     "execution_count": 23,
     "metadata": {},
     "output_type": "execute_result"
    }
   ],
   "source": [
    "query = \"We got a new customer with id as 1 and his name is Praveen Reddy C\"\n",
    "\n",
    "llm_with_tools.invoke(query).tool_calls\n"
   ]
  },
  {
   "cell_type": "code",
   "execution_count": 36,
   "metadata": {},
   "outputs": [],
   "source": [
    "from langchain_core.messages import HumanMessage\n",
    "\n",
    "query = \"We got a new customer with id as 1 and his name is Praveen Reddy C\"\n",
    "messages = [HumanMessage(query)]\n",
    "ai_msg = llm_with_tools.invoke(messages)\n",
    "messages.append(ai_msg)"
   ]
  },
  {
   "cell_type": "code",
   "execution_count": 37,
   "metadata": {},
   "outputs": [
    {
     "data": {
      "text/plain": [
       "[HumanMessage(content='We got a new customer with id as 1 and his name is Praveen Reddy C', additional_kwargs={}, response_metadata={}),\n",
       " AIMessage(content='', additional_kwargs={}, response_metadata={'model': 'llama3.2', 'created_at': '2024-10-19T06:18:12.299209Z', 'message': {'role': 'assistant', 'content': '', 'tool_calls': [{'function': {'name': 'add_to_dict', 'arguments': {'id': '1', 'name': 'Praveen Reddy C'}}}]}, 'done_reason': 'stop', 'done': True, 'total_duration': 9220814916, 'load_duration': 7405923416, 'prompt_eval_count': 242, 'prompt_eval_duration': 862802000, 'eval_count': 29, 'eval_duration': 929356000}, id='run-5e13c939-29b0-4282-9d73-f5d464a633e4-0', tool_calls=[{'name': 'add_to_dict', 'args': {'id': '1', 'name': 'Praveen Reddy C'}, 'id': '637d55b3-92b1-4f3a-9bd4-34d33e648955', 'type': 'tool_call'}], usage_metadata={'input_tokens': 242, 'output_tokens': 29, 'total_tokens': 271})]"
      ]
     },
     "execution_count": 37,
     "metadata": {},
     "output_type": "execute_result"
    }
   ],
   "source": [
    "messages"
   ]
  },
  {
   "cell_type": "code",
   "execution_count": 38,
   "metadata": {},
   "outputs": [
    {
     "data": {
      "text/plain": [
       "[{'name': 'add_to_dict',\n",
       "  'args': {'id': '1', 'name': 'Praveen Reddy C'},\n",
       "  'id': '637d55b3-92b1-4f3a-9bd4-34d33e648955',\n",
       "  'type': 'tool_call'}]"
      ]
     },
     "execution_count": 38,
     "metadata": {},
     "output_type": "execute_result"
    }
   ],
   "source": [
    "ai_msg.tool_calls"
   ]
  },
  {
   "cell_type": "code",
   "execution_count": 39,
   "metadata": {},
   "outputs": [
    {
     "data": {
      "text/plain": [
       "'add_to_dict'"
      ]
     },
     "execution_count": 39,
     "metadata": {},
     "output_type": "execute_result"
    }
   ],
   "source": [
    "tool_call[\"name\"].lower()"
   ]
  },
  {
   "cell_type": "code",
   "execution_count": 46,
   "metadata": {},
   "outputs": [
    {
     "name": "stdout",
     "output_type": "stream",
     "text": [
      "result --> Added Praveen Reddy C with ID 1 to the dictionary.\n"
     ]
    },
    {
     "data": {
      "text/plain": [
       "[HumanMessage(content='We got a new customer with id as 1 and his name is Praveen Reddy C', additional_kwargs={}, response_metadata={}),\n",
       " AIMessage(content='', additional_kwargs={}, response_metadata={'model': 'llama3.2', 'created_at': '2024-10-19T06:18:12.299209Z', 'message': {'role': 'assistant', 'content': '', 'tool_calls': [{'function': {'name': 'add_to_dict', 'arguments': {'id': '1', 'name': 'Praveen Reddy C'}}}]}, 'done_reason': 'stop', 'done': True, 'total_duration': 9220814916, 'load_duration': 7405923416, 'prompt_eval_count': 242, 'prompt_eval_duration': 862802000, 'eval_count': 29, 'eval_duration': 929356000}, id='run-5e13c939-29b0-4282-9d73-f5d464a633e4-0', tool_calls=[{'name': 'add_to_dict', 'args': {'id': '1', 'name': 'Praveen Reddy C'}, 'id': '637d55b3-92b1-4f3a-9bd4-34d33e648955', 'type': 'tool_call'}], usage_metadata={'input_tokens': 242, 'output_tokens': 29, 'total_tokens': 271}),\n",
       " \"Tool 'add_to_dict' executed: Added Praveen Reddy C with ID 1 to the dictionary.\"]"
      ]
     },
     "execution_count": 46,
     "metadata": {},
     "output_type": "execute_result"
    }
   ],
   "source": [
    "for tool_call in ai_msg.tool_calls:\n",
    "    method_name = tool_call[\"name\"].lower()\n",
    "    method = globals().get(method_name)\n",
    "    res = method(*list(data)) \n",
    "    print(\"result -->\",res)\n",
    "    # Create a ToolMessage to append to messages\n",
    "    tool_msg = f\"Tool '{tool_call['name']}' executed: {res}\"\n",
    "    print(\"##\",tool_msg,\"##\")\n",
    "    messages.append(tool_msg)\n",
    "\n",
    "messages"
   ]
  },
  {
   "cell_type": "code",
   "execution_count": 47,
   "metadata": {},
   "outputs": [
    {
     "data": {
      "text/plain": [
       "{'1': 'Praveen Reddy C'}"
      ]
     },
     "execution_count": 47,
     "metadata": {},
     "output_type": "execute_result"
    }
   ],
   "source": [
    "data_dict"
   ]
  }
 ],
 "metadata": {
  "kernelspec": {
   "display_name": "Python 3",
   "language": "python",
   "name": "python3"
  },
  "language_info": {
   "codemirror_mode": {
    "name": "ipython",
    "version": 3
   },
   "file_extension": ".py",
   "mimetype": "text/x-python",
   "name": "python",
   "nbconvert_exporter": "python",
   "pygments_lexer": "ipython3",
   "version": "3.12.0"
  }
 },
 "nbformat": 4,
 "nbformat_minor": 2
}
