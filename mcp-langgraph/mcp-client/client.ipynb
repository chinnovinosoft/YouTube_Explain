{
 "cells": [
  {
   "cell_type": "code",
   "execution_count": 488,
   "metadata": {},
   "outputs": [],
   "source": [
    "from typing import Annotated, Literal, TypedDict\n",
    "from langgraph.graph import StateGraph, START, END\n",
    "from langgraph.graph.message import add_messages\n",
    "from langchain_mcp_adapters.client import MultiServerMCPClient\n",
    "from langgraph.prebuilt import create_react_agent\n",
    "from langchain_openai import ChatOpenAI \n",
    "from langgraph.prebuilt import create_react_agent\n",
    "from langchain.prompts import PromptTemplate\n",
    "from langchain.chat_models import init_chat_model\n",
    "from langgraph.func import entrypoint\n",
    "from langgraph.store.memory import InMemoryStore\n",
    "from langmem import create_memory_store_manager\n",
    "from pydantic import BaseModel\n",
    "from typing import Optional\n",
    "from langmem import create_manage_memory_tool, create_search_memory_tool\n"
   ]
  },
  {
   "cell_type": "code",
   "execution_count": 489,
   "metadata": {},
   "outputs": [],
   "source": [
    "from dotenv import load_dotenv"
   ]
  },
  {
   "cell_type": "code",
   "execution_count": 490,
   "metadata": {},
   "outputs": [
    {
     "data": {
      "text/plain": [
       "True"
      ]
     },
     "execution_count": 490,
     "metadata": {},
     "output_type": "execute_result"
    }
   ],
   "source": [
    "load_dotenv()"
   ]
  },
  {
   "cell_type": "code",
   "execution_count": 491,
   "metadata": {},
   "outputs": [],
   "source": [
    "model = ChatOpenAI(model=\"gpt-4o\", temperature=0)"
   ]
  },
  {
   "cell_type": "code",
   "execution_count": 492,
   "metadata": {},
   "outputs": [],
   "source": [
    "class TravelFact(BaseModel):\n",
    "    \"\"\"Facts extracted from user conversation during travel planning.\"\"\"\n",
    "    subject: str  \n",
    "    predicate: str  \n",
    "    destination: str  \n",
    "    context: Optional[str] = None  \n"
   ]
  },
  {
   "cell_type": "code",
   "execution_count": 493,
   "metadata": {},
   "outputs": [],
   "source": [
    "# store = InMemoryStore(  \n",
    "#     index={\n",
    "#         \"dims\": 1536,\n",
    "#         \"embed\": \"openai:text-embedding-3-small\",\n",
    "#     }\n",
    "# )\n",
    "# manager = create_memory_store_manager(\n",
    "#     model,\n",
    "#     namespace=(\"travel_nmspc\"),  \n",
    "#     schemas=[TravelFact],\n",
    "#     instructions=\"Extract all information during travel planning\",\n",
    "#     enable_inserts=True,\n",
    "#     enable_deletes=True,\n",
    "# )"
   ]
  },
  {
   "cell_type": "code",
   "execution_count": 494,
   "metadata": {},
   "outputs": [],
   "source": [
    "class QueryTypeSchema(BaseModel):\n",
    "    which: Literal[\"NEW_QUERY\", \"FOLLOW_UP\"]"
   ]
  },
  {
   "cell_type": "code",
   "execution_count": 495,
   "metadata": {},
   "outputs": [],
   "source": [
    "class State(TypedDict):\n",
    "    messages: Annotated[list, add_messages]\n",
    "    intent: Literal[\"plan_trip\", \"travel_tips\", None]\n",
    "    destination: str\n",
    "    dates: str\n",
    "    duration: int\n",
    "    budget: float\n",
    "    itinerary: list\n",
    "    tips: str\n",
    "    which:str\n",
    "\n"
   ]
  },
  {
   "cell_type": "code",
   "execution_count": 496,
   "metadata": {},
   "outputs": [],
   "source": [
    "from pydantic import BaseModel, Field\n",
    "from typing import Optional, List\n",
    "\n",
    "class UserPreferences(BaseModel):\n",
    "    activities: Optional[List[str]] = Field(default_factory=list)\n",
    "\n",
    "class TravelQuery(BaseModel):\n",
    "    destination: Optional[str] = Field(description=\"User's desired travel destination\")\n",
    "    duration: Optional[int] = Field(description=\"Number of days for the trip\")\n",
    "    preferences: Optional[UserPreferences] = Field(default_factory=UserPreferences)\n",
    "    intent: Optional[str] = Field(description=\"User's intent, e.g., 'plan_trip' or 'travel_tips'\")\n"
   ]
  },
  {
   "cell_type": "code",
   "execution_count": 497,
   "metadata": {},
   "outputs": [],
   "source": [
    "# store = InMemoryStore(\n",
    "#     index={\"dims\": 1536, \"embed\": \"openai:text-embedding-3-small\"},\n",
    "# )\n",
    "\n",
    "# # 2) The memory‐manager agent, wired to that store\n",
    "# def _memory_prompt(state: State):\n",
    "#     recent = store.search((\"memories\",), query=state[\"messages\"][-1].content, top_k=5)\n",
    "#     snippet = \"\\n\".join(\"- \" + m.value[\"content\"] for m in recent)\n",
    "#     system = f\"\"\"\n",
    "#     You are a memory‐manager assistant. Here are the top‐5 related memories:\n",
    "#     {snippet}\n",
    "\n",
    "#     Use the tools to create, update, or delete entries as needed.\n",
    "#     \"\"\"\n",
    "#     return [{\"role\": \"system\", \"content\": system.strip()}] + state[\"messages\"]\n",
    "\n",
    "# manager = create_react_agent(\n",
    "#     model=model,\n",
    "#     prompt=_memory_prompt,\n",
    "#     tools=[\n",
    "#         create_manage_memory_tool(namespace=(\"memories\",)),\n",
    "#         create_search_memory_tool(namespace=(\"memories\",)),\n",
    "#     ],\n",
    "#     store=store,               # <— crucial: gives the tools a real store\n",
    "#     # checkpointer=InMemorySaver() # optional, but helps with retries\n",
    "# )\n"
   ]
  },
  {
   "cell_type": "code",
   "execution_count": 498,
   "metadata": {},
   "outputs": [],
   "source": [
    "# async def new_or_prev_question_agent(state: State) -> State:\n",
    "#     # Wrap the base LLM for structured output\n",
    "#     llm = model.with_structured_output(QueryTypeSchema)\n",
    "\n",
    "#     # System prompt\n",
    "#     system_msg = (\n",
    "#         \"You are a travel-planning assistant. Decide whether the user's latest message is:\\n\"\n",
    "#         \"- NEW_QUERY      (a brand-new travel planning request), or\\n\"\n",
    "#         \"- FOLLOW_UP      (a follow-up or reference to something discussed earlier).\\n\\n\"\n",
    "#         \"Respond *only* with JSON matching this schema:\\n\"\n",
    "#         \"{ \\\"which\\\": \\\"NEW_QUERY\\\" | \\\"FOLLOW_UP\\\" }\\n\"\n",
    "#     )\n",
    "\n",
    "#     # Build the messages array\n",
    "#     messages = [{\"role\": \"system\", \"content\": system_msg.strip()}] + state[\"messages\"]\n",
    "\n",
    "#     # *** Pass `messages` directly to ainvoke, not wrapped in a dict ***\n",
    "#     parsed: QueryTypeSchema = await llm.ainvoke(messages)\n",
    "#     print(\"parsed.which -->\",parsed.which)\n",
    "#     # Update state\n",
    "#     updated = dict(state)\n",
    "#     updated[\"which\"] = parsed.which\n",
    "#     return updated"
   ]
  },
  {
   "cell_type": "code",
   "execution_count": 499,
   "metadata": {},
   "outputs": [],
   "source": [
    "from langchain.prompts import PromptTemplate\n",
    "\n",
    "async def extract_user_info_node(state: State) -> State:\n",
    "    # Define the custom prompt directly\n",
    "    prompt = (\n",
    "        \"You are a travel assistant. You MUST only suggest destinations from [thailand, bali, dubai]. \"\n",
    "        \"Even if the user says beach or island, DO NOT invent other destinations like Maldives. \"\n",
    "        \"Map user preferences to the closest among Thailand, Bali, or Dubai.\\n\"\n",
    "        \"User message: {user_message}\\n\"\n",
    "        \"Suggest a destination and provide any preferences like activities (e.g., beach, adventure).\"\n",
    "    )\n",
    "    \n",
    "    # Use the model to process the user message with the custom prompt\n",
    "    user_message = state[\"messages\"][-1].content  # Accessing user input\n",
    "\n",
    "    # Format the prompt with the user's message\n",
    "    formatted_prompt = prompt.format(user_message=user_message)\n",
    "    llm = model.with_structured_output(TravelQuery)\n",
    "    # manager.ainvoke({\"messages\": [{\"role\": \"user\", \"content\": user_message}]})\n",
    "    \n",
    "    try:\n",
    "        # Now directly invoking the model with the custom prompt\n",
    "        parsed = llm.invoke(formatted_prompt)\n",
    "    except Exception as e:\n",
    "        raise ValueError(f\"Failed to parse user input: {e}\")\n",
    "    print(\"Model Response:\", parsed)\n",
    "\n",
    "    # Update the state with parsed details\n",
    "    updated_state = dict(state)\n",
    "    updated_state[\"destination\"] = parsed.destination\n",
    "    updated_state[\"duration\"] = parsed.duration\n",
    "    updated_state[\"preferences\"] = parsed.preferences.dict() if parsed.preferences else {}\n",
    "    updated_state[\"intent\"] = parsed.intent\n",
    "    return updated_state\n"
   ]
  },
  {
   "cell_type": "code",
   "execution_count": 500,
   "metadata": {},
   "outputs": [],
   "source": [
    "async def plan_trip_node(state: State) -> State:\n",
    "    print(\"inside the node\")\n",
    "    destination = state[\"destination\"].lower()\n",
    "    duration = state[\"duration\"]\n",
    "    preferences = state.get(\"preferences\", {})\n",
    "\n",
    "    # Validate supported destinations\n",
    "    if destination not in [\"thailand\", \"dubai\", \"bali\"]:\n",
    "        raise ValueError(f\"Unsupported destination {destination}.\")\n",
    "\n",
    "    # 🛠 Build a *specific instruction* for the agent\n",
    "    user_prompt = (\n",
    "        f\"You are planning a {duration}-day travel itinerary for {destination.title()}.\\n\"\n",
    "        f\"Use the available tools to create a day-by-day plan.\\n\"\n",
    "        f\"Each day should include 2-3 activities.\\n\"\n",
    "    )\n",
    "    if preferences.get(\"activities\"):\n",
    "        user_prompt += f\"The user prefers activities related to: {', '.join(preferences['activities'])}.\\n\"\n",
    "    else:\n",
    "        user_prompt += \"If no preferences are given, suggest a balanced mix of sightseeing, relaxation, and adventure.\\n\"\n",
    "\n",
    "    user_prompt += (\n",
    "        \"Return the plan in structured format: each day number followed by the list of activities planned.\\n\"\n",
    "        \"Prioritize matching user preferences where possible.\\n\"\n",
    "    )\n",
    "\n",
    "    # 👇 Now initialize MCP client inside the node\n",
    "    print(\"before calling MCP Servere sa\")\n",
    "    async with MultiServerMCPClient(\n",
    "        {\n",
    "            \"travel\": {\n",
    "                \"command\": \"python\",\n",
    "                \"args\": [\"/Users/praveenreddy/langraph-mcp-langmem/mcp-server/travel_itinerary_planner_server/travel_itinerary_plan.py\"],\n",
    "                \"transport\": \"stdio\",\n",
    "            }\n",
    "        }\n",
    "    ) as client:\n",
    "        print(\"tools --> \",client.get_tools())\n",
    "        agent = create_react_agent(\n",
    "            model,\n",
    "            client.get_tools()\n",
    "        )\n",
    "\n",
    "        response = await agent.ainvoke(\n",
    "            {\"messages\": [{\"role\": \"user\", \"content\": user_prompt}]}\n",
    "        )\n",
    "        print(\"response -->\",response)\n",
    "\n",
    "    updated_state = dict(state)\n",
    "    updated_state[\"itinerary\"] = response\n",
    "    return updated_state\n"
   ]
  },
  {
   "cell_type": "code",
   "execution_count": 501,
   "metadata": {},
   "outputs": [],
   "source": [
    "async def travel_tips_node(state: State) -> State:\n",
    "    destination = state[\"destination\"].lower()\n",
    "    print(\"inside travel tips method \")\n",
    "    # Predefined tips database\n",
    "    destination_tips = {\n",
    "        \"thailand\": [\n",
    "            \"Carry light cotton clothes; it's usually hot and humid.\",\n",
    "            \"Respect local customs when visiting temples (dress modestly).\",\n",
    "            \"Beware of scams — always agree on tuk-tuk fares beforehand.\",\n",
    "            \"Carry cash; not everywhere accepts cards.\",\n",
    "            \"Try street food but stick to stalls with high turnover for freshness.\"\n",
    "        ],\n",
    "        \"dubai\": [\n",
    "            \"Dress modestly in public places to respect local culture.\",\n",
    "            \"Public transport (metro, buses) is cheap and efficient.\",\n",
    "            \"Summer (June-Aug) can be extremely hot; best to visit Oct-April.\",\n",
    "            \"Tipping is appreciated but not mandatory.\",\n",
    "            \"Book popular attractions like Burj Khalifa in advance.\"\n",
    "        ],\n",
    "        \"bali\": [\n",
    "            \"Scooters are a common way to get around but drive cautiously.\",\n",
    "            \"Respect religious ceremonies; never stand higher than priests.\",\n",
    "            \"Bring reef-safe sunscreen to protect marine life.\",\n",
    "            \"Bargaining is common in local markets.\",\n",
    "            \"Tap water is not drinkable — stick to bottled water.\"\n",
    "        ],\n",
    "    }\n",
    "\n",
    "    if destination not in destination_tips:\n",
    "        raise ValueError(f\"Sorry, no travel tips available for {destination}.\")\n",
    "\n",
    "    tips = destination_tips[destination]\n",
    "\n",
    "    updated_state = dict(state)\n",
    "    updated_state[\"tips\"] = tips\n",
    "    return updated_state\n"
   ]
  },
  {
   "cell_type": "code",
   "execution_count": 502,
   "metadata": {},
   "outputs": [],
   "source": [
    "# def get_info_from_memory(state:State):\n",
    "#     # store = InMemoryStore(\n",
    "#     # index={\n",
    "#     #     \"dims\": 1536,\n",
    "#     #     \"embed\": \"openai:text-embedding-3-small\",\n",
    "#     #     }\n",
    "#     # )\n",
    "#     # my_llm = init_chat_model(\"anthropic:claude-3-5-sonnet-latest\")\n",
    "#     # def prompt(state):\n",
    "#     #     \"\"\"Prepare messages with context from existing memories.\"\"\"\n",
    "#     #     memories = store.search(\n",
    "#     #         (\"memories\",),\n",
    "#     #         query=state[\"messages\"][-1].content,\n",
    "#     #     )\n",
    "#     #     system_msg = f\"\"\"You are a memory manager. Extract and manage all important knowledge, rules, and events using the provided tools.\n",
    "#     #         Existing memories:\n",
    "#     #         <memories>\n",
    "#     #         {memories}\n",
    "#     #         </memories>\n",
    "\n",
    "#     #         Use the manage_memory tool to update and contextualize existing memories, create new ones, or delete old ones that are no longer valid.\n",
    "#     #         You can also expand your search of existing memories to augment using the search tool.\"\"\"\n",
    "#     #     return [{\"role\": \"system\", \"content\": system_msg}, *state[\"messages\"]]\n",
    "\n",
    "\n",
    "#     # # Create the memory extraction agent\n",
    "#     # manager = create_react_agent(\n",
    "#     #     model=model,\n",
    "#     #     prompt=prompt,\n",
    "#     #     tools=[\n",
    "#     #         # Agent can create/update/delete memories\n",
    "#     #         create_manage_memory_tool(namespace=(\"memories\",)),\n",
    "#     #         create_search_memory_tool(namespace=(\"memories\",)),\n",
    "#     #     ],\n",
    "#     #     store=store,\n",
    "#     #     checkpointer=InMemoryStore()\n",
    "#     # )\n",
    "#     messages_init = state['messages'][0].content\n",
    "#     messages = [\n",
    "#         {\n",
    "#             \"role\": \"user\",\n",
    "#             \"content\": f\"{messages_init}\",\n",
    "#         }\n",
    "#     ]\n",
    "\n",
    "#     print(\"mem messages\",messages)\n",
    "#     print(\"con --\",messages)\n",
    "#     # response = model.invoke(\n",
    "#     #     [\n",
    "#     #         {\n",
    "#     #             \"role\": \"system\",\n",
    "#     #             \"content\": \"You are a helpful assistant.\",\n",
    "#     #         },\n",
    "#     #         *messages,\n",
    "#     #     ]\n",
    "#     # )\n",
    "#     # res = manager.invoke({\"messages\": messages})\n",
    "#     res = manager.invoke({\"messages\": messages})\n",
    "#     print(\"memeory response is --> \",res)\n",
    "#     return res\n",
    "    "
   ]
  },
  {
   "cell_type": "code",
   "execution_count": 503,
   "metadata": {},
   "outputs": [],
   "source": [
    "# def route_query(state: State)->Literal[\"extract_user_info_node\", \"get_info_from_memory\"]:\n",
    "#     if state[\"which\"] == \"NEW_QUERY\":\n",
    "#         return \"extract_user_info_node\"\n",
    "#     else:\n",
    "#         return \"get_info_from_memory\""
   ]
  },
  {
   "cell_type": "code",
   "execution_count": 504,
   "metadata": {},
   "outputs": [],
   "source": [
    "\n",
    "graph = StateGraph(State)"
   ]
  },
  {
   "cell_type": "code",
   "execution_count": 505,
   "metadata": {},
   "outputs": [
    {
     "data": {
      "text/plain": [
       "<langgraph.graph.state.StateGraph at 0x11fc26a50>"
      ]
     },
     "execution_count": 505,
     "metadata": {},
     "output_type": "execute_result"
    }
   ],
   "source": [
    "# graph.add_node(\"new_or_prev_question_agent\", new_or_prev_question_agent)\n",
    "graph.add_node(\"extract_user_info_node\", extract_user_info_node)\n",
    "graph.add_node(\"plan_trip_node\", plan_trip_node)\n",
    "graph.add_node(\"travel_tips_node\", travel_tips_node)\n",
    "# graph.add_node(\"get_info_from_memory\", get_info_from_memory)\n",
    "\n",
    "\n",
    "# graph.add_edge(START, \"new_or_prev_question_agent\")\n",
    "graph.add_edge(START, \"extract_user_info_node\")\n",
    "graph.add_edge(\"extract_user_info_node\",\"plan_trip_node\")\n",
    "graph.add_edge(\"plan_trip_node\", \"travel_tips_node\")\n",
    "graph.add_edge(\"travel_tips_node\", END)\n",
    "# graph.add_edge(\"get_info_from_memory\",END)\n",
    "# graph.add_conditional_edges(\n",
    "#     \"new_or_prev_question_agent\",\n",
    "#     path=route_query,\n",
    "# )\n",
    "\n",
    "# graph.add_edge(\"extract_user_info_node\",\"plan_trip_node\")\n"
   ]
  },
  {
   "cell_type": "code",
   "execution_count": 506,
   "metadata": {},
   "outputs": [],
   "source": [
    "app = graph.compile()"
   ]
  },
  {
   "cell_type": "code",
   "execution_count": 507,
   "metadata": {},
   "outputs": [
    {
     "data": {
      "image/png": "[encoded data removed]",
      "text/plain": [
       "<IPython.core.display.Image object>"
      ]
     },
     "metadata": {},
     "output_type": "display_data"
    }
   ],
   "source": [
    "from IPython.display import Image, display\n",
    "\n",
    "display(Image(app.get_graph(xray=True).draw_mermaid_png()))"
   ]
  },
  {
   "cell_type": "code",
   "execution_count": 508,
   "metadata": {},
   "outputs": [
    {
     "name": "stdout",
     "output_type": "stream",
     "text": [
      "Model Response: destination='Bali' duration=4 preferences=UserPreferences(activities=['beach', 'surfing', 'relaxation']) intent='plan_trip'\n",
      "inside the node\n",
      "before calling MCP Servere sa\n"
     ]
    },
    {
     "name": "stderr",
     "output_type": "stream",
     "text": [
      "/var/folders/s8/1949x5zs6xj63rt734q09jzr0000gn/T/ipykernel_55366/3371812093.py:32: PydanticDeprecatedSince20: The `dict` method is deprecated; use `model_dump` instead. Deprecated in Pydantic V2.0 to be removed in V3.0. See Pydantic V2 Migration Guide at https://errors.pydantic.dev/2.11/migration/\n",
      "  updated_state[\"preferences\"] = parsed.preferences.dict() if parsed.preferences else {}\n"
     ]
    },
    {
     "name": "stdout",
     "output_type": "stream",
     "text": [
      "tools -->  [StructuredTool(name='plan_thailand', description='\\n    Generate a detailed multi-day travel itinerary for Thailand.\\n\\n    Args:\\n    - request (PlanRequest): \\n        - days: Number of days to plan for.\\n        - preferences: Optional user preferences like type of activities they enjoy.\\n\\n    Returns:\\n    - List[Itinerary]: A list containing the day-by-day plan with 2-3 activities per day.\\n    ', args_schema={'$defs': {'PlanRequest': {'description': 'Request model for planning a travel itinerary.\\n\\nAttributes:\\n- days (int): Number of days the user wants the itinerary for.\\n- preferences (Dict[str, List[str]]): Optional user preferences, such as preferred activities (e.g., beaches, adventure).', 'properties': {'days': {'title': 'Days', 'type': 'integer'}, 'preferences': {'additionalProperties': {'items': {'type': 'string'}, 'type': 'array'}, 'default': {}, 'title': 'Preferences', 'type': 'object'}}, 'required': ['days'], 'title': 'PlanRequest', 'type': 'object'}}, 'properties': {'request': {'$ref': '#/$defs/PlanRequest'}}, 'required': ['request'], 'title': 'plan_thailandArguments', 'type': 'object'}, response_format='content_and_artifact', coroutine=<function convert_mcp_tool_to_langchain_tool.<locals>.call_tool at 0x11f1696c0>), StructuredTool(name='plan_dubai', description='\\n    Generate a detailed multi-day travel itinerary for Dubai.\\n\\n    Args:\\n    - request (PlanRequest): \\n        - days: Number of days to plan for.\\n        - preferences: Optional user preferences like type of activities they enjoy.\\n\\n    Returns:\\n    - List[Itinerary]: A list containing the day-by-day plan with 2-3 activities per day.\\n    ', args_schema={'$defs': {'PlanRequest': {'description': 'Request model for planning a travel itinerary.\\n\\nAttributes:\\n- days (int): Number of days the user wants the itinerary for.\\n- preferences (Dict[str, List[str]]): Optional user preferences, such as preferred activities (e.g., beaches, adventure).', 'properties': {'days': {'title': 'Days', 'type': 'integer'}, 'preferences': {'additionalProperties': {'items': {'type': 'string'}, 'type': 'array'}, 'default': {}, 'title': 'Preferences', 'type': 'object'}}, 'required': ['days'], 'title': 'PlanRequest', 'type': 'object'}}, 'properties': {'request': {'$ref': '#/$defs/PlanRequest'}}, 'required': ['request'], 'title': 'plan_dubaiArguments', 'type': 'object'}, response_format='content_and_artifact', coroutine=<function convert_mcp_tool_to_langchain_tool.<locals>.call_tool at 0x11f16b100>), StructuredTool(name='plan_bali', description='\\n    Generate a detailed multi-day travel itinerary for Bali.\\n\\n    Args:\\n    - request (PlanRequest): \\n        - days: Number of days to plan for.\\n        - preferences: Optional user preferences like type of activities they enjoy.\\n\\n    Returns:\\n    - List[Itinerary]: A list containing the day-by-day plan with 2-3 activities per day.\\n    ', args_schema={'$defs': {'PlanRequest': {'description': 'Request model for planning a travel itinerary.\\n\\nAttributes:\\n- days (int): Number of days the user wants the itinerary for.\\n- preferences (Dict[str, List[str]]): Optional user preferences, such as preferred activities (e.g., beaches, adventure).', 'properties': {'days': {'title': 'Days', 'type': 'integer'}, 'preferences': {'additionalProperties': {'items': {'type': 'string'}, 'type': 'array'}, 'default': {}, 'title': 'Preferences', 'type': 'object'}}, 'required': ['days'], 'title': 'PlanRequest', 'type': 'object'}}, 'properties': {'request': {'$ref': '#/$defs/PlanRequest'}}, 'required': ['request'], 'title': 'plan_baliArguments', 'type': 'object'}, response_format='content_and_artifact', coroutine=<function convert_mcp_tool_to_langchain_tool.<locals>.call_tool at 0x11f16b060>)]\n",
      "response --> {'messages': [HumanMessage(content='You are planning a 4-day travel itinerary for Bali.\\nUse the available tools to create a day-by-day plan.\\nEach day should include 2-3 activities.\\nIf no preferences are given, suggest a balanced mix of sightseeing, relaxation, and adventure.\\nReturn the plan in structured format: each day number followed by the list of activities planned.\\nPrioritize matching user preferences where possible.\\n', additional_kwargs={}, response_metadata={}, id='08f769a8-838e-445a-98dd-ba0335bfc991'), AIMessage(content='', additional_kwargs={'tool_calls': [{'id': 'call_wYP6J6QuCK1cdm0TSUeDbYJJ', 'function': {'arguments': '{\"request\":{\"days\":4}}', 'name': 'plan_bali'}, 'type': 'function'}], 'refusal': None}, response_metadata={'token_usage': {'completion_tokens': 18, 'prompt_tokens': 513, 'total_tokens': 531, 'completion_tokens_details': {'accepted_prediction_tokens': 0, 'audio_tokens': 0, 'reasoning_tokens': 0, 'rejected_prediction_tokens': 0}, 'prompt_tokens_details': {'audio_tokens': 0, 'cached_tokens': 0}}, 'model_name': 'gpt-4o-2024-08-06', 'system_fingerprint': 'fp_f5bdcc3276', 'id': 'chatcmpl-BRsYuAjEEaJqt2Gnq7cmpLzpbgK8B', 'finish_reason': 'tool_calls', 'logprobs': None}, id='run-5e9ac405-3300-4419-972c-809dd624e1c2-0', tool_calls=[{'name': 'plan_bali', 'args': {'request': {'days': 4}}, 'id': 'call_wYP6J6QuCK1cdm0TSUeDbYJJ', 'type': 'tool_call'}], usage_metadata={'input_tokens': 513, 'output_tokens': 18, 'total_tokens': 531, 'input_token_details': {'audio': 0, 'cache_read': 0}, 'output_token_details': {'audio': 0, 'reasoning': 0}}), ToolMessage(content='[\"{\\\\\"day\\\\\": 1, \\\\\"activities\\\\\": [\\\\\"Sunrise at Mount Batur\\\\\", \\\\\"Tegalalang rice terraces\\\\\", \\\\\"Beach day at Kuta\\\\\"]}\", \"{\\\\\"day\\\\\": 2, \\\\\"activities\\\\\": [\\\\\"Tegalalang rice terraces\\\\\", \\\\\"Beach day at Kuta\\\\\", \\\\\"Ubud monkey forest\\\\\"]}\", \"{\\\\\"day\\\\\": 3, \\\\\"activities\\\\\": [\\\\\"Beach day at Kuta\\\\\", \\\\\"Ubud monkey forest\\\\\", \\\\\"Waterfall hike\\\\\"]}\", \"{\\\\\"day\\\\\": 4, \\\\\"activities\\\\\": [\\\\\"Ubud monkey forest\\\\\", \\\\\"Waterfall hike\\\\\", \\\\\"Temples of Uluwatu\\\\\"]}\"]', name='plan_bali', id='6b14a6ba-8842-4bca-8384-a3e84d438f7e', tool_call_id='call_wYP6J6QuCK1cdm0TSUeDbYJJ'), AIMessage(content='Here is a 4-day travel itinerary for Bali:\\n\\n- **Day 1:**\\n  1. Sunrise at Mount Batur\\n  2. Tegalalang rice terraces\\n  3. Beach day at Kuta\\n\\n- **Day 2:**\\n  1. Tegalalang rice terraces\\n  2. Beach day at Kuta\\n  3. Ubud monkey forest\\n\\n- **Day 3:**\\n  1. Beach day at Kuta\\n  2. Ubud monkey forest\\n  3. Waterfall hike\\n\\n- **Day 4:**\\n  1. Ubud monkey forest\\n  2. Waterfall hike\\n  3. Temples of Uluwatu\\n\\nThis itinerary offers a balanced mix of sightseeing, relaxation, and adventure, ensuring a memorable experience in Bali.', additional_kwargs={'refusal': None}, response_metadata={'token_usage': {'completion_tokens': 177, 'prompt_tokens': 665, 'total_tokens': 842, 'completion_tokens_details': {'accepted_prediction_tokens': 0, 'audio_tokens': 0, 'reasoning_tokens': 0, 'rejected_prediction_tokens': 0}, 'prompt_tokens_details': {'audio_tokens': 0, 'cached_tokens': 0}}, 'model_name': 'gpt-4o-2024-08-06', 'system_fingerprint': 'fp_f5bdcc3276', 'id': 'chatcmpl-BRsYvhhVHjROk9SwLj40Fes7MyTww', 'finish_reason': 'stop', 'logprobs': None}, id='run-2c4bfcf1-d584-456e-98ef-303dc7dd2153-0', usage_metadata={'input_tokens': 665, 'output_tokens': 177, 'total_tokens': 842, 'input_token_details': {'audio': 0, 'cache_read': 0}, 'output_token_details': {'audio': 0, 'reasoning': 0}})]}\n",
      "inside travel tips method \n"
     ]
    }
   ],
   "source": [
    "response = await app.ainvoke(\n",
    "    {\"messages\": [{\"role\": \"user\", \"content\": \"I like the beach area and i want to spend 3-4 days so, anything you can suggest ?  \"}]}\n",
    ")"
   ]
  },
  {
   "cell_type": "code",
   "execution_count": 182,
   "metadata": {},
   "outputs": [],
   "source": [
    "\n",
    "# async def chat(messages: list):\n",
    "#     response = await app.ainvoke(\n",
    "#         {\"messages\": [{\"role\": \"user\", \"content\": \"I like the beach area and i want to spend 3-4 days so, anything you can suggest ?  \"}]}\n",
    "#     )\n",
    "\n",
    "#     # Extract and store triples (Uses store from @entrypoint context)\n",
    "#     manager.invoke({\"messages\": messages}) \n",
    "#     return response"
   ]
  },
  {
   "cell_type": "code",
   "execution_count": 509,
   "metadata": {},
   "outputs": [
    {
     "name": "stdout",
     "output_type": "stream",
     "text": [
      "Here is a 4-day travel itinerary for Bali:\n",
      "\n",
      "- **Day 1:**\n",
      "  1. Sunrise at Mount Batur\n",
      "  2. Tegalalang rice terraces\n",
      "  3. Beach day at Kuta\n",
      "\n",
      "- **Day 2:**\n",
      "  1. Tegalalang rice terraces\n",
      "  2. Beach day at Kuta\n",
      "  3. Ubud monkey forest\n",
      "\n",
      "- **Day 3:**\n",
      "  1. Beach day at Kuta\n",
      "  2. Ubud monkey forest\n",
      "  3. Waterfall hike\n",
      "\n",
      "- **Day 4:**\n",
      "  1. Ubud monkey forest\n",
      "  2. Waterfall hike\n",
      "  3. Temples of Uluwatu\n",
      "\n",
      "This itinerary offers a balanced mix of sightseeing, relaxation, and adventure, ensuring a memorable experience in Bali.\n"
     ]
    }
   ],
   "source": [
    "print(response['itinerary']['messages'][-1].content)"
   ]
  },
  {
   "cell_type": "code",
   "execution_count": 510,
   "metadata": {},
   "outputs": [
    {
     "data": {
      "text/plain": [
       "['Scooters are a common way to get around but drive cautiously.',\n",
       " 'Respect religious ceremonies; never stand higher than priests.',\n",
       " 'Bring reef-safe sunscreen to protect marine life.',\n",
       " 'Bargaining is common in local markets.',\n",
       " 'Tap water is not drinkable — stick to bottled water.']"
      ]
     },
     "execution_count": 510,
     "metadata": {},
     "output_type": "execute_result"
    }
   ],
   "source": [
    "response['tips']"
   ]
  },
  {
   "cell_type": "code",
   "execution_count": null,
   "metadata": {},
   "outputs": [],
   "source": []
  }
 ],
 "metadata": {
  "kernelspec": {
   "display_name": ".venv",
   "language": "python",
   "name": "python3"
  },
  "language_info": {
   "codemirror_mode": {
    "name": "ipython",
    "version": 3
   },
   "file_extension": ".py",
   "mimetype": "text/x-python",
   "name": "python",
   "nbconvert_exporter": "python",
   "pygments_lexer": "ipython3",
   "version": "3.11.5"
  }
 },
 "nbformat": 4,
 "nbformat_minor": 2
}
