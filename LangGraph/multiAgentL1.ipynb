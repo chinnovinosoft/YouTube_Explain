{
 "cells": [
  {
   "cell_type": "markdown",
   "metadata": {},
   "source": [
    "\n",
    "1. Resume Screener\n",
    "2. Technical Evaluator\n",
    "3. HR Interviewer\n",
    "4. Offer Letter Generator"
   ]
  },
  {
   "cell_type": "code",
   "execution_count": 521,
   "metadata": {},
   "outputs": [],
   "source": [
    "import getpass\n",
    "import os\n",
    "\n",
    "\n",
    "def _set_if_undefined(var: str):\n",
    "    if not os.environ.get(var):\n",
    "        os.environ[var] = getpass.getpass(f\"Please provide your {var}\")\n",
    "\n",
    "\n",
    "_set_if_undefined(\"OPENAI_API_KEY\")\n",
    "_set_if_undefined(\"TAVILY_API_KEY\")"
   ]
  },
  {
   "cell_type": "code",
   "execution_count": 522,
   "metadata": {},
   "outputs": [],
   "source": [
    "from typing import Annotated\n",
    "\n",
    "from langchain_community.tools.tavily_search import TavilySearchResults\n",
    "from langchain_core.tools import tool\n",
    "from langchain_experimental.utilities import PythonREPL\n",
    "from langchain_core.messages import HumanMessage\n",
    "from langchain_openai import ChatOpenAI\n",
    "\n",
    "from langgraph.prebuilt import create_react_agent\n",
    "from langgraph.graph import MessagesState\n",
    "\n",
    "from langgraph.graph import StateGraph, START, END\n",
    "from pydantic import BaseModel, Field\n",
    "from langchain_core.prompts import ChatPromptTemplate\n",
    "\n",
    "from typing_extensions import TypedDict\n",
    "\n",
    "from langgraph.graph.message import AnyMessage, add_messages\n",
    "from langchain_core.messages.ai import AIMessage"
   ]
  },
  {
   "cell_type": "code",
   "execution_count": 523,
   "metadata": {},
   "outputs": [],
   "source": [
    "class State(MessagesState):\n",
    "    messages: Annotated[list[AnyMessage], add_messages]"
   ]
  },
  {
   "cell_type": "code",
   "execution_count": 524,
   "metadata": {},
   "outputs": [],
   "source": [
    "@tool\n",
    "def resume_screener(resume:str,skill:str):\n",
    "    \"\"\"This tool checks andd validates if the resume and the skills passed are in cync or not and returns its response \"\"\"\n",
    "    \n",
    "    llm = ChatOpenAI()\n",
    "    system = \"\"\"You are an expert in screenring the resume and selecting OR rejecting the resume based on the skill we require.\n",
    "                use your atmost intelligence and decide if you want to select the resume OR reject the resume by going through the resume clearly and comparing it will skills we want\n",
    "                Here are some sample keywords you can check in resume.\n",
    "                Data Engineer, Big Data, AWS, Azure, SQL Python -- maps to Data Engineer skill\n",
    "                Data Sceince, ML , Deep Learning, DL, sklearn -- maps to Data Sceince skill\n",
    "                \"\"\"\n",
    "    human_str =  \"\"\"\n",
    "                 Here is the resume \n",
    "                 ---------\n",
    "                 {resume}\n",
    "\n",
    "                 Please check if it maps to the follwoing skills : {skill}\n",
    "                 \"\"\"\n",
    "    route_prompt = ChatPromptTemplate.from_messages(\n",
    "        [\n",
    "            (\"system\", system),\n",
    "            (\"human\", human_str),\n",
    "        ]\n",
    "    )\n",
    "\n",
    "    question_router = route_prompt | llm #structured_llm_router\n",
    "    response = question_router.invoke({\"resume\":resume,\"skill\":skill})\n",
    "    return {\"messages\": [response]}\n",
    "    # state[\"messages\"].append(AIMessage(content=response.content))"
   ]
  },
  {
   "cell_type": "code",
   "execution_count": 525,
   "metadata": {},
   "outputs": [],
   "source": [
    "@tool\n",
    "def hr_filter(resume:str):\n",
    "    \"\"\"This tool checks and validates Abilities, Competencies, Strengths, Capabilities, and Expertise in Resume \"\"\"\n",
    "\n",
    "    llm = ChatOpenAI()\n",
    "    system = \"\"\"You are an HR specialist tasked with reviewing resumes to evaluate the candidate's suitability for HR-related roles, Please dont be very tough guy, evaluate easy and if resume satisfies the basic HR skills also, you should pass it.\n",
    "                Focus solely on assessing the candidate's abilities, competencies, strengths, capabilities, and expertise in core HR functions,\n",
    "                such as talent management, recruitment, employee relations, performance evaluation, training and development, and compliance\n",
    "                with HR policies. Avoid analyzing technical or non-HR skills and respond with a crisp message if you are satisfied with the candidate on the skills you have evaluated.\n",
    "                \"\"\"\n",
    "    human_str =  \"\"\"\n",
    "                 Here is the resume \n",
    "                 ---------\n",
    "                 {resume}\n",
    "                 \"\"\"\n",
    "    route_prompt = ChatPromptTemplate.from_messages(\n",
    "        [\n",
    "            (\"system\", system),\n",
    "            (\"human\", human_str),\n",
    "        ]\n",
    "    )\n",
    "\n",
    "    question_router = route_prompt | llm\n",
    "    response = question_router.invoke({\"resume\":resume})\n",
    "    return {\"messages\": [response]}\n",
    "    # state[\"messages\"].append(AIMessage(content=response.content))"
   ]
  },
  {
   "cell_type": "code",
   "execution_count": 526,
   "metadata": {},
   "outputs": [],
   "source": [
    "# # Initial state\n",
    "# state = {\"messages\": []}\n",
    "\n",
    "# # Run resume_screener_node and inspect state\n",
    "# state = resume_screener_node(state)\n",
    "# print(\"\\nState after resume_screener_node:\")\n",
    "# from pprint import pprint\n",
    "# pprint(state)\n",
    "\n",
    "# # Run hr_node and inspect state\n",
    "# state = hr_node(state)\n",
    "# print(\"\\nState after hr_node:\")\n",
    "# pprint(state)\n",
    "\n",
    "# # Run resume_summarize_node and inspect state\n",
    "# state = resume_summarize_node(state)\n",
    "# print(\"\\nState after resume_summarize_node:\")\n",
    "# pprint(state)\n"
   ]
  },
  {
   "cell_type": "code",
   "execution_count": 527,
   "metadata": {},
   "outputs": [],
   "source": [
    "@tool\n",
    "def resume_summarize():\n",
    "    \"\"\"Summarizes the thoughts from previous agents.\"\"\"\n",
    "    # if \"messages\" not in state or not state[\"messages\"]:\n",
    "    #     raise ValueError(\"State must include a 'messages' key with content.\")\n",
    "\n",
    "    llm = ChatOpenAI()\n",
    "    system = \"\"\"\n",
    "        You are a resume summarizer. Summarize feedback from the previous agents.\n",
    "        Provide one of these decisions: human_review_needed, rejected, selected.\n",
    "    \"\"\"\n",
    "\n",
    "    # Gather all messages from previous agents\n",
    "    agent_messages = \"\\n\\n\".join(\n",
    "        msg.content for msg in state['messages']\n",
    "    )\n",
    "\n",
    "    human_str = \"\"\"\n",
    "    Summarize the feedback from the agents based on the messages below:\n",
    "    ------\n",
    "    {agent_messages}\n",
    "    ------\n",
    "    Provide one of these decisions: human_review_needed, rejected, selected.\n",
    "    \"\"\"\n",
    "\n",
    "    route_prompt = ChatPromptTemplate.from_messages(\n",
    "        [\n",
    "            (\"system\", system),\n",
    "            (\"human\", human_str),\n",
    "        ]\n",
    "    )\n",
    "\n",
    "    question_router = route_prompt | llm\n",
    "    response = question_router.invoke({\"agent_messages\": agent_messages})\n",
    "\n",
    "    # Append the AI message to state\n",
    "    state[\"messages\"].append(AIMessage(content=response.content))\n",
    "\n",
    "    return state\n"
   ]
  },
  {
   "cell_type": "code",
   "execution_count": 528,
   "metadata": {},
   "outputs": [],
   "source": [
    "def make_system_prompt(suffix: str) -> str:\n",
    "    return (\n",
    "        \"You are a helpful AI assistant, collaborating with other assistants.\"\n",
    "        \" Use the provided tools to progress towards answering the question.\"\n",
    "        \" If you are unable to fully answer, that's OK, another assistant with different tools \"\n",
    "        \" will help where you left off. Execute what you can to make progress.\"\n",
    "        \" If you or any of the other assistants have the final answer or deliverable,\"\n",
    "        \" prefix your response with FINAL ANSWER so the team knows to stop.\"\n",
    "        f\"\\n{suffix}\"\n",
    "    )"
   ]
  },
  {
   "cell_type": "code",
   "execution_count": 529,
   "metadata": {},
   "outputs": [],
   "source": [
    "llm = ChatOpenAI()"
   ]
  },
  {
   "cell_type": "code",
   "execution_count": 549,
   "metadata": {},
   "outputs": [],
   "source": [
    "resume_screener_agent = create_react_agent(\n",
    "    llm,\n",
    "    tools = [resume_screener],\n",
    "    state_modifier=make_system_prompt(\n",
    "        \"You can filter resumes based on the skill and return if we can select OR reject the resume. select it if resume suits the skillset, reject if resume doesn't suit the skillset\" \n",
    "    )\n",
    ")"
   ]
  },
  {
   "cell_type": "code",
   "execution_count": 531,
   "metadata": {},
   "outputs": [],
   "source": [
    "def resume_screener_node(state: State) -> State:\n",
    "    result = resume_screener_agent.invoke(state)\n",
    "    state[\"messages\"].extend(result[\"messages\"])  # Append summarizer messages\n",
    "    return state\n"
   ]
  },
  {
   "cell_type": "code",
   "execution_count": 532,
   "metadata": {},
   "outputs": [],
   "source": [
    "hr_filter_agent = create_react_agent(\n",
    "    llm,\n",
    "    [hr_filter],\n",
    "    state_modifier=make_system_prompt(\n",
    "        \"you work with resume screener agent and after only if resume screener agent select , then you will validate the HR skills in the resume\"\n",
    "    ),\n",
    ")"
   ]
  },
  {
   "cell_type": "code",
   "execution_count": 533,
   "metadata": {},
   "outputs": [],
   "source": [
    "def hr_node(state: State) -> State:\n",
    "    result = hr_filter_agent.invoke(state)\n",
    "    state[\"messages\"].extend(result[\"messages\"])  # Append summarizer messages\n",
    "    return state"
   ]
  },
  {
   "cell_type": "code",
   "execution_count": 534,
   "metadata": {},
   "outputs": [],
   "source": [
    "resume_summarize_agent = create_react_agent(\n",
    "    llm,\n",
    "    [resume_summarize],\n",
    "    state_modifier=make_system_prompt(\n",
    "        \"you work with resume screener agent, hr agent and just summarises what those 2 agents feel about the resume \"\n",
    "    ),\n",
    ")"
   ]
  },
  {
   "cell_type": "code",
   "execution_count": 535,
   "metadata": {},
   "outputs": [],
   "source": [
    "def resume_summarize_node(state: State) -> State:\n",
    "    result = resume_summarize_agent.invoke(state)\n",
    "    state[\"messages\"].extend(result[\"messages\"]) \n",
    "    return state"
   ]
  },
  {
   "cell_type": "code",
   "execution_count": 536,
   "metadata": {},
   "outputs": [],
   "source": [
    "def router(state: State):\n",
    "    messages = state[\"messages\"]\n",
    "    last_message = messages[-1]\n",
    "    if \"FINAL ANSWER\" in last_message.content:\n",
    "        return END\n",
    "    return \"continue\""
   ]
  },
  {
   "cell_type": "code",
   "execution_count": 537,
   "metadata": {},
   "outputs": [],
   "source": [
    "workflow = StateGraph(State)\n"
   ]
  },
  {
   "cell_type": "code",
   "execution_count": 538,
   "metadata": {},
   "outputs": [
    {
     "data": {
      "text/plain": [
       "<langgraph.graph.state.StateGraph at 0x1119cad80>"
      ]
     },
     "execution_count": 538,
     "metadata": {},
     "output_type": "execute_result"
    }
   ],
   "source": [
    "workflow.add_node(\"resume_screener_node\", resume_screener_node)\n",
    "workflow.add_node(\"hr_node\", hr_node)\n",
    "workflow.add_node(\"resume_summarize\", resume_summarize)"
   ]
  },
  {
   "cell_type": "code",
   "execution_count": 539,
   "metadata": {},
   "outputs": [],
   "source": [
    "# workflow.add_conditional_edges(\n",
    "#     \"resume_screener_node\",\n",
    "#     router,\n",
    "#     {\"continue\": \"hr_node\", END: END},\n",
    "# )\n",
    "# workflow.add_conditional_edges(\n",
    "#     \"hr_node\",\n",
    "#     router,\n",
    "#     {\"continue\": \"resume_screener_node\", END: END},\n",
    "# )\n"
   ]
  },
  {
   "cell_type": "code",
   "execution_count": 540,
   "metadata": {},
   "outputs": [],
   "source": [
    "workflow.add_edge(START, \"resume_screener_node\")\n",
    "\n",
    "workflow.add_edge(\"resume_screener_node\",\"hr_node\")\n",
    "\n",
    "workflow.add_edge(\"hr_node\",\"resume_summarize\")\n",
    "\n",
    "workflow.add_edge(\"resume_summarize\",END)\n",
    "\n",
    "graph = workflow.compile()"
   ]
  },
  {
   "cell_type": "code",
   "execution_count": 541,
   "metadata": {},
   "outputs": [
    {
     "data": {
      "image/png": "[encoded data removed]",
      "text/plain": [
       "<IPython.core.display.Image object>"
      ]
     },
     "metadata": {},
     "output_type": "display_data"
    }
   ],
   "source": [
    "from IPython.display import Image, display\n",
    "\n",
    "try:\n",
    "    display(Image(graph.get_graph().draw_mermaid_png()))\n",
    "except Exception:\n",
    "    # This requires some extra dependencies and is optional\n",
    "    pass"
   ]
  },
  {
   "cell_type": "code",
   "execution_count": 548,
   "metadata": {},
   "outputs": [
    {
     "name": "stdout",
     "output_type": "stream",
     "text": [
      "{'resume_screener_node': {'messages': [HumanMessage(content='\\n**Praveen Reddy**  \\n📧 praveen@gmail.com | 📱 +91 98765 43210 | 🌐 LinkedIn: linkedin.com/in/praveen-reddy | 📍 Bangalore, India  \\n\\n---\\n\\n### **Professional Summary**  \\nA results-driven **Data Engineer** with 5+ years of experience in designing, developing, and managing data pipelines and workflows in **Azure** and **AWS** environments. Skilled in big data tools, data modeling, and cloud-based ETL processes. Proficient in aligning technical solutions with business goals while fostering collaborative work environments. Strong interpersonal and HR competencies ensure seamless collaboration across cross-functional teams.  \\n\\n---\\n\\n### **Technical Skills**  \\n**Cloud Platforms**: Azure (Data Factory, Synapse, Data Lake), AWS (Glue, Redshift, S3, EMR)  \\n**Big Data**: Apache Spark, Hadoop, PySpark  \\n**ETL Tools**: Azure Data Factory, AWS Glue  \\n**Databases**: SQL, NoSQL, PostgreSQL, MongoDB  \\n**Programming**: Python, Scala, SQL  \\n**Other Tools**: Docker, Kubernetes, Terraform  \\n\\n---\\n\\n### **HR-Specific Strengths**  \\n- **Collaboration and Teamwork**: Proven ability to work with diverse teams across engineering, business, and HR units, ensuring projects align with organizational goals.  \\n- **Effective Communication**: Adept at explaining technical concepts in simple terms to non-technical stakeholders and leadership.  \\n- **Adaptability**: Thrives in dynamic environments and quickly learns new technologies and workflows.  \\n- **Leadership and Mentorship**: Regularly guide junior engineers and interns in professional development and skill-building.  \\n- **Conflict Resolution**: Skilled in resolving team conflicts and fostering a positive, productive work environment.  \\n\\n---\\n\\n### **Professional Experience**  \\n\\n**Senior Data Engineer**  \\n*XYZ Corporation, Bangalore, India*  \\n*Jan 2021 – Present*  \\n- Designed and implemented scalable **data pipelines** in **Azure Data Factory** and **AWS Glue** to process and analyze large datasets.  \\n- Spearheaded data integration projects, integrating sources like IoT, CRM, and operational databases into **AWS Redshift** and **Azure Synapse Analytics**.  \\n- Improved data processing times by 35% through optimization of **Apache Spark** jobs.  \\n- Collaborated with HR and IT to implement a talent analytics dashboard, providing insights into workforce performance.  \\n- Conducted workshops for cross-functional teams on data-driven decision-making and analytics tools.  \\n\\n**Data Engineer**  \\n*ABC Solutions, Hyderabad, India*  \\n*July 2018 – Dec 2020*  \\n- Developed automated ETL workflows in **AWS Lambda** and **Azure Functions** for seamless data ingestion.  \\n- Maintained and monitored **Azure Data Lake** storage, ensuring high availability and security.  \\n- Worked closely with HR and marketing teams to create reporting solutions for employee engagement surveys and campaign ROI metrics.  \\n- Mentored three junior team members, improving team productivity by 20%.  \\n\\n---\\n\\n### **Education**  \\n**Bachelor of Technology in Computer Science Engineering**  \\n*Osmania University, Hyderabad, India*  \\n*2014 – 2018*  \\n\\n---\\n\\n### **Certifications**  \\n- **Microsoft Certified: Azure Data Engineer Associate**  \\n- **AWS Certified Data Analytics – Specialty**  \\n\\n---\\n\\n### **Achievements**  \\n- Streamlined HR analytics by automating survey data pipelines, reducing reporting time by 50%.  \\n- Awarded **\"Employee of the Year\"** (2022) for leading a cross-functional data migration project.  \\n\\n---\\n\\n### **Hobbies and Interests**  \\n- Mentoring aspiring engineers through LinkedIn learning groups.  \\n- Reading books on behavioral psychology and people management.  \\n\\n--- \\n\\nThis resume integrates both technical expertise and HR skills, making it balanced and impactful.\\n\\n . Please validate if the resume suits the Data Engineering skillset.', additional_kwargs={}, response_metadata={}, id='232c4cd5-0b59-47e0-bd1a-3eccc54a30d5'), HumanMessage(content='\\n**Praveen Reddy**  \\n📧 praveen@gmail.com | 📱 +91 98765 43210 | 🌐 LinkedIn: linkedin.com/in/praveen-reddy | 📍 Bangalore, India  \\n\\n---\\n\\n### **Professional Summary**  \\nA results-driven **Data Engineer** with 5+ years of experience in designing, developing, and managing data pipelines and workflows in **Azure** and **AWS** environments. Skilled in big data tools, data modeling, and cloud-based ETL processes. Proficient in aligning technical solutions with business goals while fostering collaborative work environments. Strong interpersonal and HR competencies ensure seamless collaboration across cross-functional teams.  \\n\\n---\\n\\n### **Technical Skills**  \\n**Cloud Platforms**: Azure (Data Factory, Synapse, Data Lake), AWS (Glue, Redshift, S3, EMR)  \\n**Big Data**: Apache Spark, Hadoop, PySpark  \\n**ETL Tools**: Azure Data Factory, AWS Glue  \\n**Databases**: SQL, NoSQL, PostgreSQL, MongoDB  \\n**Programming**: Python, Scala, SQL  \\n**Other Tools**: Docker, Kubernetes, Terraform  \\n\\n---\\n\\n### **HR-Specific Strengths**  \\n- **Collaboration and Teamwork**: Proven ability to work with diverse teams across engineering, business, and HR units, ensuring projects align with organizational goals.  \\n- **Effective Communication**: Adept at explaining technical concepts in simple terms to non-technical stakeholders and leadership.  \\n- **Adaptability**: Thrives in dynamic environments and quickly learns new technologies and workflows.  \\n- **Leadership and Mentorship**: Regularly guide junior engineers and interns in professional development and skill-building.  \\n- **Conflict Resolution**: Skilled in resolving team conflicts and fostering a positive, productive work environment.  \\n\\n---\\n\\n### **Professional Experience**  \\n\\n**Senior Data Engineer**  \\n*XYZ Corporation, Bangalore, India*  \\n*Jan 2021 – Present*  \\n- Designed and implemented scalable **data pipelines** in **Azure Data Factory** and **AWS Glue** to process and analyze large datasets.  \\n- Spearheaded data integration projects, integrating sources like IoT, CRM, and operational databases into **AWS Redshift** and **Azure Synapse Analytics**.  \\n- Improved data processing times by 35% through optimization of **Apache Spark** jobs.  \\n- Collaborated with HR and IT to implement a talent analytics dashboard, providing insights into workforce performance.  \\n- Conducted workshops for cross-functional teams on data-driven decision-making and analytics tools.  \\n\\n**Data Engineer**  \\n*ABC Solutions, Hyderabad, India*  \\n*July 2018 – Dec 2020*  \\n- Developed automated ETL workflows in **AWS Lambda** and **Azure Functions** for seamless data ingestion.  \\n- Maintained and monitored **Azure Data Lake** storage, ensuring high availability and security.  \\n- Worked closely with HR and marketing teams to create reporting solutions for employee engagement surveys and campaign ROI metrics.  \\n- Mentored three junior team members, improving team productivity by 20%.  \\n\\n---\\n\\n### **Education**  \\n**Bachelor of Technology in Computer Science Engineering**  \\n*Osmania University, Hyderabad, India*  \\n*2014 – 2018*  \\n\\n---\\n\\n### **Certifications**  \\n- **Microsoft Certified: Azure Data Engineer Associate**  \\n- **AWS Certified Data Analytics – Specialty**  \\n\\n---\\n\\n### **Achievements**  \\n- Streamlined HR analytics by automating survey data pipelines, reducing reporting time by 50%.  \\n- Awarded **\"Employee of the Year\"** (2022) for leading a cross-functional data migration project.  \\n\\n---\\n\\n### **Hobbies and Interests**  \\n- Mentoring aspiring engineers through LinkedIn learning groups.  \\n- Reading books on behavioral psychology and people management.  \\n\\n--- \\n\\nThis resume integrates both technical expertise and HR skills, making it balanced and impactful.\\n\\n . Please validate if the resume suits the Data Engineering skillset.', additional_kwargs={}, response_metadata={}, id='232c4cd5-0b59-47e0-bd1a-3eccc54a30d5'), AIMessage(content='', additional_kwargs={'tool_calls': [{'id': 'call_i6emuPHTyyph1QpvwlJ8ZhYB', 'function': {'arguments': '{\"resume\":\"A results-driven Data Engineer with 5+ years of experience in designing, developing, and managing data pipelines and workflows in Azure and AWS environments. Skilled in big data tools, data modeling, and cloud-based ETL processes. Proficient in aligning technical solutions with business goals while fostering collaborative work environments. Strong interpersonal and HR competencies ensure seamless collaboration across cross-functional teams.\",\"skill\":\"Data Engineering\"}', 'name': 'resume_screener'}, 'type': 'function'}], 'refusal': None}, response_metadata={'token_usage': {'completion_tokens': 95, 'prompt_tokens': 994, 'total_tokens': 1089, 'completion_tokens_details': {'accepted_prediction_tokens': 0, 'audio_tokens': 0, 'reasoning_tokens': 0, 'rejected_prediction_tokens': 0}, 'prompt_tokens_details': {'audio_tokens': 0, 'cached_tokens': 0}}, 'model_name': 'gpt-3.5-turbo-0125', 'system_fingerprint': None, 'finish_reason': 'tool_calls', 'logprobs': None}, id='run-fd4836d0-2c04-43dd-9f8d-35de35f68020-0', tool_calls=[{'name': 'resume_screener', 'args': {'resume': 'A results-driven Data Engineer with 5+ years of experience in designing, developing, and managing data pipelines and workflows in Azure and AWS environments. Skilled in big data tools, data modeling, and cloud-based ETL processes. Proficient in aligning technical solutions with business goals while fostering collaborative work environments. Strong interpersonal and HR competencies ensure seamless collaboration across cross-functional teams.', 'skill': 'Data Engineering'}, 'id': 'call_i6emuPHTyyph1QpvwlJ8ZhYB', 'type': 'tool_call'}], usage_metadata={'input_tokens': 994, 'output_tokens': 95, 'total_tokens': 1089, 'input_token_details': {'audio': 0, 'cache_read': 0}, 'output_token_details': {'audio': 0, 'reasoning': 0}}), ToolMessage(content='{\\'messages\\': [AIMessage(content=\"Based on the provided resume, the candidate\\'s skills and experience align well with the Data Engineer skill set. Here are the key points from the resume that match the Data Engineer skill requirements:\\\\n- 5+ years of experience in designing, developing, and managing data pipelines and workflows in Azure and AWS environments.\\\\n- Skilled in big data tools, data modeling, and cloud-based ETL processes.\\\\n- Proficient in aligning technical solutions with business goals.\\\\n- Experience in working with cross-functional teams.\\\\n\\\\nConsidering the candidate\\'s experience and the skills mentioned in the resume, I would select this resume for the Data Engineer position.\", additional_kwargs={\\'refusal\\': None}, response_metadata={\\'token_usage\\': {\\'completion_tokens\\': 124, \\'prompt_tokens\\': 226, \\'total_tokens\\': 350, \\'completion_tokens_details\\': {\\'accepted_prediction_tokens\\': 0, \\'audio_tokens\\': 0, \\'reasoning_tokens\\': 0, \\'rejected_prediction_tokens\\': 0}, \\'prompt_tokens_details\\': {\\'audio_tokens\\': 0, \\'cached_tokens\\': 0}}, \\'model_name\\': \\'gpt-3.5-turbo-0125\\', \\'system_fingerprint\\': None, \\'finish_reason\\': \\'stop\\', \\'logprobs\\': None}, id=\\'run-f422f375-77fe-43dc-b471-c7b9144e391e-0\\', usage_metadata={\\'input_tokens\\': 226, \\'output_tokens\\': 124, \\'total_tokens\\': 350, \\'input_token_details\\': {\\'audio\\': 0, \\'cache_read\\': 0}, \\'output_token_details\\': {\\'audio\\': 0, \\'reasoning\\': 0}})]}', name='resume_screener', id='58ea074e-0c81-4c49-af4b-0197b4897def', tool_call_id='call_i6emuPHTyyph1QpvwlJ8ZhYB'), AIMessage(content='The resume of Praveen Reddy aligns well with the Data Engineer skill set. The candidate has 5+ years of experience in designing, developing, and managing data pipelines and workflows in Azure and AWS environments. They are skilled in big data tools, data modeling, and cloud-based ETL processes. Additionally, they have experience in aligning technical solutions with business goals and collaborating with cross-functional teams. I would recommend selecting this resume for the Data Engineer position.', additional_kwargs={'refusal': None}, response_metadata={'token_usage': {'completion_tokens': 95, 'prompt_tokens': 1453, 'total_tokens': 1548, 'completion_tokens_details': {'accepted_prediction_tokens': 0, 'audio_tokens': 0, 'reasoning_tokens': 0, 'rejected_prediction_tokens': 0}, 'prompt_tokens_details': {'audio_tokens': 0, 'cached_tokens': 0}}, 'model_name': 'gpt-3.5-turbo-0125', 'system_fingerprint': None, 'finish_reason': 'stop', 'logprobs': None}, id='run-c87ecb7d-5a5b-4220-bab2-d3b6888f321a-0', usage_metadata={'input_tokens': 1453, 'output_tokens': 95, 'total_tokens': 1548, 'input_token_details': {'audio': 0, 'cache_read': 0}, 'output_token_details': {'audio': 0, 'reasoning': 0}})]}}\n",
      "----\n",
      "{'hr_node': {'messages': [HumanMessage(content='\\n**Praveen Reddy**  \\n📧 praveen@gmail.com | 📱 +91 98765 43210 | 🌐 LinkedIn: linkedin.com/in/praveen-reddy | 📍 Bangalore, India  \\n\\n---\\n\\n### **Professional Summary**  \\nA results-driven **Data Engineer** with 5+ years of experience in designing, developing, and managing data pipelines and workflows in **Azure** and **AWS** environments. Skilled in big data tools, data modeling, and cloud-based ETL processes. Proficient in aligning technical solutions with business goals while fostering collaborative work environments. Strong interpersonal and HR competencies ensure seamless collaboration across cross-functional teams.  \\n\\n---\\n\\n### **Technical Skills**  \\n**Cloud Platforms**: Azure (Data Factory, Synapse, Data Lake), AWS (Glue, Redshift, S3, EMR)  \\n**Big Data**: Apache Spark, Hadoop, PySpark  \\n**ETL Tools**: Azure Data Factory, AWS Glue  \\n**Databases**: SQL, NoSQL, PostgreSQL, MongoDB  \\n**Programming**: Python, Scala, SQL  \\n**Other Tools**: Docker, Kubernetes, Terraform  \\n\\n---\\n\\n### **HR-Specific Strengths**  \\n- **Collaboration and Teamwork**: Proven ability to work with diverse teams across engineering, business, and HR units, ensuring projects align with organizational goals.  \\n- **Effective Communication**: Adept at explaining technical concepts in simple terms to non-technical stakeholders and leadership.  \\n- **Adaptability**: Thrives in dynamic environments and quickly learns new technologies and workflows.  \\n- **Leadership and Mentorship**: Regularly guide junior engineers and interns in professional development and skill-building.  \\n- **Conflict Resolution**: Skilled in resolving team conflicts and fostering a positive, productive work environment.  \\n\\n---\\n\\n### **Professional Experience**  \\n\\n**Senior Data Engineer**  \\n*XYZ Corporation, Bangalore, India*  \\n*Jan 2021 – Present*  \\n- Designed and implemented scalable **data pipelines** in **Azure Data Factory** and **AWS Glue** to process and analyze large datasets.  \\n- Spearheaded data integration projects, integrating sources like IoT, CRM, and operational databases into **AWS Redshift** and **Azure Synapse Analytics**.  \\n- Improved data processing times by 35% through optimization of **Apache Spark** jobs.  \\n- Collaborated with HR and IT to implement a talent analytics dashboard, providing insights into workforce performance.  \\n- Conducted workshops for cross-functional teams on data-driven decision-making and analytics tools.  \\n\\n**Data Engineer**  \\n*ABC Solutions, Hyderabad, India*  \\n*July 2018 – Dec 2020*  \\n- Developed automated ETL workflows in **AWS Lambda** and **Azure Functions** for seamless data ingestion.  \\n- Maintained and monitored **Azure Data Lake** storage, ensuring high availability and security.  \\n- Worked closely with HR and marketing teams to create reporting solutions for employee engagement surveys and campaign ROI metrics.  \\n- Mentored three junior team members, improving team productivity by 20%.  \\n\\n---\\n\\n### **Education**  \\n**Bachelor of Technology in Computer Science Engineering**  \\n*Osmania University, Hyderabad, India*  \\n*2014 – 2018*  \\n\\n---\\n\\n### **Certifications**  \\n- **Microsoft Certified: Azure Data Engineer Associate**  \\n- **AWS Certified Data Analytics – Specialty**  \\n\\n---\\n\\n### **Achievements**  \\n- Streamlined HR analytics by automating survey data pipelines, reducing reporting time by 50%.  \\n- Awarded **\"Employee of the Year\"** (2022) for leading a cross-functional data migration project.  \\n\\n---\\n\\n### **Hobbies and Interests**  \\n- Mentoring aspiring engineers through LinkedIn learning groups.  \\n- Reading books on behavioral psychology and people management.  \\n\\n--- \\n\\nThis resume integrates both technical expertise and HR skills, making it balanced and impactful.\\n\\n . Please validate if the resume suits the Data Engineering skillset.', additional_kwargs={}, response_metadata={}, id='232c4cd5-0b59-47e0-bd1a-3eccc54a30d5'), HumanMessage(content='\\n**Praveen Reddy**  \\n📧 praveen@gmail.com | 📱 +91 98765 43210 | 🌐 LinkedIn: linkedin.com/in/praveen-reddy | 📍 Bangalore, India  \\n\\n---\\n\\n### **Professional Summary**  \\nA results-driven **Data Engineer** with 5+ years of experience in designing, developing, and managing data pipelines and workflows in **Azure** and **AWS** environments. Skilled in big data tools, data modeling, and cloud-based ETL processes. Proficient in aligning technical solutions with business goals while fostering collaborative work environments. Strong interpersonal and HR competencies ensure seamless collaboration across cross-functional teams.  \\n\\n---\\n\\n### **Technical Skills**  \\n**Cloud Platforms**: Azure (Data Factory, Synapse, Data Lake), AWS (Glue, Redshift, S3, EMR)  \\n**Big Data**: Apache Spark, Hadoop, PySpark  \\n**ETL Tools**: Azure Data Factory, AWS Glue  \\n**Databases**: SQL, NoSQL, PostgreSQL, MongoDB  \\n**Programming**: Python, Scala, SQL  \\n**Other Tools**: Docker, Kubernetes, Terraform  \\n\\n---\\n\\n### **HR-Specific Strengths**  \\n- **Collaboration and Teamwork**: Proven ability to work with diverse teams across engineering, business, and HR units, ensuring projects align with organizational goals.  \\n- **Effective Communication**: Adept at explaining technical concepts in simple terms to non-technical stakeholders and leadership.  \\n- **Adaptability**: Thrives in dynamic environments and quickly learns new technologies and workflows.  \\n- **Leadership and Mentorship**: Regularly guide junior engineers and interns in professional development and skill-building.  \\n- **Conflict Resolution**: Skilled in resolving team conflicts and fostering a positive, productive work environment.  \\n\\n---\\n\\n### **Professional Experience**  \\n\\n**Senior Data Engineer**  \\n*XYZ Corporation, Bangalore, India*  \\n*Jan 2021 – Present*  \\n- Designed and implemented scalable **data pipelines** in **Azure Data Factory** and **AWS Glue** to process and analyze large datasets.  \\n- Spearheaded data integration projects, integrating sources like IoT, CRM, and operational databases into **AWS Redshift** and **Azure Synapse Analytics**.  \\n- Improved data processing times by 35% through optimization of **Apache Spark** jobs.  \\n- Collaborated with HR and IT to implement a talent analytics dashboard, providing insights into workforce performance.  \\n- Conducted workshops for cross-functional teams on data-driven decision-making and analytics tools.  \\n\\n**Data Engineer**  \\n*ABC Solutions, Hyderabad, India*  \\n*July 2018 – Dec 2020*  \\n- Developed automated ETL workflows in **AWS Lambda** and **Azure Functions** for seamless data ingestion.  \\n- Maintained and monitored **Azure Data Lake** storage, ensuring high availability and security.  \\n- Worked closely with HR and marketing teams to create reporting solutions for employee engagement surveys and campaign ROI metrics.  \\n- Mentored three junior team members, improving team productivity by 20%.  \\n\\n---\\n\\n### **Education**  \\n**Bachelor of Technology in Computer Science Engineering**  \\n*Osmania University, Hyderabad, India*  \\n*2014 – 2018*  \\n\\n---\\n\\n### **Certifications**  \\n- **Microsoft Certified: Azure Data Engineer Associate**  \\n- **AWS Certified Data Analytics – Specialty**  \\n\\n---\\n\\n### **Achievements**  \\n- Streamlined HR analytics by automating survey data pipelines, reducing reporting time by 50%.  \\n- Awarded **\"Employee of the Year\"** (2022) for leading a cross-functional data migration project.  \\n\\n---\\n\\n### **Hobbies and Interests**  \\n- Mentoring aspiring engineers through LinkedIn learning groups.  \\n- Reading books on behavioral psychology and people management.  \\n\\n--- \\n\\nThis resume integrates both technical expertise and HR skills, making it balanced and impactful.\\n\\n . Please validate if the resume suits the Data Engineering skillset.', additional_kwargs={}, response_metadata={}, id='232c4cd5-0b59-47e0-bd1a-3eccc54a30d5'), AIMessage(content='', additional_kwargs={'tool_calls': [{'id': 'call_i6emuPHTyyph1QpvwlJ8ZhYB', 'function': {'arguments': '{\"resume\":\"A results-driven Data Engineer with 5+ years of experience in designing, developing, and managing data pipelines and workflows in Azure and AWS environments. Skilled in big data tools, data modeling, and cloud-based ETL processes. Proficient in aligning technical solutions with business goals while fostering collaborative work environments. Strong interpersonal and HR competencies ensure seamless collaboration across cross-functional teams.\",\"skill\":\"Data Engineering\"}', 'name': 'resume_screener'}, 'type': 'function'}], 'refusal': None}, response_metadata={'token_usage': {'completion_tokens': 95, 'prompt_tokens': 994, 'total_tokens': 1089, 'completion_tokens_details': {'accepted_prediction_tokens': 0, 'audio_tokens': 0, 'reasoning_tokens': 0, 'rejected_prediction_tokens': 0}, 'prompt_tokens_details': {'audio_tokens': 0, 'cached_tokens': 0}}, 'model_name': 'gpt-3.5-turbo-0125', 'system_fingerprint': None, 'finish_reason': 'tool_calls', 'logprobs': None}, id='run-fd4836d0-2c04-43dd-9f8d-35de35f68020-0', tool_calls=[{'name': 'resume_screener', 'args': {'resume': 'A results-driven Data Engineer with 5+ years of experience in designing, developing, and managing data pipelines and workflows in Azure and AWS environments. Skilled in big data tools, data modeling, and cloud-based ETL processes. Proficient in aligning technical solutions with business goals while fostering collaborative work environments. Strong interpersonal and HR competencies ensure seamless collaboration across cross-functional teams.', 'skill': 'Data Engineering'}, 'id': 'call_i6emuPHTyyph1QpvwlJ8ZhYB', 'type': 'tool_call'}], usage_metadata={'input_tokens': 994, 'output_tokens': 95, 'total_tokens': 1089, 'input_token_details': {'audio': 0, 'cache_read': 0}, 'output_token_details': {'audio': 0, 'reasoning': 0}}), ToolMessage(content='{\\'messages\\': [AIMessage(content=\"Based on the provided resume, the candidate\\'s skills and experience align well with the Data Engineer skill set. Here are the key points from the resume that match the Data Engineer skill requirements:\\\\n- 5+ years of experience in designing, developing, and managing data pipelines and workflows in Azure and AWS environments.\\\\n- Skilled in big data tools, data modeling, and cloud-based ETL processes.\\\\n- Proficient in aligning technical solutions with business goals.\\\\n- Experience in working with cross-functional teams.\\\\n\\\\nConsidering the candidate\\'s experience and the skills mentioned in the resume, I would select this resume for the Data Engineer position.\", additional_kwargs={\\'refusal\\': None}, response_metadata={\\'token_usage\\': {\\'completion_tokens\\': 124, \\'prompt_tokens\\': 226, \\'total_tokens\\': 350, \\'completion_tokens_details\\': {\\'accepted_prediction_tokens\\': 0, \\'audio_tokens\\': 0, \\'reasoning_tokens\\': 0, \\'rejected_prediction_tokens\\': 0}, \\'prompt_tokens_details\\': {\\'audio_tokens\\': 0, \\'cached_tokens\\': 0}}, \\'model_name\\': \\'gpt-3.5-turbo-0125\\', \\'system_fingerprint\\': None, \\'finish_reason\\': \\'stop\\', \\'logprobs\\': None}, id=\\'run-f422f375-77fe-43dc-b471-c7b9144e391e-0\\', usage_metadata={\\'input_tokens\\': 226, \\'output_tokens\\': 124, \\'total_tokens\\': 350, \\'input_token_details\\': {\\'audio\\': 0, \\'cache_read\\': 0}, \\'output_token_details\\': {\\'audio\\': 0, \\'reasoning\\': 0}})]}', name='resume_screener', id='58ea074e-0c81-4c49-af4b-0197b4897def', tool_call_id='call_i6emuPHTyyph1QpvwlJ8ZhYB'), AIMessage(content='The resume of Praveen Reddy aligns well with the Data Engineer skill set. The candidate has 5+ years of experience in designing, developing, and managing data pipelines and workflows in Azure and AWS environments. They are skilled in big data tools, data modeling, and cloud-based ETL processes. Additionally, they have experience in aligning technical solutions with business goals and collaborating with cross-functional teams. I would recommend selecting this resume for the Data Engineer position.', additional_kwargs={'refusal': None}, response_metadata={'token_usage': {'completion_tokens': 95, 'prompt_tokens': 1453, 'total_tokens': 1548, 'completion_tokens_details': {'accepted_prediction_tokens': 0, 'audio_tokens': 0, 'reasoning_tokens': 0, 'rejected_prediction_tokens': 0}, 'prompt_tokens_details': {'audio_tokens': 0, 'cached_tokens': 0}}, 'model_name': 'gpt-3.5-turbo-0125', 'system_fingerprint': None, 'finish_reason': 'stop', 'logprobs': None}, id='run-c87ecb7d-5a5b-4220-bab2-d3b6888f321a-0', usage_metadata={'input_tokens': 1453, 'output_tokens': 95, 'total_tokens': 1548, 'input_token_details': {'audio': 0, 'cache_read': 0}, 'output_token_details': {'audio': 0, 'reasoning': 0}}), HumanMessage(content='\\n**Praveen Reddy**  \\n📧 praveen@gmail.com | 📱 +91 98765 43210 | 🌐 LinkedIn: linkedin.com/in/praveen-reddy | 📍 Bangalore, India  \\n\\n---\\n\\n### **Professional Summary**  \\nA results-driven **Data Engineer** with 5+ years of experience in designing, developing, and managing data pipelines and workflows in **Azure** and **AWS** environments. Skilled in big data tools, data modeling, and cloud-based ETL processes. Proficient in aligning technical solutions with business goals while fostering collaborative work environments. Strong interpersonal and HR competencies ensure seamless collaboration across cross-functional teams.  \\n\\n---\\n\\n### **Technical Skills**  \\n**Cloud Platforms**: Azure (Data Factory, Synapse, Data Lake), AWS (Glue, Redshift, S3, EMR)  \\n**Big Data**: Apache Spark, Hadoop, PySpark  \\n**ETL Tools**: Azure Data Factory, AWS Glue  \\n**Databases**: SQL, NoSQL, PostgreSQL, MongoDB  \\n**Programming**: Python, Scala, SQL  \\n**Other Tools**: Docker, Kubernetes, Terraform  \\n\\n---\\n\\n### **HR-Specific Strengths**  \\n- **Collaboration and Teamwork**: Proven ability to work with diverse teams across engineering, business, and HR units, ensuring projects align with organizational goals.  \\n- **Effective Communication**: Adept at explaining technical concepts in simple terms to non-technical stakeholders and leadership.  \\n- **Adaptability**: Thrives in dynamic environments and quickly learns new technologies and workflows.  \\n- **Leadership and Mentorship**: Regularly guide junior engineers and interns in professional development and skill-building.  \\n- **Conflict Resolution**: Skilled in resolving team conflicts and fostering a positive, productive work environment.  \\n\\n---\\n\\n### **Professional Experience**  \\n\\n**Senior Data Engineer**  \\n*XYZ Corporation, Bangalore, India*  \\n*Jan 2021 – Present*  \\n- Designed and implemented scalable **data pipelines** in **Azure Data Factory** and **AWS Glue** to process and analyze large datasets.  \\n- Spearheaded data integration projects, integrating sources like IoT, CRM, and operational databases into **AWS Redshift** and **Azure Synapse Analytics**.  \\n- Improved data processing times by 35% through optimization of **Apache Spark** jobs.  \\n- Collaborated with HR and IT to implement a talent analytics dashboard, providing insights into workforce performance.  \\n- Conducted workshops for cross-functional teams on data-driven decision-making and analytics tools.  \\n\\n**Data Engineer**  \\n*ABC Solutions, Hyderabad, India*  \\n*July 2018 – Dec 2020*  \\n- Developed automated ETL workflows in **AWS Lambda** and **Azure Functions** for seamless data ingestion.  \\n- Maintained and monitored **Azure Data Lake** storage, ensuring high availability and security.  \\n- Worked closely with HR and marketing teams to create reporting solutions for employee engagement surveys and campaign ROI metrics.  \\n- Mentored three junior team members, improving team productivity by 20%.  \\n\\n---\\n\\n### **Education**  \\n**Bachelor of Technology in Computer Science Engineering**  \\n*Osmania University, Hyderabad, India*  \\n*2014 – 2018*  \\n\\n---\\n\\n### **Certifications**  \\n- **Microsoft Certified: Azure Data Engineer Associate**  \\n- **AWS Certified Data Analytics – Specialty**  \\n\\n---\\n\\n### **Achievements**  \\n- Streamlined HR analytics by automating survey data pipelines, reducing reporting time by 50%.  \\n- Awarded **\"Employee of the Year\"** (2022) for leading a cross-functional data migration project.  \\n\\n---\\n\\n### **Hobbies and Interests**  \\n- Mentoring aspiring engineers through LinkedIn learning groups.  \\n- Reading books on behavioral psychology and people management.  \\n\\n--- \\n\\nThis resume integrates both technical expertise and HR skills, making it balanced and impactful.\\n\\n . Please validate if the resume suits the Data Engineering skillset.', additional_kwargs={}, response_metadata={}, id='232c4cd5-0b59-47e0-bd1a-3eccc54a30d5'), HumanMessage(content='\\n**Praveen Reddy**  \\n📧 praveen@gmail.com | 📱 +91 98765 43210 | 🌐 LinkedIn: linkedin.com/in/praveen-reddy | 📍 Bangalore, India  \\n\\n---\\n\\n### **Professional Summary**  \\nA results-driven **Data Engineer** with 5+ years of experience in designing, developing, and managing data pipelines and workflows in **Azure** and **AWS** environments. Skilled in big data tools, data modeling, and cloud-based ETL processes. Proficient in aligning technical solutions with business goals while fostering collaborative work environments. Strong interpersonal and HR competencies ensure seamless collaboration across cross-functional teams.  \\n\\n---\\n\\n### **Technical Skills**  \\n**Cloud Platforms**: Azure (Data Factory, Synapse, Data Lake), AWS (Glue, Redshift, S3, EMR)  \\n**Big Data**: Apache Spark, Hadoop, PySpark  \\n**ETL Tools**: Azure Data Factory, AWS Glue  \\n**Databases**: SQL, NoSQL, PostgreSQL, MongoDB  \\n**Programming**: Python, Scala, SQL  \\n**Other Tools**: Docker, Kubernetes, Terraform  \\n\\n---\\n\\n### **HR-Specific Strengths**  \\n- **Collaboration and Teamwork**: Proven ability to work with diverse teams across engineering, business, and HR units, ensuring projects align with organizational goals.  \\n- **Effective Communication**: Adept at explaining technical concepts in simple terms to non-technical stakeholders and leadership.  \\n- **Adaptability**: Thrives in dynamic environments and quickly learns new technologies and workflows.  \\n- **Leadership and Mentorship**: Regularly guide junior engineers and interns in professional development and skill-building.  \\n- **Conflict Resolution**: Skilled in resolving team conflicts and fostering a positive, productive work environment.  \\n\\n---\\n\\n### **Professional Experience**  \\n\\n**Senior Data Engineer**  \\n*XYZ Corporation, Bangalore, India*  \\n*Jan 2021 – Present*  \\n- Designed and implemented scalable **data pipelines** in **Azure Data Factory** and **AWS Glue** to process and analyze large datasets.  \\n- Spearheaded data integration projects, integrating sources like IoT, CRM, and operational databases into **AWS Redshift** and **Azure Synapse Analytics**.  \\n- Improved data processing times by 35% through optimization of **Apache Spark** jobs.  \\n- Collaborated with HR and IT to implement a talent analytics dashboard, providing insights into workforce performance.  \\n- Conducted workshops for cross-functional teams on data-driven decision-making and analytics tools.  \\n\\n**Data Engineer**  \\n*ABC Solutions, Hyderabad, India*  \\n*July 2018 – Dec 2020*  \\n- Developed automated ETL workflows in **AWS Lambda** and **Azure Functions** for seamless data ingestion.  \\n- Maintained and monitored **Azure Data Lake** storage, ensuring high availability and security.  \\n- Worked closely with HR and marketing teams to create reporting solutions for employee engagement surveys and campaign ROI metrics.  \\n- Mentored three junior team members, improving team productivity by 20%.  \\n\\n---\\n\\n### **Education**  \\n**Bachelor of Technology in Computer Science Engineering**  \\n*Osmania University, Hyderabad, India*  \\n*2014 – 2018*  \\n\\n---\\n\\n### **Certifications**  \\n- **Microsoft Certified: Azure Data Engineer Associate**  \\n- **AWS Certified Data Analytics – Specialty**  \\n\\n---\\n\\n### **Achievements**  \\n- Streamlined HR analytics by automating survey data pipelines, reducing reporting time by 50%.  \\n- Awarded **\"Employee of the Year\"** (2022) for leading a cross-functional data migration project.  \\n\\n---\\n\\n### **Hobbies and Interests**  \\n- Mentoring aspiring engineers through LinkedIn learning groups.  \\n- Reading books on behavioral psychology and people management.  \\n\\n--- \\n\\nThis resume integrates both technical expertise and HR skills, making it balanced and impactful.\\n\\n . Please validate if the resume suits the Data Engineering skillset.', additional_kwargs={}, response_metadata={}, id='232c4cd5-0b59-47e0-bd1a-3eccc54a30d5'), AIMessage(content='', additional_kwargs={'tool_calls': [{'id': 'call_i6emuPHTyyph1QpvwlJ8ZhYB', 'function': {'arguments': '{\"resume\":\"A results-driven Data Engineer with 5+ years of experience in designing, developing, and managing data pipelines and workflows in Azure and AWS environments. Skilled in big data tools, data modeling, and cloud-based ETL processes. Proficient in aligning technical solutions with business goals while fostering collaborative work environments. Strong interpersonal and HR competencies ensure seamless collaboration across cross-functional teams.\",\"skill\":\"Data Engineering\"}', 'name': 'resume_screener'}, 'type': 'function'}], 'refusal': None}, response_metadata={'token_usage': {'completion_tokens': 95, 'prompt_tokens': 994, 'total_tokens': 1089, 'completion_tokens_details': {'accepted_prediction_tokens': 0, 'audio_tokens': 0, 'reasoning_tokens': 0, 'rejected_prediction_tokens': 0}, 'prompt_tokens_details': {'audio_tokens': 0, 'cached_tokens': 0}}, 'model_name': 'gpt-3.5-turbo-0125', 'system_fingerprint': None, 'finish_reason': 'tool_calls', 'logprobs': None}, id='run-fd4836d0-2c04-43dd-9f8d-35de35f68020-0', tool_calls=[{'name': 'resume_screener', 'args': {'resume': 'A results-driven Data Engineer with 5+ years of experience in designing, developing, and managing data pipelines and workflows in Azure and AWS environments. Skilled in big data tools, data modeling, and cloud-based ETL processes. Proficient in aligning technical solutions with business goals while fostering collaborative work environments. Strong interpersonal and HR competencies ensure seamless collaboration across cross-functional teams.', 'skill': 'Data Engineering'}, 'id': 'call_i6emuPHTyyph1QpvwlJ8ZhYB', 'type': 'tool_call'}], usage_metadata={'input_tokens': 994, 'output_tokens': 95, 'total_tokens': 1089, 'input_token_details': {'audio': 0, 'cache_read': 0}, 'output_token_details': {'audio': 0, 'reasoning': 0}}), ToolMessage(content='{\\'messages\\': [AIMessage(content=\"Based on the provided resume, the candidate\\'s skills and experience align well with the Data Engineer skill set. Here are the key points from the resume that match the Data Engineer skill requirements:\\\\n- 5+ years of experience in designing, developing, and managing data pipelines and workflows in Azure and AWS environments.\\\\n- Skilled in big data tools, data modeling, and cloud-based ETL processes.\\\\n- Proficient in aligning technical solutions with business goals.\\\\n- Experience in working with cross-functional teams.\\\\n\\\\nConsidering the candidate\\'s experience and the skills mentioned in the resume, I would select this resume for the Data Engineer position.\", additional_kwargs={\\'refusal\\': None}, response_metadata={\\'token_usage\\': {\\'completion_tokens\\': 124, \\'prompt_tokens\\': 226, \\'total_tokens\\': 350, \\'completion_tokens_details\\': {\\'accepted_prediction_tokens\\': 0, \\'audio_tokens\\': 0, \\'reasoning_tokens\\': 0, \\'rejected_prediction_tokens\\': 0}, \\'prompt_tokens_details\\': {\\'audio_tokens\\': 0, \\'cached_tokens\\': 0}}, \\'model_name\\': \\'gpt-3.5-turbo-0125\\', \\'system_fingerprint\\': None, \\'finish_reason\\': \\'stop\\', \\'logprobs\\': None}, id=\\'run-f422f375-77fe-43dc-b471-c7b9144e391e-0\\', usage_metadata={\\'input_tokens\\': 226, \\'output_tokens\\': 124, \\'total_tokens\\': 350, \\'input_token_details\\': {\\'audio\\': 0, \\'cache_read\\': 0}, \\'output_token_details\\': {\\'audio\\': 0, \\'reasoning\\': 0}})]}', name='resume_screener', id='58ea074e-0c81-4c49-af4b-0197b4897def', tool_call_id='call_i6emuPHTyyph1QpvwlJ8ZhYB'), AIMessage(content='The resume of Praveen Reddy aligns well with the Data Engineer skill set. The candidate has 5+ years of experience in designing, developing, and managing data pipelines and workflows in Azure and AWS environments. They are skilled in big data tools, data modeling, and cloud-based ETL processes. Additionally, they have experience in aligning technical solutions with business goals and collaborating with cross-functional teams. I would recommend selecting this resume for the Data Engineer position.', additional_kwargs={'refusal': None}, response_metadata={'token_usage': {'completion_tokens': 95, 'prompt_tokens': 1453, 'total_tokens': 1548, 'completion_tokens_details': {'accepted_prediction_tokens': 0, 'audio_tokens': 0, 'reasoning_tokens': 0, 'rejected_prediction_tokens': 0}, 'prompt_tokens_details': {'audio_tokens': 0, 'cached_tokens': 0}}, 'model_name': 'gpt-3.5-turbo-0125', 'system_fingerprint': None, 'finish_reason': 'stop', 'logprobs': None}, id='run-c87ecb7d-5a5b-4220-bab2-d3b6888f321a-0', usage_metadata={'input_tokens': 1453, 'output_tokens': 95, 'total_tokens': 1548, 'input_token_details': {'audio': 0, 'cache_read': 0}, 'output_token_details': {'audio': 0, 'reasoning': 0}}), AIMessage(content='', additional_kwargs={'tool_calls': [{'id': 'call_YfFGivRhj3RdM4c8x0dP0Kxv', 'function': {'arguments': '{\"resume\":\"A results-driven Data Engineer with 5+ years of experience in designing, developing, and managing data pipelines and workflows in Azure and AWS environments. Skilled in big data tools, data modeling, and cloud-based ETL processes. Proficient in aligning technical solutions with business goals while fostering collaborative work environments. Strong interpersonal and HR competencies ensure seamless collaboration across cross-functional teams.\"}', 'name': 'hr_filter'}, 'type': 'function'}], 'refusal': None}, response_metadata={'token_usage': {'completion_tokens': 89, 'prompt_tokens': 2339, 'total_tokens': 2428, 'completion_tokens_details': {'accepted_prediction_tokens': 0, 'audio_tokens': 0, 'reasoning_tokens': 0, 'rejected_prediction_tokens': 0}, 'prompt_tokens_details': {'audio_tokens': 0, 'cached_tokens': 0}}, 'model_name': 'gpt-3.5-turbo-0125', 'system_fingerprint': None, 'finish_reason': 'tool_calls', 'logprobs': None}, id='run-28b76a9f-8940-4395-a4d8-32310ef4f45e-0', tool_calls=[{'name': 'hr_filter', 'args': {'resume': 'A results-driven Data Engineer with 5+ years of experience in designing, developing, and managing data pipelines and workflows in Azure and AWS environments. Skilled in big data tools, data modeling, and cloud-based ETL processes. Proficient in aligning technical solutions with business goals while fostering collaborative work environments. Strong interpersonal and HR competencies ensure seamless collaboration across cross-functional teams.'}, 'id': 'call_YfFGivRhj3RdM4c8x0dP0Kxv', 'type': 'tool_call'}], usage_metadata={'input_tokens': 2339, 'output_tokens': 89, 'total_tokens': 2428, 'input_token_details': {'audio': 0, 'cache_read': 0}, 'output_token_details': {'audio': 0, 'reasoning': 0}}), ToolMessage(content=\"{'messages': [AIMessage(content='Thank you for sharing the resume. Based on the information provided, the candidate seems to possess strong technical skills related to data engineering, cloud environments, and big data tools. However, there is limited information regarding their experience or expertise in core HR functions such as talent management, recruitment, employee relations, performance evaluation, training and development, and HR policy compliance. Therefore, this candidate may not be the best fit for HR-related roles.', additional_kwargs={'refusal': None}, response_metadata={'token_usage': {'completion_tokens': 86, 'prompt_tokens': 222, 'total_tokens': 308, 'completion_tokens_details': {'accepted_prediction_tokens': 0, 'audio_tokens': 0, 'reasoning_tokens': 0, 'rejected_prediction_tokens': 0}, 'prompt_tokens_details': {'audio_tokens': 0, 'cached_tokens': 0}}, 'model_name': 'gpt-3.5-turbo-0125', 'system_fingerprint': None, 'finish_reason': 'stop', 'logprobs': None}, id='run-bc891328-bd20-4e5d-8f3c-dd5192e5c08d-0', usage_metadata={'input_tokens': 222, 'output_tokens': 86, 'total_tokens': 308, 'input_token_details': {'audio': 0, 'cache_read': 0}, 'output_token_details': {'audio': 0, 'reasoning': 0}})]}\", name='hr_filter', id='ba054728-caa5-4a62-8ae9-58b07bfcc53e', tool_call_id='call_YfFGivRhj3RdM4c8x0dP0Kxv'), AIMessage(content='Based on the analysis, the resume of Praveen Reddy demonstrates strong technical skills related to data engineering, cloud environments, and big data tools. However, there is limited information regarding core HR functions such as talent management, recruitment, employee relations, performance evaluation, training and development, and HR policy compliance. Therefore, this candidate may not be the best fit for HR-related roles.', additional_kwargs={'refusal': None}, response_metadata={'token_usage': {'completion_tokens': 78, 'prompt_tokens': 2751, 'total_tokens': 2829, 'completion_tokens_details': {'accepted_prediction_tokens': 0, 'audio_tokens': 0, 'reasoning_tokens': 0, 'rejected_prediction_tokens': 0}, 'prompt_tokens_details': {'audio_tokens': 0, 'cached_tokens': 0}}, 'model_name': 'gpt-3.5-turbo-0125', 'system_fingerprint': None, 'finish_reason': 'stop', 'logprobs': None}, id='run-408b8645-6b68-47ef-b2b4-917e1824b2eb-0', usage_metadata={'input_tokens': 2751, 'output_tokens': 78, 'total_tokens': 2829, 'input_token_details': {'audio': 0, 'cache_read': 0}, 'output_token_details': {'audio': 0, 'reasoning': 0}})]}}\n",
      "----\n",
      "{'resume_summarize': {'messages': [AIMessage(content='', additional_kwargs={'tool_calls': [{'id': 'call_7jjZUfqlcinFJhGrjuYebzUD', 'function': {'arguments': '{\"resume\":\"John Doe\\\\nSkills: Python, Java, SQL, Machine Learning\",\"skill\":\"Python, SQL, Machine Learning\"}', 'name': 'resume_screener'}, 'type': 'function'}], 'refusal': None}, response_metadata={'token_usage': {'completion_tokens': 37, 'prompt_tokens': 188, 'total_tokens': 225, 'completion_tokens_details': {'accepted_prediction_tokens': 0, 'audio_tokens': 0, 'reasoning_tokens': 0, 'rejected_prediction_tokens': 0}, 'prompt_tokens_details': {'audio_tokens': 0, 'cached_tokens': 0}}, 'model_name': 'gpt-3.5-turbo-0125', 'system_fingerprint': None, 'finish_reason': 'tool_calls', 'logprobs': None}, id='run-24e77f69-261b-47e4-8d82-97fab1354275-0', tool_calls=[{'name': 'resume_screener', 'args': {'resume': 'John Doe\\nSkills: Python, Java, SQL, Machine Learning', 'skill': 'Python, SQL, Machine Learning'}, 'id': 'call_7jjZUfqlcinFJhGrjuYebzUD', 'type': 'tool_call'}], usage_metadata={'input_tokens': 188, 'output_tokens': 37, 'total_tokens': 225, 'input_token_details': {'audio': 0, 'cache_read': 0}, 'output_token_details': {'audio': 0, 'reasoning': 0}}), ToolMessage(content=\"{'messages': [AIMessage(content='Based on the provided resume, the skills mentioned are Python, Java, SQL, and Machine Learning. \\\\nThe skills required are Python, SQL, and Machine Learning. \\\\nThe resume matches 2 out of 3 required skills. \\\\nTherefore, I would select this resume for further consideration.', additional_kwargs={'refusal': None}, response_metadata={'token_usage': {'completion_tokens': 58, 'prompt_tokens': 168, 'total_tokens': 226, 'completion_tokens_details': {'accepted_prediction_tokens': 0, 'audio_tokens': 0, 'reasoning_tokens': 0, 'rejected_prediction_tokens': 0}, 'prompt_tokens_details': {'audio_tokens': 0, 'cached_tokens': 0}}, 'model_name': 'gpt-3.5-turbo-0125', 'system_fingerprint': None, 'finish_reason': 'stop', 'logprobs': None}, id='run-d5153de0-73a8-4541-963b-e7070737bc5d-0', usage_metadata={'input_tokens': 168, 'output_tokens': 58, 'total_tokens': 226, 'input_token_details': {'audio': 0, 'cache_read': 0}, 'output_token_details': {'audio': 0, 'reasoning': 0}})]}\", name='resume_screener', id='b6f902a8-6f4c-4838-9077-f9c47a485e3d', tool_call_id='call_7jjZUfqlcinFJhGrjuYebzUD'), AIMessage(content='Based on the provided resume, the skills mentioned are Python, Java, SQL, and Machine Learning. The required skills are Python, SQL, and Machine Learning. The resume matches 2 out of 3 required skills. Therefore, I would select this resume for further consideration.', additional_kwargs={'refusal': None}, response_metadata={'token_usage': {'completion_tokens': 56, 'prompt_tokens': 520, 'total_tokens': 576, 'completion_tokens_details': {'accepted_prediction_tokens': 0, 'audio_tokens': 0, 'reasoning_tokens': 0, 'rejected_prediction_tokens': 0}, 'prompt_tokens_details': {'audio_tokens': 0, 'cached_tokens': 0}}, 'model_name': 'gpt-3.5-turbo-0125', 'system_fingerprint': None, 'finish_reason': 'stop', 'logprobs': None}, id='run-09c0ae27-89a5-4c69-a3f0-4c72c37ea409-0', usage_metadata={'input_tokens': 520, 'output_tokens': 56, 'total_tokens': 576, 'input_token_details': {'audio': 0, 'cache_read': 0}, 'output_token_details': {'audio': 0, 'reasoning': 0}}), AIMessage(content='', additional_kwargs={'tool_calls': [{'id': 'call_7jjZUfqlcinFJhGrjuYebzUD', 'function': {'arguments': '{\"resume\":\"John Doe\\\\nSkills: Python, Java, SQL, Machine Learning\",\"skill\":\"Python, SQL, Machine Learning\"}', 'name': 'resume_screener'}, 'type': 'function'}], 'refusal': None}, response_metadata={'token_usage': {'completion_tokens': 37, 'prompt_tokens': 188, 'total_tokens': 225, 'completion_tokens_details': {'accepted_prediction_tokens': 0, 'audio_tokens': 0, 'reasoning_tokens': 0, 'rejected_prediction_tokens': 0}, 'prompt_tokens_details': {'audio_tokens': 0, 'cached_tokens': 0}}, 'model_name': 'gpt-3.5-turbo-0125', 'system_fingerprint': None, 'finish_reason': 'tool_calls', 'logprobs': None}, id='run-24e77f69-261b-47e4-8d82-97fab1354275-0', tool_calls=[{'name': 'resume_screener', 'args': {'resume': 'John Doe\\nSkills: Python, Java, SQL, Machine Learning', 'skill': 'Python, SQL, Machine Learning'}, 'id': 'call_7jjZUfqlcinFJhGrjuYebzUD', 'type': 'tool_call'}], usage_metadata={'input_tokens': 188, 'output_tokens': 37, 'total_tokens': 225, 'input_token_details': {'audio': 0, 'cache_read': 0}, 'output_token_details': {'audio': 0, 'reasoning': 0}}), ToolMessage(content=\"{'messages': [AIMessage(content='Based on the provided resume, the skills mentioned are Python, Java, SQL, and Machine Learning. \\\\nThe skills required are Python, SQL, and Machine Learning. \\\\nThe resume matches 2 out of 3 required skills. \\\\nTherefore, I would select this resume for further consideration.', additional_kwargs={'refusal': None}, response_metadata={'token_usage': {'completion_tokens': 58, 'prompt_tokens': 168, 'total_tokens': 226, 'completion_tokens_details': {'accepted_prediction_tokens': 0, 'audio_tokens': 0, 'reasoning_tokens': 0, 'rejected_prediction_tokens': 0}, 'prompt_tokens_details': {'audio_tokens': 0, 'cached_tokens': 0}}, 'model_name': 'gpt-3.5-turbo-0125', 'system_fingerprint': None, 'finish_reason': 'stop', 'logprobs': None}, id='run-d5153de0-73a8-4541-963b-e7070737bc5d-0', usage_metadata={'input_tokens': 168, 'output_tokens': 58, 'total_tokens': 226, 'input_token_details': {'audio': 0, 'cache_read': 0}, 'output_token_details': {'audio': 0, 'reasoning': 0}})]}\", name='resume_screener', id='b6f902a8-6f4c-4838-9077-f9c47a485e3d', tool_call_id='call_7jjZUfqlcinFJhGrjuYebzUD'), AIMessage(content='Based on the provided resume, the skills mentioned are Python, Java, SQL, and Machine Learning. The required skills are Python, SQL, and Machine Learning. The resume matches 2 out of 3 required skills. Therefore, I would select this resume for further consideration.', additional_kwargs={'refusal': None}, response_metadata={'token_usage': {'completion_tokens': 56, 'prompt_tokens': 520, 'total_tokens': 576, 'completion_tokens_details': {'accepted_prediction_tokens': 0, 'audio_tokens': 0, 'reasoning_tokens': 0, 'rejected_prediction_tokens': 0}, 'prompt_tokens_details': {'audio_tokens': 0, 'cached_tokens': 0}}, 'model_name': 'gpt-3.5-turbo-0125', 'system_fingerprint': None, 'finish_reason': 'stop', 'logprobs': None}, id='run-09c0ae27-89a5-4c69-a3f0-4c72c37ea409-0', usage_metadata={'input_tokens': 520, 'output_tokens': 56, 'total_tokens': 576, 'input_token_details': {'audio': 0, 'cache_read': 0}, 'output_token_details': {'audio': 0, 'reasoning': 0}}), AIMessage(content='', additional_kwargs={'tool_calls': [{'id': 'call_Wx9NV2pUaajMyslFm7oN8LyE', 'function': {'arguments': '{\"resume\":\"John Doe\\\\nSkills: Python, Java, SQL, Machine Learning\"}', 'name': 'hr_filter'}, 'type': 'function'}], 'refusal': None}, response_metadata={'token_usage': {'completion_tokens': 26, 'prompt_tokens': 561, 'total_tokens': 587, 'completion_tokens_details': {'accepted_prediction_tokens': 0, 'audio_tokens': 0, 'reasoning_tokens': 0, 'rejected_prediction_tokens': 0}, 'prompt_tokens_details': {'audio_tokens': 0, 'cached_tokens': 0}}, 'model_name': 'gpt-3.5-turbo-0125', 'system_fingerprint': None, 'finish_reason': 'tool_calls', 'logprobs': None}, id='run-107a1a47-5288-4a0f-88cc-88976d870f92-0', tool_calls=[{'name': 'hr_filter', 'args': {'resume': 'John Doe\\nSkills: Python, Java, SQL, Machine Learning'}, 'id': 'call_Wx9NV2pUaajMyslFm7oN8LyE', 'type': 'tool_call'}], usage_metadata={'input_tokens': 561, 'output_tokens': 26, 'total_tokens': 587, 'input_token_details': {'audio': 0, 'cache_read': 0}, 'output_token_details': {'audio': 0, 'reasoning': 0}}), ToolMessage(content=\"{'messages': [AIMessage(content='Thank you for submitting your resume. However, based on the skills listed, it seems like your expertise lies in technical areas such as programming languages and machine learning. I would recommend highlighting your HR-related skills and experience to better assess your suitability for HR roles.', additional_kwargs={'refusal': None}, response_metadata={'token_usage': {'completion_tokens': 51, 'prompt_tokens': 160, 'total_tokens': 211, 'completion_tokens_details': {'accepted_prediction_tokens': 0, 'audio_tokens': 0, 'reasoning_tokens': 0, 'rejected_prediction_tokens': 0}, 'prompt_tokens_details': {'audio_tokens': 0, 'cached_tokens': 0}}, 'model_name': 'gpt-3.5-turbo-0125', 'system_fingerprint': None, 'finish_reason': 'stop', 'logprobs': None}, id='run-d770ad97-ba5d-4e86-82d4-bea6564e3c44-0', usage_metadata={'input_tokens': 160, 'output_tokens': 51, 'total_tokens': 211, 'input_token_details': {'audio': 0, 'cache_read': 0}, 'output_token_details': {'audio': 0, 'reasoning': 0}})]}\", name='hr_filter', id='9a1c728a-d0db-4bfa-a06f-1c71a9e1b33c', tool_call_id='call_Wx9NV2pUaajMyslFm7oN8LyE'), AIMessage(content='Based on the HR skills in the resume, it seems like the expertise lies in technical areas such as programming languages and machine learning. It is recommended to highlight HR-related skills and experience to better assess suitability for HR roles.', additional_kwargs={'refusal': None}, response_metadata={'token_usage': {'completion_tokens': 45, 'prompt_tokens': 874, 'total_tokens': 919, 'completion_tokens_details': {'accepted_prediction_tokens': 0, 'audio_tokens': 0, 'reasoning_tokens': 0, 'rejected_prediction_tokens': 0}, 'prompt_tokens_details': {'audio_tokens': 0, 'cached_tokens': 0}}, 'model_name': 'gpt-3.5-turbo-0125', 'system_fingerprint': None, 'finish_reason': 'stop', 'logprobs': None}, id='run-df979bfb-3c7d-4cdc-a4ea-d470ffaa89d3-0', usage_metadata={'input_tokens': 874, 'output_tokens': 45, 'total_tokens': 919, 'input_token_details': {'audio': 0, 'cache_read': 0}, 'output_token_details': {'audio': 0, 'reasoning': 0}}), AIMessage(content='', additional_kwargs={'tool_calls': [{'id': 'call_7jjZUfqlcinFJhGrjuYebzUD', 'function': {'arguments': '{\"resume\":\"John Doe\\\\nSkills: Python, Java, SQL, Machine Learning\",\"skill\":\"Python, SQL, Machine Learning\"}', 'name': 'resume_screener'}, 'type': 'function'}], 'refusal': None}, response_metadata={'token_usage': {'completion_tokens': 37, 'prompt_tokens': 188, 'total_tokens': 225, 'completion_tokens_details': {'accepted_prediction_tokens': 0, 'audio_tokens': 0, 'reasoning_tokens': 0, 'rejected_prediction_tokens': 0}, 'prompt_tokens_details': {'audio_tokens': 0, 'cached_tokens': 0}}, 'model_name': 'gpt-3.5-turbo-0125', 'system_fingerprint': None, 'finish_reason': 'tool_calls', 'logprobs': None}, id='run-24e77f69-261b-47e4-8d82-97fab1354275-0', tool_calls=[{'name': 'resume_screener', 'args': {'resume': 'John Doe\\nSkills: Python, Java, SQL, Machine Learning', 'skill': 'Python, SQL, Machine Learning'}, 'id': 'call_7jjZUfqlcinFJhGrjuYebzUD', 'type': 'tool_call'}], usage_metadata={'input_tokens': 188, 'output_tokens': 37, 'total_tokens': 225, 'input_token_details': {'audio': 0, 'cache_read': 0}, 'output_token_details': {'audio': 0, 'reasoning': 0}}), ToolMessage(content=\"{'messages': [AIMessage(content='Based on the provided resume, the skills mentioned are Python, Java, SQL, and Machine Learning. \\\\nThe skills required are Python, SQL, and Machine Learning. \\\\nThe resume matches 2 out of 3 required skills. \\\\nTherefore, I would select this resume for further consideration.', additional_kwargs={'refusal': None}, response_metadata={'token_usage': {'completion_tokens': 58, 'prompt_tokens': 168, 'total_tokens': 226, 'completion_tokens_details': {'accepted_prediction_tokens': 0, 'audio_tokens': 0, 'reasoning_tokens': 0, 'rejected_prediction_tokens': 0}, 'prompt_tokens_details': {'audio_tokens': 0, 'cached_tokens': 0}}, 'model_name': 'gpt-3.5-turbo-0125', 'system_fingerprint': None, 'finish_reason': 'stop', 'logprobs': None}, id='run-d5153de0-73a8-4541-963b-e7070737bc5d-0', usage_metadata={'input_tokens': 168, 'output_tokens': 58, 'total_tokens': 226, 'input_token_details': {'audio': 0, 'cache_read': 0}, 'output_token_details': {'audio': 0, 'reasoning': 0}})]}\", name='resume_screener', id='b6f902a8-6f4c-4838-9077-f9c47a485e3d', tool_call_id='call_7jjZUfqlcinFJhGrjuYebzUD'), AIMessage(content='Based on the provided resume, the skills mentioned are Python, Java, SQL, and Machine Learning. The required skills are Python, SQL, and Machine Learning. The resume matches 2 out of 3 required skills. Therefore, I would select this resume for further consideration.', additional_kwargs={'refusal': None}, response_metadata={'token_usage': {'completion_tokens': 56, 'prompt_tokens': 520, 'total_tokens': 576, 'completion_tokens_details': {'accepted_prediction_tokens': 0, 'audio_tokens': 0, 'reasoning_tokens': 0, 'rejected_prediction_tokens': 0}, 'prompt_tokens_details': {'audio_tokens': 0, 'cached_tokens': 0}}, 'model_name': 'gpt-3.5-turbo-0125', 'system_fingerprint': None, 'finish_reason': 'stop', 'logprobs': None}, id='run-09c0ae27-89a5-4c69-a3f0-4c72c37ea409-0', usage_metadata={'input_tokens': 520, 'output_tokens': 56, 'total_tokens': 576, 'input_token_details': {'audio': 0, 'cache_read': 0}, 'output_token_details': {'audio': 0, 'reasoning': 0}}), AIMessage(content='', additional_kwargs={'tool_calls': [{'id': 'call_7jjZUfqlcinFJhGrjuYebzUD', 'function': {'arguments': '{\"resume\":\"John Doe\\\\nSkills: Python, Java, SQL, Machine Learning\",\"skill\":\"Python, SQL, Machine Learning\"}', 'name': 'resume_screener'}, 'type': 'function'}], 'refusal': None}, response_metadata={'token_usage': {'completion_tokens': 37, 'prompt_tokens': 188, 'total_tokens': 225, 'completion_tokens_details': {'accepted_prediction_tokens': 0, 'audio_tokens': 0, 'reasoning_tokens': 0, 'rejected_prediction_tokens': 0}, 'prompt_tokens_details': {'audio_tokens': 0, 'cached_tokens': 0}}, 'model_name': 'gpt-3.5-turbo-0125', 'system_fingerprint': None, 'finish_reason': 'tool_calls', 'logprobs': None}, id='run-24e77f69-261b-47e4-8d82-97fab1354275-0', tool_calls=[{'name': 'resume_screener', 'args': {'resume': 'John Doe\\nSkills: Python, Java, SQL, Machine Learning', 'skill': 'Python, SQL, Machine Learning'}, 'id': 'call_7jjZUfqlcinFJhGrjuYebzUD', 'type': 'tool_call'}], usage_metadata={'input_tokens': 188, 'output_tokens': 37, 'total_tokens': 225, 'input_token_details': {'audio': 0, 'cache_read': 0}, 'output_token_details': {'audio': 0, 'reasoning': 0}}), ToolMessage(content=\"{'messages': [AIMessage(content='Based on the provided resume, the skills mentioned are Python, Java, SQL, and Machine Learning. \\\\nThe skills required are Python, SQL, and Machine Learning. \\\\nThe resume matches 2 out of 3 required skills. \\\\nTherefore, I would select this resume for further consideration.', additional_kwargs={'refusal': None}, response_metadata={'token_usage': {'completion_tokens': 58, 'prompt_tokens': 168, 'total_tokens': 226, 'completion_tokens_details': {'accepted_prediction_tokens': 0, 'audio_tokens': 0, 'reasoning_tokens': 0, 'rejected_prediction_tokens': 0}, 'prompt_tokens_details': {'audio_tokens': 0, 'cached_tokens': 0}}, 'model_name': 'gpt-3.5-turbo-0125', 'system_fingerprint': None, 'finish_reason': 'stop', 'logprobs': None}, id='run-d5153de0-73a8-4541-963b-e7070737bc5d-0', usage_metadata={'input_tokens': 168, 'output_tokens': 58, 'total_tokens': 226, 'input_token_details': {'audio': 0, 'cache_read': 0}, 'output_token_details': {'audio': 0, 'reasoning': 0}})]}\", name='resume_screener', id='b6f902a8-6f4c-4838-9077-f9c47a485e3d', tool_call_id='call_7jjZUfqlcinFJhGrjuYebzUD'), AIMessage(content='Based on the provided resume, the skills mentioned are Python, Java, SQL, and Machine Learning. The required skills are Python, SQL, and Machine Learning. The resume matches 2 out of 3 required skills. Therefore, I would select this resume for further consideration.', additional_kwargs={'refusal': None}, response_metadata={'token_usage': {'completion_tokens': 56, 'prompt_tokens': 520, 'total_tokens': 576, 'completion_tokens_details': {'accepted_prediction_tokens': 0, 'audio_tokens': 0, 'reasoning_tokens': 0, 'rejected_prediction_tokens': 0}, 'prompt_tokens_details': {'audio_tokens': 0, 'cached_tokens': 0}}, 'model_name': 'gpt-3.5-turbo-0125', 'system_fingerprint': None, 'finish_reason': 'stop', 'logprobs': None}, id='run-09c0ae27-89a5-4c69-a3f0-4c72c37ea409-0', usage_metadata={'input_tokens': 520, 'output_tokens': 56, 'total_tokens': 576, 'input_token_details': {'audio': 0, 'cache_read': 0}, 'output_token_details': {'audio': 0, 'reasoning': 0}}), AIMessage(content='', additional_kwargs={'tool_calls': [{'id': 'call_Wx9NV2pUaajMyslFm7oN8LyE', 'function': {'arguments': '{\"resume\":\"John Doe\\\\nSkills: Python, Java, SQL, Machine Learning\"}', 'name': 'hr_filter'}, 'type': 'function'}], 'refusal': None}, response_metadata={'token_usage': {'completion_tokens': 26, 'prompt_tokens': 561, 'total_tokens': 587, 'completion_tokens_details': {'accepted_prediction_tokens': 0, 'audio_tokens': 0, 'reasoning_tokens': 0, 'rejected_prediction_tokens': 0}, 'prompt_tokens_details': {'audio_tokens': 0, 'cached_tokens': 0}}, 'model_name': 'gpt-3.5-turbo-0125', 'system_fingerprint': None, 'finish_reason': 'tool_calls', 'logprobs': None}, id='run-107a1a47-5288-4a0f-88cc-88976d870f92-0', tool_calls=[{'name': 'hr_filter', 'args': {'resume': 'John Doe\\nSkills: Python, Java, SQL, Machine Learning'}, 'id': 'call_Wx9NV2pUaajMyslFm7oN8LyE', 'type': 'tool_call'}], usage_metadata={'input_tokens': 561, 'output_tokens': 26, 'total_tokens': 587, 'input_token_details': {'audio': 0, 'cache_read': 0}, 'output_token_details': {'audio': 0, 'reasoning': 0}}), ToolMessage(content=\"{'messages': [AIMessage(content='Thank you for submitting your resume. However, based on the skills listed, it seems like your expertise lies in technical areas such as programming languages and machine learning. I would recommend highlighting your HR-related skills and experience to better assess your suitability for HR roles.', additional_kwargs={'refusal': None}, response_metadata={'token_usage': {'completion_tokens': 51, 'prompt_tokens': 160, 'total_tokens': 211, 'completion_tokens_details': {'accepted_prediction_tokens': 0, 'audio_tokens': 0, 'reasoning_tokens': 0, 'rejected_prediction_tokens': 0}, 'prompt_tokens_details': {'audio_tokens': 0, 'cached_tokens': 0}}, 'model_name': 'gpt-3.5-turbo-0125', 'system_fingerprint': None, 'finish_reason': 'stop', 'logprobs': None}, id='run-d770ad97-ba5d-4e86-82d4-bea6564e3c44-0', usage_metadata={'input_tokens': 160, 'output_tokens': 51, 'total_tokens': 211, 'input_token_details': {'audio': 0, 'cache_read': 0}, 'output_token_details': {'audio': 0, 'reasoning': 0}})]}\", name='hr_filter', id='9a1c728a-d0db-4bfa-a06f-1c71a9e1b33c', tool_call_id='call_Wx9NV2pUaajMyslFm7oN8LyE'), AIMessage(content='Based on the HR skills in the resume, it seems like the expertise lies in technical areas such as programming languages and machine learning. It is recommended to highlight HR-related skills and experience to better assess suitability for HR roles.', additional_kwargs={'refusal': None}, response_metadata={'token_usage': {'completion_tokens': 45, 'prompt_tokens': 874, 'total_tokens': 919, 'completion_tokens_details': {'accepted_prediction_tokens': 0, 'audio_tokens': 0, 'reasoning_tokens': 0, 'rejected_prediction_tokens': 0}, 'prompt_tokens_details': {'audio_tokens': 0, 'cached_tokens': 0}}, 'model_name': 'gpt-3.5-turbo-0125', 'system_fingerprint': None, 'finish_reason': 'stop', 'logprobs': None}, id='run-df979bfb-3c7d-4cdc-a4ea-d470ffaa89d3-0', usage_metadata={'input_tokens': 874, 'output_tokens': 45, 'total_tokens': 919, 'input_token_details': {'audio': 0, 'cache_read': 0}, 'output_token_details': {'audio': 0, 'reasoning': 0}}), AIMessage(content='', additional_kwargs={'tool_calls': [{'id': 'call_9ZcR5W7wh92HnszldYYhxXVt', 'function': {'arguments': '{\"state\":{\"messages\":[{\"content\":\"Based on the provided resume, the skills mentioned are Python, Java, SQL, and Machine Learning. The required skills are Python, SQL, and Machine Learning. The resume matches 2 out of 3 required skills. Therefore, I would select this resume for further consideration.\",\"type\":\"ai\"},{\"content\":\"Thank you for submitting your resume. However, based on the skills listed, it seems like your expertise lies in technical areas such as programming languages and machine learning. I would recommend highlighting your HR-related skills and experience to better assess your suitability for HR roles.\",\"type\":\"ai\"}]}}', 'name': 'resume_summarize'}, 'type': 'function'}], 'refusal': None}, response_metadata={'token_usage': {'completion_tokens': 136, 'prompt_tokens': 4568, 'total_tokens': 4704, 'completion_tokens_details': {'accepted_prediction_tokens': 0, 'audio_tokens': 0, 'reasoning_tokens': 0, 'rejected_prediction_tokens': 0}, 'prompt_tokens_details': {'audio_tokens': 0, 'cached_tokens': 0}}, 'model_name': 'gpt-3.5-turbo-0125', 'system_fingerprint': None, 'finish_reason': 'tool_calls', 'logprobs': None}, id='run-ef012c51-b386-4419-8efd-09f104031b6b-0', tool_calls=[{'name': 'resume_summarize', 'args': {'state': {'messages': [{'content': 'Based on the provided resume, the skills mentioned are Python, Java, SQL, and Machine Learning. The required skills are Python, SQL, and Machine Learning. The resume matches 2 out of 3 required skills. Therefore, I would select this resume for further consideration.', 'type': 'ai'}, {'content': 'Thank you for submitting your resume. However, based on the skills listed, it seems like your expertise lies in technical areas such as programming languages and machine learning. I would recommend highlighting your HR-related skills and experience to better assess your suitability for HR roles.', 'type': 'ai'}]}}, 'id': 'call_9ZcR5W7wh92HnszldYYhxXVt', 'type': 'tool_call'}], usage_metadata={'input_tokens': 4568, 'output_tokens': 136, 'total_tokens': 4704, 'input_token_details': {'audio': 0, 'cache_read': 0}, 'output_token_details': {'audio': 0, 'reasoning': 0}}), ToolMessage(content='Error: AttributeError(\"\\'AIMessage\\' object has no attribute \\'role\\'\")\\n Please fix your mistakes.', name='resume_summarize', id='5694d252-72b6-43e8-9c39-d66b51158585', tool_call_id='call_9ZcR5W7wh92HnszldYYhxXVt', status='error'), AIMessage(content='', additional_kwargs={'tool_calls': [{'id': 'call_tOx8uj2lpOmeJaSwKUzrSy5O', 'function': {'arguments': '{\"state\":{\"messages\":[{\"content\":\"Based on the provided resume, the skills mentioned are Python, Java, SQL, and Machine Learning. The required skills are Python, SQL, and Machine Learning. The resume matches 2 out of 3 required skills. Therefore, I would select this resume for further consideration.\",\"type\":\"ai\"},{\"content\":\"Thank you for submitting your resume. However, based on the skills listed, it seems like your expertise lies in technical areas such as programming languages and machine learning. I would recommend highlighting your HR-related skills and experience to better assess your suitability for HR roles.\",\"type\":\"ai\"}]}}', 'name': 'resume_summarize'}, 'type': 'function'}], 'refusal': None}, response_metadata={'token_usage': {'completion_tokens': 136, 'prompt_tokens': 4733, 'total_tokens': 4869, 'completion_tokens_details': {'accepted_prediction_tokens': 0, 'audio_tokens': 0, 'reasoning_tokens': 0, 'rejected_prediction_tokens': 0}, 'prompt_tokens_details': {'audio_tokens': 0, 'cached_tokens': 0}}, 'model_name': 'gpt-3.5-turbo-0125', 'system_fingerprint': None, 'finish_reason': 'tool_calls', 'logprobs': None}, id='run-d7ac2bcb-2fc0-4b2c-b359-3157639dae6f-0', tool_calls=[{'name': 'resume_summarize', 'args': {'state': {'messages': [{'content': 'Based on the provided resume, the skills mentioned are Python, Java, SQL, and Machine Learning. The required skills are Python, SQL, and Machine Learning. The resume matches 2 out of 3 required skills. Therefore, I would select this resume for further consideration.', 'type': 'ai'}, {'content': 'Thank you for submitting your resume. However, based on the skills listed, it seems like your expertise lies in technical areas such as programming languages and machine learning. I would recommend highlighting your HR-related skills and experience to better assess your suitability for HR roles.', 'type': 'ai'}]}}, 'id': 'call_tOx8uj2lpOmeJaSwKUzrSy5O', 'type': 'tool_call'}], usage_metadata={'input_tokens': 4733, 'output_tokens': 136, 'total_tokens': 4869, 'input_token_details': {'audio': 0, 'cache_read': 0}, 'output_token_details': {'audio': 0, 'reasoning': 0}}), ToolMessage(content='Error: AttributeError(\"\\'AIMessage\\' object has no attribute \\'role\\'\")\\n Please fix your mistakes.', name='resume_summarize', id='c1efe307-d1bd-4826-b94e-fffdc842d09e', tool_call_id='call_tOx8uj2lpOmeJaSwKUzrSy5O', status='error'), AIMessage(content='', additional_kwargs={'tool_calls': [{'id': 'call_q4S8M8IpNPEoWGzeNZvAL0mG', 'function': {'arguments': '{\"state\":{\"messages\":[{\"content\":\"Based on the provided resume, the skills mentioned are Python, Java, SQL, and Machine Learning. The required skills are Python, SQL, and Machine Learning. The resume matches 2 out of 3 required skills. Therefore, I would select this resume for further consideration.\",\"type\":\"ai\"},{\"content\":\"Thank you for submitting your resume. However, based on the skills listed, it seems like your expertise lies in technical areas such as programming languages and machine learning. I would recommend highlighting your HR-related skills and experience to better assess your suitability for HR roles.\",\"type\":\"ai\"}]}}', 'name': 'resume_summarize'}, 'type': 'function'}], 'refusal': None}, response_metadata={'token_usage': {'completion_tokens': 136, 'prompt_tokens': 4898, 'total_tokens': 5034, 'completion_tokens_details': {'accepted_prediction_tokens': 0, 'audio_tokens': 0, 'reasoning_tokens': 0, 'rejected_prediction_tokens': 0}, 'prompt_tokens_details': {'audio_tokens': 0, 'cached_tokens': 0}}, 'model_name': 'gpt-3.5-turbo-0125', 'system_fingerprint': None, 'finish_reason': 'tool_calls', 'logprobs': None}, id='run-05fa7b28-73a7-4982-a32a-e9aca9cec7ae-0', tool_calls=[{'name': 'resume_summarize', 'args': {'state': {'messages': [{'content': 'Based on the provided resume, the skills mentioned are Python, Java, SQL, and Machine Learning. The required skills are Python, SQL, and Machine Learning. The resume matches 2 out of 3 required skills. Therefore, I would select this resume for further consideration.', 'type': 'ai'}, {'content': 'Thank you for submitting your resume. However, based on the skills listed, it seems like your expertise lies in technical areas such as programming languages and machine learning. I would recommend highlighting your HR-related skills and experience to better assess your suitability for HR roles.', 'type': 'ai'}]}}, 'id': 'call_q4S8M8IpNPEoWGzeNZvAL0mG', 'type': 'tool_call'}], usage_metadata={'input_tokens': 4898, 'output_tokens': 136, 'total_tokens': 5034, 'input_token_details': {'audio': 0, 'cache_read': 0}, 'output_token_details': {'audio': 0, 'reasoning': 0}}), ToolMessage(content='Error: AttributeError(\"\\'AIMessage\\' object has no attribute \\'role\\'\")\\n Please fix your mistakes.', name='resume_summarize', id='1cb9ea94-d826-4911-927f-368191d5d2ef', tool_call_id='call_q4S8M8IpNPEoWGzeNZvAL0mG', status='error'), AIMessage(content='After analyzing the resume, the Resume Screener agent finds that the candidate matches 2 out of 3 required skills and would select the resume for further consideration. On the other hand, the HR agent suggests that the candidate should highlight HR-related skills and experience to better assess suitability for HR roles.', additional_kwargs={'refusal': None}, response_metadata={'token_usage': {'completion_tokens': 60, 'prompt_tokens': 5063, 'total_tokens': 5123, 'completion_tokens_details': {'accepted_prediction_tokens': 0, 'audio_tokens': 0, 'reasoning_tokens': 0, 'rejected_prediction_tokens': 0}, 'prompt_tokens_details': {'audio_tokens': 0, 'cached_tokens': 0}}, 'model_name': 'gpt-3.5-turbo-0125', 'system_fingerprint': None, 'finish_reason': 'stop', 'logprobs': None}, id='run-34a7e0af-4b2e-4cdc-b29a-f133bdc193f0-0', usage_metadata={'input_tokens': 5063, 'output_tokens': 60, 'total_tokens': 5123, 'input_token_details': {'audio': 0, 'cache_read': 0}, 'output_token_details': {'audio': 0, 'reasoning': 0}}), AIMessage(content='selected', additional_kwargs={}, response_metadata={}, id='69fef34c-6131-4800-bf01-b868c845d2d4'), AIMessage(content='selected', additional_kwargs={}, response_metadata={}, id='5132bf34-d769-456d-aa31-99fd5b11f2ff'), AIMessage(content='selected', additional_kwargs={}, response_metadata={}, id='b629e8f8-c347-4fd6-a419-83f3674dc8e9'), AIMessage(content='selected', additional_kwargs={}, response_metadata={}, id='e0ba98d7-6edd-4200-b40d-a7ef5ed843ee'), AIMessage(content='selected', additional_kwargs={}, response_metadata={}, id='80d6b319-e33b-446d-b7cc-de49bf3f7805')]}}\n",
      "----\n",
      "We have -->> selected  resume !!!!!!\n"
     ]
    }
   ],
   "source": [
    "resume1 = \"\"\"\n",
    "**Praveen Reddy**  \n",
    "📧 praveen@gmail.com | 📱 +91 98765 43210 | 🌐 LinkedIn: linkedin.com/in/praveen-reddy | 📍 Bangalore, India  \n",
    "\n",
    "---\n",
    "\n",
    "### **Professional Summary**  \n",
    "A results-driven **Data Engineer** with 5+ years of experience in designing, developing, and managing data pipelines and workflows in **Azure** and **AWS** environments. Skilled in big data tools, data modeling, and cloud-based ETL processes. Proficient in aligning technical solutions with business goals while fostering collaborative work environments. Strong interpersonal and HR competencies ensure seamless collaboration across cross-functional teams.  \n",
    "\n",
    "---\n",
    "\n",
    "### **Technical Skills**  \n",
    "**Cloud Platforms**: Azure (Data Factory, Synapse, Data Lake), AWS (Glue, Redshift, S3, EMR)  \n",
    "**Big Data**: Apache Spark, Hadoop, PySpark  \n",
    "**ETL Tools**: Azure Data Factory, AWS Glue  \n",
    "**Databases**: SQL, NoSQL, PostgreSQL, MongoDB  \n",
    "**Programming**: Python, Scala, SQL  \n",
    "**Other Tools**: Docker, Kubernetes, Terraform  \n",
    "\n",
    "---\n",
    "\n",
    "### **HR-Specific Strengths**  \n",
    "- **Collaboration and Teamwork**: Proven ability to work with diverse teams across engineering, business, and HR units, ensuring projects align with organizational goals.  \n",
    "- **Effective Communication**: Adept at explaining technical concepts in simple terms to non-technical stakeholders and leadership.  \n",
    "- **Adaptability**: Thrives in dynamic environments and quickly learns new technologies and workflows.  \n",
    "- **Leadership and Mentorship**: Regularly guide junior engineers and interns in professional development and skill-building.  \n",
    "- **Conflict Resolution**: Skilled in resolving team conflicts and fostering a positive, productive work environment.  \n",
    "\n",
    "---\n",
    "\n",
    "### **Professional Experience**  \n",
    "\n",
    "**Senior Data Engineer**  \n",
    "*XYZ Corporation, Bangalore, India*  \n",
    "*Jan 2021 – Present*  \n",
    "- Designed and implemented scalable **data pipelines** in **Azure Data Factory** and **AWS Glue** to process and analyze large datasets.  \n",
    "- Spearheaded data integration projects, integrating sources like IoT, CRM, and operational databases into **AWS Redshift** and **Azure Synapse Analytics**.  \n",
    "- Improved data processing times by 35% through optimization of **Apache Spark** jobs.  \n",
    "- Collaborated with HR and IT to implement a talent analytics dashboard, providing insights into workforce performance.  \n",
    "- Conducted workshops for cross-functional teams on data-driven decision-making and analytics tools.  \n",
    "\n",
    "**Data Engineer**  \n",
    "*ABC Solutions, Hyderabad, India*  \n",
    "*July 2018 – Dec 2020*  \n",
    "- Developed automated ETL workflows in **AWS Lambda** and **Azure Functions** for seamless data ingestion.  \n",
    "- Maintained and monitored **Azure Data Lake** storage, ensuring high availability and security.  \n",
    "- Worked closely with HR and marketing teams to create reporting solutions for employee engagement surveys and campaign ROI metrics.  \n",
    "- Mentored three junior team members, improving team productivity by 20%.  \n",
    "\n",
    "---\n",
    "\n",
    "### **Education**  \n",
    "**Bachelor of Technology in Computer Science Engineering**  \n",
    "*Osmania University, Hyderabad, India*  \n",
    "*2014 – 2018*  \n",
    "\n",
    "---\n",
    "\n",
    "### **Certifications**  \n",
    "- **Microsoft Certified: Azure Data Engineer Associate**  \n",
    "- **AWS Certified Data Analytics – Specialty**  \n",
    "\n",
    "---\n",
    "\n",
    "### **Achievements**  \n",
    "- Streamlined HR analytics by automating survey data pipelines, reducing reporting time by 50%.  \n",
    "- Awarded **\"Employee of the Year\"** (2022) for leading a cross-functional data migration project.  \n",
    "\n",
    "---\n",
    "\n",
    "### **Hobbies and Interests**  \n",
    "- Mentoring aspiring engineers through LinkedIn learning groups.  \n",
    "- Reading books on behavioral psychology and people management.  \n",
    "\n",
    "--- \n",
    "\n",
    "This resume integrates both technical expertise and HR skills, making it balanced and impactful.\n",
    "\n",
    "\"\"\"\n",
    "\n",
    "config = {\n",
    "    \"configurable\": {\n",
    "        \"thread_id\": \"123456\"\n",
    "    }\n",
    "}\n",
    "\n",
    "\n",
    "events = graph.stream(\n",
    "    {\n",
    "        \"messages\": [\n",
    "            (\n",
    "                \"user\",\n",
    "                f\"{resume1} . Please validate if the resume suits the Data Engineering skillset.\",\n",
    "            )\n",
    "        ],\n",
    "    },\n",
    "    # Maximum number of steps to take in the graph\n",
    "    {\"recursion_limit\": 5}\n",
    "\n",
    ")\n",
    "for s in events:\n",
    "    print(s)\n",
    "    print(\"----\")\n",
    "    # print(type(s))\n",
    "    if \"resume_summarize\" in s.keys():\n",
    "        print(\"We have -->>\",s['resume_summarize']['messages'][-1].content ,\" resume !!!!!!\")\n"
   ]
  }
 ],
 "metadata": {
  "kernelspec": {
   "display_name": ".venv",
   "language": "python",
   "name": "python3"
  },
  "language_info": {
   "codemirror_mode": {
    "name": "ipython",
    "version": 3
   },
   "file_extension": ".py",
   "mimetype": "text/x-python",
   "name": "python",
   "nbconvert_exporter": "python",
   "pygments_lexer": "ipython3",
   "version": "3.12.0"
  }
 },
 "nbformat": 4,
 "nbformat_minor": 2
}
