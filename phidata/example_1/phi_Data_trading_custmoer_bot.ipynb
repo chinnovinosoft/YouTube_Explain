{
 "cells": [
  {
   "cell_type": "markdown",
   "metadata": {},
   "source": [
    "# Customer Support for Trading App"
   ]
  },
  {
   "cell_type": "markdown",
   "metadata": {},
   "source": [
    "1. Based on the User Query, The main Agent decides which Agent to call(Using Structured Output)\n",
    "Below are the list of agents\n",
    "2. Agent for calling Tools on stocks(YFinance module) and using which we get the financial information of the stock\n",
    "3. Agent for using knowledge Base. genereate the PDF of 2 pages on financial statment of a company named ChinnoVino Soft. \n",
    "5. Team Agents.\n",
    "   generate a DDL and insert statements -- user and his trades in the last week, u only think of all the  columns we need and make sure the information is indian related, pls think twoice and decide all the columns\n",
    "   a. 1st Agent will create SQL Query based on user text.\n",
    "\n",
    "   b. 2nd Agent will use that query and fetch the data from DB (on user previous traded information)\n"
   ]
  },
  {
   "cell_type": "code",
   "execution_count": 144,
   "metadata": {},
   "outputs": [],
   "source": [
    "from phi.agent import Agent\n",
    "from phi.model.openai import OpenAIChat\n",
    "from phi.tools.duckduckgo import DuckDuckGo\n",
    "from pydantic import BaseModel, Field\n",
    "from phi.agent import Agent, RunResponse\n",
    "from phi.utils.pprint import pprint_run_response\n",
    "from phi.tools.yfinance import YFinanceTools\n",
    "from phi.vectordb.pgvector import PgVector, SearchType\n",
    "from phi.knowledge.pdf import PDFUrlKnowledgeBase\n",
    "from phi.vectordb.chroma import ChromaDb\n",
    "from phi.storage.agent.sqlite import SqlAgentStorage\n",
    "from langchain.document_loaders import PyPDFLoader\n",
    "from langchain.text_splitter import RecursiveCharacterTextSplitter\n",
    "from langchain_astradb import AstraDBVectorStore\n",
    "from langchain_openai import OpenAIEmbeddings\n",
    "from astrapy import DataAPIClient\n",
    "import astrapy\n",
    "from phi.storage.agent.sqlite import SqlAgentStorage"
   ]
  },
  {
   "cell_type": "code",
   "execution_count": 145,
   "metadata": {},
   "outputs": [],
   "source": [
    "class Decider(BaseModel):\n",
    "    who: str = Field(\n",
    "        ...,\n",
    "        description=\"You function as the decider: analyze the user's query and return one of the following values—'yf', 'pdf', or 'sql'.\"\n",
    "    )\n"
   ]
  },
  {
   "cell_type": "code",
   "execution_count": 146,
   "metadata": {},
   "outputs": [],
   "source": [
    "decider_agent = Agent(\n",
    "    name=\"Decider Agent\",\n",
    "    model=OpenAIChat(id=\"gpt-4o\",api_key=''),\n",
    "    instructions=[\"When a question is presented, evaluate its context and decide which category it fits into. If the query is about obtaining specific stock information, return 'yf' (using the yfinancetool). If the query involves content from a PDF document like something need to be fetched from quaterly/yearly statement, return 'pdf'. If it is meant to query a database, return 'sql' \"],\n",
    "    response_model=Decider,\n",
    "    storage=SqlAgentStorage(table_name=\"agent_sessions\", db_file=\"agent_storage.db\"),\n",
    "    add_history_to_messages=True,\n",
    "    num_history_responses=3,\n",
    ")"
   ]
  },
  {
   "cell_type": "code",
   "execution_count": 147,
   "metadata": {},
   "outputs": [],
   "source": [
    "\n",
    "knowledge_base = PDFUrlKnowledgeBase(\n",
    "    urls=[\"apple_stock_letter.pdf\"],\n",
    "    vector_db=ChromaDb(collection=\"apple_stock_letter\"),\n",
    ")"
   ]
  },
  {
   "cell_type": "code",
   "execution_count": 148,
   "metadata": {},
   "outputs": [],
   "source": [
    "pdf_agent = Agent(\n",
    "    model=OpenAIChat(id=\"gpt-4o\",api_key=''),\n",
    "    knowledge=knowledge_base,\n",
    "    add_context=True,\n",
    "    search_knowledge=False,\n",
    "    markdown=True,\n",
    "    instructions=\"You are a specialized agent with expert knowledge of financial statements. For any query related to financial statements, use only the information available in your knowledge base to provide a clear and accurate response. Do not perform additional calculations or include extraneous details—simply report what is stated in the financial documents.\"\n",
    ")"
   ]
  },
  {
   "cell_type": "code",
   "execution_count": 149,
   "metadata": {},
   "outputs": [],
   "source": [
    "finance_agent = Agent(\n",
    "    name=\"Finance Agent\",\n",
    "    model=OpenAIChat(id=\"gpt-4o\",api_key=''),\n",
    "    tools=[YFinanceTools(stock_price=True, analyst_recommendations=True, company_info=True, company_news=True)],\n",
    "    instructions=[\"Use tables to display data\"],\n",
    "    show_tool_calls=True,\n",
    "    markdown=True,\n",
    ")"
   ]
  },
  {
   "cell_type": "code",
   "execution_count": 150,
   "metadata": {},
   "outputs": [],
   "source": [
    "import psycopg2\n",
    "\n",
    "def get_connection():\n",
    "    \"\"\"\n",
    "    Establishes and returns a connection to the PostgreSQL database.\n",
    "    Update the connection details as per your environment.\n",
    "    \"\"\"\n",
    "    conn = psycopg2.connect(\n",
    "        host=\"localhost\",\n",
    "        port=5432,\n",
    "        dbname=\"phidata_db\",\n",
    "        user=\"postgres\",\n",
    "        password=\"postgres\"\n",
    "    )\n",
    "    return conn\n",
    "\n",
    "# get_connection()"
   ]
  },
  {
   "cell_type": "code",
   "execution_count": 151,
   "metadata": {},
   "outputs": [],
   "source": [
    "def get_table_schema() -> str:\n",
    "    \"\"\"\n",
    "    Retrieves the schema for the given table name from the PostgreSQL\n",
    "    information_schema and returns a formatted string listing each column,\n",
    "    its data type, and (if applicable) its character maximum length.\n",
    "    \"\"\"\n",
    "    conn = get_connection()\n",
    "    table_name= \"user_trades\"\n",
    "    try:\n",
    "        with conn.cursor() as cur:\n",
    "            cur.execute(\"\"\"\n",
    "                SELECT column_name, data_type, character_maximum_length\n",
    "                FROM information_schema.columns\n",
    "                WHERE table_name = %s\n",
    "                ORDER BY ordinal_position;\n",
    "            \"\"\", (table_name,))\n",
    "            rows = cur.fetchall()\n",
    "            if not rows:\n",
    "                return f\"No schema found for table '{table_name}'.\"\n",
    "            \n",
    "            schema_lines = []\n",
    "            for column_name, data_type, char_max_length in rows:\n",
    "                if char_max_length:\n",
    "                    schema_lines.append(f\"{column_name}: {data_type}({char_max_length})\")\n",
    "                else:\n",
    "                    schema_lines.append(f\"{column_name}: {data_type}\")\n",
    "            return \"\\n\".join(schema_lines)\n",
    "    finally:\n",
    "        conn.close()\n",
    "# get_table_schema('user_trades')"
   ]
  },
  {
   "cell_type": "code",
   "execution_count": 152,
   "metadata": {},
   "outputs": [],
   "source": [
    "def execute_sql_query(query: str) -> str:\n",
    "    \"\"\"\n",
    "    Executes the provided SQL query in PostgreSQL and returns the results\n",
    "    as a string. For SELECT queries, it returns the fetched rows;\n",
    "    for DDL/DML queries, it commits the transaction and returns a success message.\n",
    "    \"\"\"\n",
    "    conn = get_connection()\n",
    "    try:\n",
    "        with conn.cursor() as cur:\n",
    "            cur.execute(query)\n",
    "            if cur.description:\n",
    "                # This is a SELECT (or similar) query returning rows.\n",
    "                rows = cur.fetchall()\n",
    "                return \"\\n\".join(str(row) for row in rows)\n",
    "            else:\n",
    "                # For queries like INSERT, UPDATE, or DDL commands\n",
    "                conn.commit()\n",
    "                return \"Query executed successfully.\"\n",
    "    except Exception as e:\n",
    "        return f\"Error executing query: {e}\"\n",
    "    finally:\n",
    "        conn.close()\n",
    "\n",
    "# execute_sql_query(\"select * from user_trades limit 1\")"
   ]
  },
  {
   "cell_type": "code",
   "execution_count": 153,
   "metadata": {},
   "outputs": [],
   "source": [
    "sql_gen = Agent(\n",
    "    name=\"SQL_Query_Generator\",\n",
    "    role=\"An SQL Query Generator\",\n",
    "    model=OpenAIChat(id=\"gpt-4o\",api_key=''),\n",
    "    tools=[get_table_schema],\n",
    "    instructions=[f\"You are an expert SQL query generator. Using the provided table schema (schema: {get_table_schema()}  and table:user_trades), craft a precise and valid SQL query that directly addresses the user's question. Rely solely on the schema details to ensure the query is accurate and complete.\"],\n",
    "    show_tool_calls=True,\n",
    "    markdown=True,\n",
    ")"
   ]
  },
  {
   "cell_type": "code",
   "execution_count": 154,
   "metadata": {},
   "outputs": [],
   "source": [
    "fetch_result = Agent(\n",
    "    name=\"fetch_result\",\n",
    "    role=\"Agent for Executing SQL Queries and Translating Database Results\",\n",
    "    model=OpenAIChat(id=\"gpt-4o\",api_key=''),\n",
    "    tools=[execute_sql_query],\n",
    "    instructions=[f\"You are an agent designed to receive SQL queries as input, execute them using the provided database tool, and then convert the raw query results into clear, natural language explanations. Your responses should be both accurate and easy for non-technical users to understand. Dont mention/explain anything about SQL Query provided\"],\n",
    "    show_tool_calls=True,\n",
    "    markdown=True,\n",
    ")"
   ]
  },
  {
   "cell_type": "code",
   "execution_count": 155,
   "metadata": {},
   "outputs": [],
   "source": [
    "sql_team = Agent(\n",
    "    name=\"SQL Team\",\n",
    "    model=OpenAIChat(id=\"gpt-4o\",api_key=''),\n",
    "    team=[sql_gen, fetch_result],\n",
    "    instructions=[\n",
    "        \"First, use the SQL Query Generator to create a valid SQL query based on the user's request and the provided table schema.\",\n",
    "        \"Then, pass the generated SQL query to the SQL Result Interpreter to execute the query and translate the results into clear, natural language.\",\n",
    "        \"Finally, return a concise and understandable explanation of the results to the user, without mentioning any underlying SQL details.\"\n",
    "    ],\n",
    "    show_tool_calls=True,\n",
    "    markdown=True,\n",
    ")\n",
    "\n",
    "\n",
    "# final:RunResponse = sql_team.run(\"Find out the distinct stock names purchased by user with ID 2\")\n",
    "# pprint_run_response(final, markdown=True)"
   ]
  },
  {
   "cell_type": "code",
   "execution_count": 157,
   "metadata": {},
   "outputs": [
    {
     "data": {
      "text/html": [
       "<pre style=\"white-space:pre;overflow-x:auto;line-height:normal;font-family:Menlo,'DejaVu Sans Mono',consolas,'Courier New',monospace\"><span style=\"color: #000080; text-decoration-color: #000080\">╭─────────────────────────────────────────────────────────────────────────────────────────────────────────────────╮</span>\n",
       "<span style=\"color: #000080; text-decoration-color: #000080\">│</span> Running:                                                                                                        <span style=\"color: #000080; text-decoration-color: #000080\">│</span>\n",
       "<span style=\"color: #000080; text-decoration-color: #000080\">│</span>                                                                                                                 <span style=\"color: #000080; text-decoration-color: #000080\">│</span>\n",
       "<span style=\"color: #000080; text-decoration-color: #000080\">│</span> <span style=\"color: #808000; text-decoration-color: #808000; font-weight: bold\"> • </span>transfer_task_to_sql_query_generator(task_description=Generate an SQL query to find the stock purchased by   <span style=\"color: #000080; text-decoration-color: #000080\">│</span>\n",
       "<span style=\"color: #000080; text-decoration-color: #000080\">│</span> <span style=\"color: #808000; text-decoration-color: #808000; font-weight: bold\">   </span>user 4., expected_output=A valid SQL query that returns the stock purchased by user 4.,                      <span style=\"color: #000080; text-decoration-color: #000080\">│</span>\n",
       "<span style=\"color: #000080; text-decoration-color: #000080\">│</span> <span style=\"color: #808000; text-decoration-color: #808000; font-weight: bold\">   </span>additional_information=...)                                                                                  <span style=\"color: #000080; text-decoration-color: #000080\">│</span>\n",
       "<span style=\"color: #000080; text-decoration-color: #000080\">│</span>                                                                                                                 <span style=\"color: #000080; text-decoration-color: #000080\">│</span>\n",
       "<span style=\"color: #000080; text-decoration-color: #000080\">│</span> Running:                                                                                                        <span style=\"color: #000080; text-decoration-color: #000080\">│</span>\n",
       "<span style=\"color: #000080; text-decoration-color: #000080\">│</span>                                                                                                                 <span style=\"color: #000080; text-decoration-color: #000080\">│</span>\n",
       "<span style=\"color: #000080; text-decoration-color: #000080\">│</span> <span style=\"color: #808000; text-decoration-color: #808000; font-weight: bold\"> • </span>transfer_task_to_fetch_result(task_description=Execute the SQL query to find the stock purchased by user 4., <span style=\"color: #000080; text-decoration-color: #000080\">│</span>\n",
       "<span style=\"color: #000080; text-decoration-color: #000080\">│</span> <span style=\"color: #808000; text-decoration-color: #808000; font-weight: bold\">   </span>expected_output=The stock details purchased by user 4 in a readable format., additional_information=SQL      <span style=\"color: #000080; text-decoration-color: #000080\">│</span>\n",
       "<span style=\"color: #000080; text-decoration-color: #000080\">│</span> <span style=\"color: #808000; text-decoration-color: #808000; font-weight: bold\">   </span>Query: SELECT stock_purchased FROM user_trades WHERE user_id = 4;)                                           <span style=\"color: #000080; text-decoration-color: #000080\">│</span>\n",
       "<span style=\"color: #000080; text-decoration-color: #000080\">│</span>                                                                                                                 <span style=\"color: #000080; text-decoration-color: #000080\">│</span>\n",
       "<span style=\"color: #000080; text-decoration-color: #000080\">│</span> User 4 has purchased stock in HDFC.                                                                             <span style=\"color: #000080; text-decoration-color: #000080\">│</span>\n",
       "<span style=\"color: #000080; text-decoration-color: #000080\">╰─────────────────────────────────────────────────────────────────────────────────────────────────────────────────╯</span>\n",
       "</pre>\n"
      ],
      "text/plain": [
       "\u001b[34m╭─────────────────────────────────────────────────────────────────────────────────────────────────────────────────╮\u001b[0m\n",
       "\u001b[34m│\u001b[0m Running:                                                                                                        \u001b[34m│\u001b[0m\n",
       "\u001b[34m│\u001b[0m                                                                                                                 \u001b[34m│\u001b[0m\n",
       "\u001b[34m│\u001b[0m \u001b[1;33m • \u001b[0mtransfer_task_to_sql_query_generator(task_description=Generate an SQL query to find the stock purchased by   \u001b[34m│\u001b[0m\n",
       "\u001b[34m│\u001b[0m \u001b[1;33m   \u001b[0muser 4., expected_output=A valid SQL query that returns the stock purchased by user 4.,                      \u001b[34m│\u001b[0m\n",
       "\u001b[34m│\u001b[0m \u001b[1;33m   \u001b[0madditional_information=...)                                                                                  \u001b[34m│\u001b[0m\n",
       "\u001b[34m│\u001b[0m                                                                                                                 \u001b[34m│\u001b[0m\n",
       "\u001b[34m│\u001b[0m Running:                                                                                                        \u001b[34m│\u001b[0m\n",
       "\u001b[34m│\u001b[0m                                                                                                                 \u001b[34m│\u001b[0m\n",
       "\u001b[34m│\u001b[0m \u001b[1;33m • \u001b[0mtransfer_task_to_fetch_result(task_description=Execute the SQL query to find the stock purchased by user 4., \u001b[34m│\u001b[0m\n",
       "\u001b[34m│\u001b[0m \u001b[1;33m   \u001b[0mexpected_output=The stock details purchased by user 4 in a readable format., additional_information=SQL      \u001b[34m│\u001b[0m\n",
       "\u001b[34m│\u001b[0m \u001b[1;33m   \u001b[0mQuery: SELECT stock_purchased FROM user_trades WHERE user_id = 4;)                                           \u001b[34m│\u001b[0m\n",
       "\u001b[34m│\u001b[0m                                                                                                                 \u001b[34m│\u001b[0m\n",
       "\u001b[34m│\u001b[0m User 4 has purchased stock in HDFC.                                                                             \u001b[34m│\u001b[0m\n",
       "\u001b[34m╰─────────────────────────────────────────────────────────────────────────────────────────────────────────────────╯\u001b[0m\n"
      ]
     },
     "metadata": {},
     "output_type": "display_data"
    }
   ],
   "source": [
    "query = input(\"Please type the Query::\")\n",
    "deciderer_response: RunResponse = decider_agent.run(query)\n",
    "call = deciderer_response.content.who\n",
    "if call == 'yf':\n",
    "    finance_response: RunResponse = finance_agent.run(query)\n",
    "    pprint_run_response(finance_response,markdown=True)\n",
    "elif call =='pdf':\n",
    "    pdf_response: RunResponse = pdf_agent.run(query)\n",
    "    pprint_run_response(pdf_response,markdown=True)\n",
    "elif call =='sql':\n",
    "    sql_response: RunResponse = sql_team.run(query)\n",
    "    pprint_run_response(sql_response,markdown=True)"
   ]
  },
  {
   "cell_type": "code",
   "execution_count": null,
   "metadata": {},
   "outputs": [],
   "source": []
  }
 ],
 "metadata": {
  "kernelspec": {
   "display_name": ".venv",
   "language": "python",
   "name": "python3"
  },
  "language_info": {
   "codemirror_mode": {
    "name": "ipython",
    "version": 3
   },
   "file_extension": ".py",
   "mimetype": "text/x-python",
   "name": "python",
   "nbconvert_exporter": "python",
   "pygments_lexer": "ipython3",
   "version": "3.11.5"
  }
 },
 "nbformat": 4,
 "nbformat_minor": 2
}
