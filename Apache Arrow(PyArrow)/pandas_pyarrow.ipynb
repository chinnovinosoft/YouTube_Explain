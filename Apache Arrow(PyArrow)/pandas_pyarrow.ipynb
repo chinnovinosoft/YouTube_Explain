{
 "cells": [
  {
   "cell_type": "code",
   "execution_count": 1,
   "metadata": {},
   "outputs": [],
   "source": [
    "import pandas as pd\n",
    "import pyarrow as pa"
   ]
  },
  {
   "cell_type": "code",
   "execution_count": 2,
   "metadata": {},
   "outputs": [
    {
     "name": "stdout",
     "output_type": "stream",
     "text": [
      "Original DataFrame:\n",
      "   a  b\n",
      "0  1  x\n",
      "1  2  y\n",
      "2  3  z\n",
      "\n",
      "Converted to Arrow Table:\n",
      "pyarrow.Table\n",
      "a: int64\n",
      "b: string\n",
      "----\n",
      "a: [[1,2,3]]\n",
      "b: [[\"x\",\"y\",\"z\"]]\n",
      "\n",
      "Converted back to DataFrame:\n",
      "   a  b\n",
      "0  1  x\n",
      "1  2  y\n",
      "2  3  z\n"
     ]
    }
   ],
   "source": [
    "df = pd.DataFrame({\"a\": [1, 2, 3], \"b\": [\"x\", \"y\", \"z\"]})\n",
    "print(\"Original DataFrame:\")\n",
    "print(df)\n",
    "\n",
    "table = pa.Table.from_pandas(df)\n",
    "print(\"\\nConverted to Arrow Table:\")\n",
    "print(table)\n",
    "\n",
    "df_new = table.to_pandas()\n",
    "print(\"\\nConverted back to DataFrame:\")\n",
    "print(df_new)"
   ]
  },
  {
   "cell_type": "code",
   "execution_count": 3,
   "metadata": {},
   "outputs": [
    {
     "name": "stdout",
     "output_type": "stream",
     "text": [
      "Original DataFrame with index:\n",
      "       a    b\n",
      "row1  10  foo\n",
      "row2  20  bar\n",
      "row3  30  baz\n",
      "\n",
      "Arrow Table (with index preserved):\n",
      "pyarrow.Table\n",
      "a: int64\n",
      "b: string\n",
      "__index_level_0__: string\n",
      "----\n",
      "a: [[10,20,30]]\n",
      "b: [[\"foo\",\"bar\",\"baz\"]]\n",
      "__index_level_0__: [[\"row1\",\"row2\",\"row3\"]]\n",
      "\n",
      "Roundtrip DataFrame:\n",
      "       a    b\n",
      "row1  10  foo\n",
      "row2  20  bar\n",
      "row3  30  baz\n"
     ]
    }
   ],
   "source": [
    "# Create a DataFrame with a custom index.\n",
    "df_indexed = pd.DataFrame({\"a\": [10, 20, 30], \"b\": [\"foo\", \"bar\", \"baz\"]},\n",
    "                          index=[\"row1\", \"row2\", \"row3\"])\n",
    "print(\"Original DataFrame with index:\")\n",
    "print(df_indexed)\n",
    "\n",
    "# Convert to an Arrow Table (non-RangeIndex will be stored as a column).\n",
    "table_indexed = pa.Table.from_pandas(df_indexed)\n",
    "print(\"\\nArrow Table (with index preserved):\")\n",
    "print(table_indexed)\n",
    "\n",
    "# Convert back to Pandas.\n",
    "df_roundtrip = table_indexed.to_pandas()\n",
    "print(\"\\nRoundtrip DataFrame:\")\n",
    "print(df_roundtrip)\n"
   ]
  },
  {
   "cell_type": "code",
   "execution_count": 4,
   "metadata": {},
   "outputs": [
    {
     "name": "stdout",
     "output_type": "stream",
     "text": [
      "Original DataFrame with categorical column:\n",
      "  cat\n",
      "0   a\n",
      "1   b\n",
      "2   c\n",
      "3   a\n",
      "4   b\n",
      "5   c\n",
      "Categories: Index(['a', 'b', 'c'], dtype='object')\n",
      "\n",
      "Arrow Table with categorical column:\n",
      "pyarrow.Table\n",
      "cat: dictionary<values=string, indices=int8, ordered=0>\n",
      "----\n",
      "cat: [  -- dictionary:\n",
      "[\"a\",\"b\",\"c\"]  -- indices:\n",
      "[0,1,2,0,1,2]]\n",
      "\n",
      "Underlying dictionary in 'cat' column:\n",
      "Dictionary: [\n",
      "  \"a\",\n",
      "  \"b\",\n",
      "  \"c\"\n",
      "]\n",
      "Indices: [\n",
      "  0,\n",
      "  1,\n",
      "  2,\n",
      "  0,\n",
      "  1,\n",
      "  2\n",
      "]\n"
     ]
    }
   ],
   "source": [
    "\n",
    "df_cat = pd.DataFrame({\"cat\": pd.Categorical([\"a\", \"b\", \"c\", \"a\", \"b\", \"c\"])})\n",
    "print(\"Original DataFrame with categorical column:\")\n",
    "print(df_cat)\n",
    "print(\"Categories:\", df_cat[\"cat\"].cat.categories)\n",
    "\n",
    "\n",
    "table_cat = pa.Table.from_pandas(df_cat)\n",
    "print(\"\\nArrow Table with categorical column:\")\n",
    "print(table_cat)\n",
    "\n",
    "\n",
    "col = table_cat.column(\"cat\")\n",
    "\n",
    "chunk = col.chunk(0)\n",
    "print(\"\\nUnderlying dictionary in 'cat' column:\")\n",
    "print(\"Dictionary:\", chunk.dictionary)\n",
    "print(\"Indices:\", chunk.indices)\n"
   ]
  },
  {
   "cell_type": "code",
   "execution_count": 6,
   "metadata": {},
   "outputs": [
    {
     "name": "stdout",
     "output_type": "stream",
     "text": [
      "Original DataFrame with nullable dtype:\n",
      "      a\n",
      "0     1\n",
      "1     2\n",
      "2  <NA>\n",
      "Dtypes:\n",
      "a    Int64\n",
      "dtype: object\n"
     ]
    }
   ],
   "source": [
    "# Create a DataFrame with a nullable integer column.\n",
    "df_nullable = pd.DataFrame({\"a\": pd.Series([1, 2, None], dtype=\"Int64\")})\n",
    "print(\"Original DataFrame with nullable dtype:\")\n",
    "print(df_nullable)\n",
    "print(\"Dtypes:\")\n",
    "print(df_nullable.dtypes)\n"
   ]
  },
  {
   "cell_type": "code",
   "execution_count": 7,
   "metadata": {},
   "outputs": [
    {
     "name": "stdout",
     "output_type": "stream",
     "text": [
      "\n",
      "Arrow Table from DataFrame with nullable dtype:\n",
      "pyarrow.Table\n",
      "a: int64\n",
      "----\n",
      "a: [[1,2,null]]\n"
     ]
    }
   ],
   "source": [
    "\n",
    "# Convert to an Arrow Table.\n",
    "table_nullable = pa.Table.from_pandas(df_nullable)\n",
    "print(\"\\nArrow Table from DataFrame with nullable dtype:\")\n",
    "print(table_nullable)\n"
   ]
  },
  {
   "cell_type": "code",
   "execution_count": 8,
   "metadata": {},
   "outputs": [],
   "source": [
    "# Define a mapping from Arrow types to Pandas nullable dtypes.\n",
    "dtype_mapping = {\n",
    "    pa.int64(): pd.Int64Dtype(),\n",
    "    pa.float64(): pd.Float64Dtype(),\n",
    "    pa.string(): pd.StringDtype(),\n",
    "}\n"
   ]
  },
  {
   "cell_type": "code",
   "execution_count": 9,
   "metadata": {},
   "outputs": [
    {
     "name": "stdout",
     "output_type": "stream",
     "text": [
      "\n",
      "Roundtrip DataFrame with nullable dtypes:\n",
      "      a\n",
      "0     1\n",
      "1     2\n",
      "2  <NA>\n",
      "Dtypes after conversion:\n",
      "a    Int64\n",
      "dtype: object\n"
     ]
    }
   ],
   "source": [
    "\n",
    "# Convert back to a Pandas DataFrame using the types_mapper.\n",
    "df_nullable_roundtrip = table_nullable.to_pandas(types_mapper=dtype_mapping.get)\n",
    "print(\"\\nRoundtrip DataFrame with nullable dtypes:\")\n",
    "print(df_nullable_roundtrip)\n",
    "print(\"Dtypes after conversion:\")\n",
    "print(df_nullable_roundtrip.dtypes)\n"
   ]
  },
  {
   "cell_type": "code",
   "execution_count": null,
   "metadata": {},
   "outputs": [],
   "source": []
  }
 ],
 "metadata": {
  "kernelspec": {
   "display_name": ".venv",
   "language": "python",
   "name": "python3"
  },
  "language_info": {
   "codemirror_mode": {
    "name": "ipython",
    "version": 3
   },
   "file_extension": ".py",
   "mimetype": "text/x-python",
   "name": "python",
   "nbconvert_exporter": "python",
   "pygments_lexer": "ipython3",
   "version": "3.11.5"
  }
 },
 "nbformat": 4,
 "nbformat_minor": 2
}
