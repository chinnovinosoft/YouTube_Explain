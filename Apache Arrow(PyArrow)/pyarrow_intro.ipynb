{
 "cells": [
  {
   "cell_type": "code",
   "execution_count": 1,
   "metadata": {},
   "outputs": [],
   "source": [
    "import pyarrow as pa"
   ]
  },
  {
   "cell_type": "code",
   "execution_count": 2,
   "metadata": {},
   "outputs": [],
   "source": [
    "days = pa.array([1, 12, 17, 23, 28], type=pa.int8())\n",
    "months = pa.array([1, 3, 5, 7, 1], type=pa.int8())\n",
    "years = pa.array([1990, 2000, 1995, 2000, 1995], type=pa.int16())\n",
    "\n",
    "birthdays_table = pa.table([days, months, years],\n",
    "                           names=[\"days\", \"months\", \"years\"])"
   ]
  },
  {
   "cell_type": "code",
   "execution_count": 4,
   "metadata": {},
   "outputs": [
    {
     "name": "stdout",
     "output_type": "stream",
     "text": [
      "pyarrow.Table\n",
      "days: int8\n",
      "months: int8\n",
      "years: int16\n",
      "----\n",
      "days: [[1,12,17,23,28]]\n",
      "months: [[1,3,5,7,1]]\n",
      "years: [[1990,2000,1995,2000,1995]]\n"
     ]
    }
   ],
   "source": [
    "print(birthdays_table)"
   ]
  },
  {
   "cell_type": "code",
   "execution_count": 6,
   "metadata": {},
   "outputs": [],
   "source": [
    "import pyarrow.parquet as pq\n",
    "pq.write_table(birthdays_table,'birth.parquet')"
   ]
  },
  {
   "cell_type": "code",
   "execution_count": 7,
   "metadata": {},
   "outputs": [
    {
     "name": "stdout",
     "output_type": "stream",
     "text": [
      "pyarrow.Table\n",
      "days: int8\n",
      "months: int8\n",
      "years: int16\n",
      "----\n",
      "days: [[1,12,17,23,28]]\n",
      "months: [[1,3,5,7,1]]\n",
      "years: [[1990,2000,1995,2000,1995]]\n"
     ]
    }
   ],
   "source": [
    "birth = pq.read_table('birth.parquet')\n",
    "print(birth)"
   ]
  },
  {
   "cell_type": "code",
   "execution_count": 8,
   "metadata": {},
   "outputs": [],
   "source": [
    "import pyarrow.dataset as ds\n",
    "ds.write_dataset(birthdays_table, \"savedir\", format=\"parquet\",\n",
    "                 partitioning=ds.partitioning(\n",
    "                    pa.schema([birthdays_table.schema.field(\"years\")])\n",
    "                ))"
   ]
  },
  {
   "cell_type": "code",
   "execution_count": 9,
   "metadata": {},
   "outputs": [
    {
     "name": "stdout",
     "output_type": "stream",
     "text": [
      "<pyarrow._dataset.FileSystemDataset object at 0x12745cca0>\n"
     ]
    }
   ],
   "source": [
    "birthdays_dataset = ds.dataset(\"savedir\", format=\"parquet\", partitioning=[\"years\"])\n",
    "\n",
    "print(birthdays_dataset)"
   ]
  },
  {
   "cell_type": "code",
   "execution_count": 13,
   "metadata": {},
   "outputs": [
    {
     "data": {
      "text/plain": [
       "['savedir/1990/part-0.parquet',\n",
       " 'savedir/1995/part-0.parquet',\n",
       " 'savedir/2000/part-0.parquet']"
      ]
     },
     "execution_count": 13,
     "metadata": {},
     "output_type": "execute_result"
    }
   ],
   "source": [
    "birthdays_dataset.files"
   ]
  },
  {
   "cell_type": "code",
   "execution_count": 12,
   "metadata": {},
   "outputs": [
    {
     "data": {
      "text/plain": [
       "pyarrow.Table\n",
       "days: int8\n",
       "months: int8\n",
       "years: int32\n",
       "----\n",
       "days: [[1],[17,28],[12,23]]\n",
       "months: [[1],[5,1],[3,7]]\n",
       "years: [[1990],[1995,1995],[2000,2000]]"
      ]
     },
     "execution_count": 12,
     "metadata": {},
     "output_type": "execute_result"
    }
   ],
   "source": [
    "birthdays_dataset.to_table()"
   ]
  },
  {
   "cell_type": "code",
   "execution_count": null,
   "metadata": {},
   "outputs": [],
   "source": []
  }
 ],
 "metadata": {
  "kernelspec": {
   "display_name": ".venv",
   "language": "python",
   "name": "python3"
  },
  "language_info": {
   "codemirror_mode": {
    "name": "ipython",
    "version": 3
   },
   "file_extension": ".py",
   "mimetype": "text/x-python",
   "name": "python",
   "nbconvert_exporter": "python",
   "pygments_lexer": "ipython3",
   "version": "3.11.5"
  }
 },
 "nbformat": 4,
 "nbformat_minor": 2
}
