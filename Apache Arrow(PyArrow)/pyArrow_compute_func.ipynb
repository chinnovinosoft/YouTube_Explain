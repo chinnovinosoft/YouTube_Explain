{
 "cells": [
  {
   "cell_type": "code",
   "execution_count": 14,
   "metadata": {},
   "outputs": [],
   "source": [
    "import pyarrow as pa\n",
    "import pyarrow.compute as pc\n",
    "import pyarrow.dataset as ds\n",
    "\n",
    "\n",
    "import pandas as pd "
   ]
  },
  {
   "cell_type": "code",
   "execution_count": 6,
   "metadata": {},
   "outputs": [
    {
     "name": "stdout",
     "output_type": "stream",
     "text": [
      "Original array: [\n",
      "  10,\n",
      "  20,\n",
      "  30,\n",
      "  40,\n",
      "  50\n",
      "]\n",
      "Sum: 150\n",
      "Mean: 30.0\n",
      "Elements > 25 (as Boolean array): [\n",
      "  false,\n",
      "  false,\n",
      "  true,\n",
      "  true,\n",
      "  true\n",
      "]\n",
      "Elements > 25: [\n",
      "  30,\n",
      "  40,\n",
      "  50\n",
      "]\n"
     ]
    }
   ],
   "source": [
    "arr = pa.array([10, 20, 30, 40, 50])\n",
    "print(\"Original array:\", arr)\n",
    "\n",
    "# Compute the sum.\n",
    "sum_val = pc.sum(arr)\n",
    "print(\"Sum:\", sum_val.as_py())\n",
    "\n",
    "# Compute the mean.\n",
    "mean_val = pc.mean(arr)\n",
    "print(\"Mean:\", mean_val.as_py())\n",
    "\n",
    "# Compare values: find which elements are greater than 25.\n",
    "greater_than_25 = pc.greater(arr, 25)\n",
    "print(\"Elements > 25 (as Boolean array):\", greater_than_25)\n",
    "filtered_arr = pc.filter(arr, greater_than_25)\n",
    "print(\"Elements > 25:\", filtered_arr)"
   ]
  },
  {
   "cell_type": "code",
   "execution_count": 5,
   "metadata": {},
   "outputs": [
    {
     "name": "stdout",
     "output_type": "stream",
     "text": [
      "Original Table:\n",
      "pyarrow.Table\n",
      "category: string\n",
      "value: int64\n",
      "----\n",
      "category: [[\"A\",\"A\",\"B\",\"B\",\"B\",\"C\"]]\n",
      "value: [[10,20,30,40,50,60]]\n",
      "\n",
      "Grouped Aggregation (Sum of value by category):\n",
      "pyarrow.Table\n",
      "category: string\n",
      "value_sum: int64\n",
      "----\n",
      "category: [[\"A\",\"B\",\"C\"]]\n",
      "value_sum: [[30,120,60]]\n"
     ]
    }
   ],
   "source": [
    "df = pd.DataFrame({\n",
    "    'category': ['A', 'A', 'B', 'B', 'B', 'C'],\n",
    "    'value': [10, 20, 30, 40, 50, 60]\n",
    "})\n",
    "\n",
    "# Convert to an Arrow Table.\n",
    "table = pa.Table.from_pandas(df)\n",
    "print(\"Original Table:\")\n",
    "print(table)\n",
    "\n",
    "# Group by 'category' and aggregate the sum of 'value'.\n",
    "grouped = table.group_by('category').aggregate([('value', 'sum')])\n",
    "print(\"\\nGrouped Aggregation (Sum of value by category):\")\n",
    "print(grouped)"
   ]
  },
  {
   "cell_type": "code",
   "execution_count": 7,
   "metadata": {},
   "outputs": [
    {
     "name": "stdout",
     "output_type": "stream",
     "text": [
      "Joined Table (Inner Join on 'id'):\n",
      "pyarrow.Table\n",
      "id: int64\n",
      "value1: int64\n",
      "value2: int64\n",
      "----\n",
      "id: [[3,4]]\n",
      "value1: [[30,40]]\n",
      "value2: [[300,400]]\n"
     ]
    }
   ],
   "source": [
    "df1 = pd.DataFrame({\n",
    "    'id': [1, 2, 3, 4],\n",
    "    'value1': [10, 20, 30, 40]\n",
    "})\n",
    "\n",
    "df2 = pd.DataFrame({\n",
    "    'id': [3, 4, 5, 6],\n",
    "    'value2': [300, 400, 500, 600]\n",
    "})\n",
    "\n",
    "# Convert to Arrow Tables.\n",
    "table1 = pa.Table.from_pandas(df1)\n",
    "table2 = pa.Table.from_pandas(df2)\n",
    "\n",
    "# Perform an inner join on the 'id' column.\n",
    "joined = table1.join(table2, keys='id', join_type='inner')\n",
    "print(\"Joined Table (Inner Join on 'id'):\")\n",
    "print(joined)"
   ]
  },
  {
   "cell_type": "code",
   "execution_count": 8,
   "metadata": {},
   "outputs": [
    {
     "name": "stdout",
     "output_type": "stream",
     "text": [
      "\n",
      "Left Outer Join (from RecordBatches):\n",
      "   id  value1  value2\n",
      "0   3      30   300.0\n",
      "1   4      40   400.0\n",
      "2   1      10     NaN\n",
      "3   2      20     NaN\n"
     ]
    }
   ],
   "source": [
    "df1 = pd.DataFrame({\n",
    "    'id': [1, 2, 3, 4],\n",
    "    'value1': [10, 20, 30, 40]\n",
    "})\n",
    "df2 = pd.DataFrame({\n",
    "    'id': [3, 4, 5, 6],\n",
    "    'value2': [300, 400, 500, 600]\n",
    "})\n",
    "\n",
    "rb1 = pa.RecordBatch.from_pandas(df1)\n",
    "rb2 = pa.RecordBatch.from_pandas(df2)\n",
    "\n",
    "# Convert the RecordBatches to Tables.\n",
    "table1_rb = pa.Table.from_batches([rb1])\n",
    "table2_rb = pa.Table.from_batches([rb2])\n",
    "\n",
    "# Now, perform a join (for example, a left outer join).\n",
    "rb_left_join = table1_rb.join(table2_rb, keys='id', join_type='left outer')\n",
    "print(\"\\nLeft Outer Join (from RecordBatches):\")\n",
    "print(rb_left_join.to_pandas())"
   ]
  },
  {
   "cell_type": "code",
   "execution_count": 9,
   "metadata": {},
   "outputs": [
    {
     "name": "stdout",
     "output_type": "stream",
     "text": [
      "Original Table:\n",
      "pyarrow.Table\n",
      "id: int64\n",
      "value: int64\n",
      "----\n",
      "id: [[1,2,3,4,5]]\n",
      "value: [[10,20,30,40,50]]\n",
      "\n",
      "Filtered Table (value > 25):\n",
      "pyarrow.Table\n",
      "id: int64\n",
      "value: int64\n",
      "----\n",
      "id: [[3,4,5]]\n",
      "value: [[30,40,50]]\n"
     ]
    }
   ],
   "source": [
    "df = pd.DataFrame({\n",
    "    'id': [1, 2, 3, 4, 5],\n",
    "    'value': [10, 20, 30, 40, 50]\n",
    "})\n",
    "table = pa.Table.from_pandas(df)\n",
    "print(\"Original Table:\")\n",
    "print(table)\n",
    "\n",
    "# Define a filter expression: select rows where value is greater than 25.\n",
    "expr = pc.greater(table['value'], 25)\n",
    "filtered_table = table.filter(expr)\n",
    "print(\"\\nFiltered Table (value > 25):\")\n",
    "print(filtered_table)"
   ]
  },
  {
   "cell_type": "code",
   "execution_count": 21,
   "metadata": {},
   "outputs": [],
   "source": [
    "import numpy as np \n",
    "def to_np(val):\n",
    "    if isinstance(val, pa.Scalar):\n",
    "        return val.as_py()\n",
    "    else:\n",
    "        return np.array(val)"
   ]
  },
  {
   "cell_type": "code",
   "execution_count": 17,
   "metadata": {},
   "outputs": [],
   "source": [
    "function_name = \"add_two2\"\n",
    "function_docs = {\n",
    "    \"summary\": \"Adds two numbers\",\n",
    "    \"description\": \"Performs elementwise addition of two int64 values.\"\n",
    "}\n",
    "input_types = {\"x\": pa.int64(), \"y\": pa.int64()}\n",
    "output_type = pa.int64()\n",
    "\n",
    "def add_two_udf(ctx, x, y):\n",
    "    np_x = to_np(x)\n",
    "    np_y = to_np(y)\n",
    "    return pa.array(np_x + np_y)\n",
    "\n",
    "pc.register_scalar_function(add_two_udf,\n",
    "                              function_name,\n",
    "                              function_docs,\n",
    "                              input_types,\n",
    "                              output_type)\n",
    "\n"
   ]
  },
  {
   "cell_type": "code",
   "execution_count": 22,
   "metadata": {},
   "outputs": [
    {
     "name": "stdout",
     "output_type": "stream",
     "text": [
      "Addition result: [\n",
      "  11,\n",
      "  22,\n",
      "  33\n",
      "]\n"
     ]
    }
   ],
   "source": [
    "a = pa.array([10, 20, 30], type=pa.int64())\n",
    "b = pa.array([1, 2, 3], type=pa.int64())\n",
    "result_add = pc.call_function(\"add_two2\", [a, b])\n",
    "print(\"Addition result:\", result_add)\n"
   ]
  },
  {
   "cell_type": "code",
   "execution_count": 23,
   "metadata": {},
   "outputs": [],
   "source": [
    "function_name = \"categorize\"\n",
    "function_docs = {\n",
    "    \"summary\": \"Categorizes int64 values\",\n",
    "    \"description\": \"Returns 'Low' for values <25, 'Medium' for values <75, otherwise 'High'.\"\n",
    "}\n",
    "input_types = {\"x\": pa.int64()}\n",
    "output_type = pa.string()\n",
    "\n",
    "def categorize_udf(ctx, x):\n",
    "    np_x = to_np(x)\n",
    "    # Use nested np.where to vectorize the categorization.\n",
    "    result = np.where(np_x < 25, \"Low\",\n",
    "             np.where(np_x < 75, \"Medium\", \"High\"))\n",
    "    return pa.array(result, type=pa.string())\n",
    "\n",
    "pc.register_scalar_function(categorize_udf,\n",
    "                              function_name,\n",
    "                              function_docs,\n",
    "                              input_types,\n",
    "                              output_type)\n"
   ]
  },
  {
   "cell_type": "code",
   "execution_count": 24,
   "metadata": {},
   "outputs": [
    {
     "name": "stdout",
     "output_type": "stream",
     "text": [
      "Categorized values: [\n",
      "  \"Low\",\n",
      "  \"Medium\",\n",
      "  \"High\",\n",
      "  \"Medium\",\n",
      "  \"Low\"\n",
      "]\n"
     ]
    }
   ],
   "source": [
    "numbers = pa.array([10, 30, 80, 50, 5], type=pa.int64())\n",
    "result_category = pc.call_function(\"categorize\", [numbers])\n",
    "print(\"Categorized values:\", result_category)\n"
   ]
  },
  {
   "cell_type": "code",
   "execution_count": null,
   "metadata": {},
   "outputs": [
    {
     "name": "stdout",
     "output_type": "stream",
     "text": [
      "Dataset Table with Categorized Value Column (using UDF expression):\n",
      "pyarrow.Table\n",
      "value: int64\n",
      "category: string\n",
      "value_category: string\n",
      "----\n",
      "value: [[90,630,1827,2709]]\n",
      "category: [[\"A\",\"B\",\"C\",\"D\"]]\n",
      "value_category: [[\"High\",\"High\",\"High\",\"High\"]]\n"
     ]
    }
   ],
   "source": [
    "values = pa.array([90, 630, 1827, 2709], type=pa.int64())\n",
    "categories = pa.array([\"A\", \"B\", \"C\", \"D\"], type=pa.string())\n",
    "\n",
    "data_table = pa.Table.from_arrays([values, categories], names=[\"value\", \"category\"])\n",
    "\n",
    "dataset = ds.dataset(data_table)\n",
    "\n",
    "expr = ds.field(\"value\")._call(\"categorize\", [ds.field(\"value\")])\n",
    "\n",
    "projected_table = dataset.to_table(columns={\n",
    "    'value': ds.field(\"value\"),\n",
    "    'category': ds.field(\"category\"),\n",
    "    'value_category': expr \n",
    "})\n",
    "\n",
    "print(\"Dataset Table with Categorized Value Column (using UDF expression):\")\n",
    "print(projected_table)"
   ]
  },
  {
   "cell_type": "code",
   "execution_count": null,
   "metadata": {},
   "outputs": [],
   "source": []
  }
 ],
 "metadata": {
  "kernelspec": {
   "display_name": ".venv",
   "language": "python",
   "name": "python3"
  },
  "language_info": {
   "codemirror_mode": {
    "name": "ipython",
    "version": 3
   },
   "file_extension": ".py",
   "mimetype": "text/x-python",
   "name": "python",
   "nbconvert_exporter": "python",
   "pygments_lexer": "ipython3",
   "version": "3.11.5"
  }
 },
 "nbformat": 4,
 "nbformat_minor": 2
}
