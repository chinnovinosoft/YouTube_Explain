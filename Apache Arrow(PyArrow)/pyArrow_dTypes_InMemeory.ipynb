{
 "cells": [
  {
   "cell_type": "code",
   "execution_count": 2,
   "metadata": {},
   "outputs": [],
   "source": [
    "import pyarrow as pa\n",
    "import random"
   ]
  },
  {
   "cell_type": "code",
   "execution_count": null,
   "metadata": {},
   "outputs": [
    {
     "name": "stdout",
     "output_type": "stream",
     "text": [
      "Schema: id: int64\n",
      "name: string\n",
      "  -- field metadata --\n",
      "  note: 'Random note 61'\n",
      "score: double\n",
      "\n",
      "RecordBatch with custom schema:\n",
      "pyarrow.RecordBatch\n",
      "id: int64\n",
      "name: string\n",
      "score: double\n",
      "----\n",
      "id: [1,2,3]\n",
      "name: [\"Alice\",\"Bob\",\"Charlie\"]\n",
      "score: [95.5,87,92.3]\n",
      "\n",
      "Accessing the schema from the record batch:\n",
      "id: int64\n",
      "name: string\n",
      "  -- field metadata --\n",
      "  note: 'Random note 61'\n",
      "score: double\n"
     ]
    }
   ],
   "source": [
    "# Define fields with types and metadata.\n",
    "field1 = pa.field(\"id\", pa.int64())\n",
    "field2 = pa.field(\"name\", pa.string(), metadata={\"note\": f\"Random note {random.randint(1, 100)}\".encode()})\n",
    "field3 = pa.field(\"score\", pa.float64())\n",
    "schema = pa.schema([field1, field2, field3])\n",
    "print(\"Schema:\", schema)\n",
    "\n",
    "# Use the schema to create a RecordBatch.\n",
    "data = [\n",
    "    pa.array([1, 2, 3]),\n",
    "    pa.array([\"Alice\", \"Bob\", \"Charlie\"]),\n",
    "    pa.array([95.5, 87.0, 92.3])\n",
    "]\n",
    "# RecordBatch is the nothing but we can say it as a slice of table created with multiple array columns. \n",
    "record_batch = pa.RecordBatch.from_arrays(data, schema=schema)\n",
    "print(\"\\nRecordBatch with custom schema:\")\n",
    "print(record_batch)\n",
    "\n",
    "# You can also inspect the schema from the record batch.\n",
    "print(\"\\nAccessing the schema from the record batch:\")\n",
    "print(record_batch.schema)\n"
   ]
  },
  {
   "cell_type": "code",
   "execution_count": 3,
   "metadata": {},
   "outputs": [
    {
     "name": "stdout",
     "output_type": "stream",
     "text": [
      "Array: [\n",
      "  56,\n",
      "  92,\n",
      "  85,\n",
      "  34,\n",
      "  68,\n",
      "  42,\n",
      "  1,\n",
      "  61,\n",
      "  64,\n",
      "  72\n",
      "]\n",
      "Array as Python list: [56, 92, 85, 34, 68, 42, 1, 61, 64, 72]\n"
     ]
    }
   ],
   "source": [
    "import numpy as np\n",
    "\n",
    "# Create an array of 10 random integers.\n",
    "random_ints = np.random.randint(0, 100, size=10).tolist()\n",
    "arr = pa.array(random_ints)\n",
    "print(\"Array:\", arr)\n",
    "\n",
    "# Convert the Arrow array to a Python list.\n",
    "print(\"Array as Python list:\", arr.to_pylist())\n"
   ]
  },
  {
   "cell_type": "code",
   "execution_count": 5,
   "metadata": {},
   "outputs": [
    {
     "name": "stdout",
     "output_type": "stream",
     "text": [
      "Array with nulls and NaN: [\n",
      "  0.27179593319600037,\n",
      "  null,\n",
      "  0.9732419288204855,\n",
      "  nan,\n",
      "  0.3529178782684954\n",
      "]\n",
      "Validity (is valid): [True, False, True, True, True]\n",
      "Converted list: [0.27179593319600037, None, 0.9732419288204855, nan, 0.3529178782684954]\n"
     ]
    }
   ],
   "source": [
    "# Create an array of random floats, then inject None and np.nan.\n",
    "random_floats = np.random.rand(5).tolist()\n",
    "random_floats[1] = None   # A missing value.\n",
    "random_floats[3] = np.nan  # Not-a-number value.\n",
    "arr_with_nulls = pa.array(random_floats)\n",
    "print(\"Array with nulls and NaN:\", arr_with_nulls)\n",
    "\n",
    "print(\"Validity (is valid):\", [arr_with_nulls[i].is_valid for i in range(len(arr_with_nulls))])\n",
    "\n",
    "# Convert to list to inspect the values.\n",
    "print(\"Converted list:\", arr_with_nulls.to_pylist())\n"
   ]
  },
  {
   "cell_type": "code",
   "execution_count": 6,
   "metadata": {},
   "outputs": [
    {
     "name": "stdout",
     "output_type": "stream",
     "text": [
      "List Array: [\n",
      "  [\n",
      "    10,\n",
      "    4,\n",
      "    1,\n",
      "    8,\n",
      "    8\n",
      "  ],\n",
      "  [\n",
      "    8\n",
      "  ],\n",
      "  null,\n",
      "  [\n",
      "    1,\n",
      "    0\n",
      "  ]\n",
      "]\n",
      "First element (a sublist): [10, 4, 1, 8, 8]\n"
     ]
    }
   ],
   "source": [
    "# Create a list of lists with random lengths and random integers.\n",
    "list_data = [ [random.randint(0, 10) for _ in range(random.randint(1, 5))] for _ in range(4)]\n",
    "list_data[2] = None  # Introduce a None entry.\n",
    "list_arr = pa.array(list_data)\n",
    "print(\"List Array:\", list_arr)\n",
    "\n",
    "# Access an individual list element.\n",
    "print(\"First element (a sublist):\", list_arr[0].as_py())\n"
   ]
  },
  {
   "cell_type": "code",
   "execution_count": 7,
   "metadata": {},
   "outputs": [
    {
     "name": "stdout",
     "output_type": "stream",
     "text": [
      "Underlying flat values array: [\n",
      "  10,\n",
      "  4,\n",
      "  1,\n",
      "  8,\n",
      "  8,\n",
      "  8,\n",
      "  1,\n",
      "  0\n",
      "]\n",
      "Offsets array: [\n",
      "  0,\n",
      "  5,\n",
      "  6,\n",
      "  6,\n",
      "  8\n",
      "]\n"
     ]
    }
   ],
   "source": [
    "print(\"Underlying flat values array:\", list_arr.values)\n",
    "print(\"Offsets array:\", list_arr.offsets)\n"
   ]
  },
  {
   "cell_type": "code",
   "execution_count": 8,
   "metadata": {},
   "outputs": [
    {
     "name": "stdout",
     "output_type": "stream",
     "text": [
      "Reconstructed sublists: [[10, 4, 1, 8, 8], [8], None, [1, 0]]\n"
     ]
    }
   ],
   "source": [
    "offsets = list_arr.offsets.to_pylist()\n",
    "flat_values = list_arr.values.to_pylist()\n",
    "sublists = [flat_values[offsets[i]:offsets[i+1]] if list_arr[i].is_valid else None for i in range(len(offsets)-1)]\n",
    "print(\"Reconstructed sublists:\", sublists)"
   ]
  },
  {
   "cell_type": "code",
   "execution_count": 20,
   "metadata": {},
   "outputs": [
    {
     "name": "stdout",
     "output_type": "stream",
     "text": [
      "Reconstructed sublists: [[10, 4, 1, 8, 8], [8], None, [1, 0]]\n"
     ]
    }
   ],
   "source": [
    "sublists = []\n",
    "for i in range(len(offsets) - 1):\n",
    "    if list_arr[i].is_valid:\n",
    "        sublist = flat_values[offsets[i]:offsets[i+1]]\n",
    "    else:\n",
    "        sublist = None\n",
    "    sublists.append(sublist)\n",
    "print(\"Reconstructed sublists:\", sublists)"
   ]
  },
  {
   "cell_type": "code",
   "execution_count": 10,
   "metadata": {},
   "outputs": [
    {
     "name": "stdout",
     "output_type": "stream",
     "text": [
      "Struct Array: -- is_valid: all not null\n",
      "-- child 0 type: int64\n",
      "  [\n",
      "    45,\n",
      "    8,\n",
      "    94,\n",
      "    49,\n",
      "    88\n",
      "  ]\n",
      "-- child 1 type: string\n",
      "  [\n",
      "    \"P\",\n",
      "    \"L\",\n",
      "    \"J\",\n",
      "    \"X\",\n",
      "    \"E\"\n",
      "  ]\n"
     ]
    }
   ],
   "source": [
    "import pyarrow as pa\n",
    "import numpy as np\n",
    "import random\n",
    "\n",
    "num_arr = pa.array(np.random.randint(0, 100, size=5).tolist())\n",
    "char_arr = pa.array([chr(random.randint(65, 90)) for _ in range(5)])\n",
    "\n",
    "struct_arr = pa.StructArray.from_arrays(\n",
    "    [num_arr, char_arr],\n",
    "    fields=[pa.field(\"num\", num_arr.type), pa.field(\"char\", char_arr.type)]\n",
    ")\n",
    "print(\"Struct Array:\", struct_arr)\n"
   ]
  },
  {
   "cell_type": "code",
   "execution_count": 22,
   "metadata": {},
   "outputs": [
    {
     "data": {
      "text/plain": [
       "<pyarrow.StructScalar: [('num', 45), ('char', 'P')]>"
      ]
     },
     "execution_count": 22,
     "metadata": {},
     "output_type": "execute_result"
    }
   ],
   "source": [
    "struct_arr[0]"
   ]
  },
  {
   "cell_type": "code",
   "execution_count": 11,
   "metadata": {},
   "outputs": [
    {
     "data": {
      "text/plain": [
       "<pyarrow.lib.MapArray object at 0x117a5f8e0>\n",
       "[\n",
       "  keys:\n",
       "  [\n",
       "    \"x\",\n",
       "    \"y\"\n",
       "  ]\n",
       "  values:\n",
       "  [\n",
       "    1,\n",
       "    0\n",
       "  ],\n",
       "  keys:\n",
       "  [\n",
       "    \"a\",\n",
       "    \"b\"\n",
       "  ]\n",
       "  values:\n",
       "  [\n",
       "    2,\n",
       "    45\n",
       "  ]\n",
       "]"
      ]
     },
     "execution_count": 11,
     "metadata": {},
     "output_type": "execute_result"
    }
   ],
   "source": [
    "data = [[('x', 1), ('y', 0)], [('a', 2), ('b', 45)]]\n",
    "\n",
    "ty = pa.map_(pa.string(), pa.int64())\n",
    "\n",
    "pa.array(data, type=ty)"
   ]
  },
  {
   "cell_type": "markdown",
   "metadata": {},
   "source": [
    "At a high level, union arrays let you store different kinds of data in a single column without forcing everything into a common type. Imagine you have several boxes—one for numbers, one for text, one for booleans—and you want one list that can contain items from any of those boxes. "
   ]
  },
  {
   "cell_type": "code",
   "execution_count": 59,
   "metadata": {},
   "outputs": [
    {
     "name": "stdout",
     "output_type": "stream",
     "text": [
      "sparse_union<0: int64=0, 1: bool=1>\n",
      "------\n",
      "-- is_valid: all not null\n",
      "-- type_ids:   [\n",
      "    0,\n",
      "    0,\n",
      "    0\n",
      "  ]\n",
      "-- child 0 type: int64\n",
      "  [\n",
      "    5,\n",
      "    6,\n",
      "    7\n",
      "  ]\n",
      "-- child 1 type: bool\n",
      "  [\n",
      "    false,\n",
      "    false,\n",
      "    true\n",
      "  ]\n",
      "#############\n",
      "5 6 7\n"
     ]
    }
   ],
   "source": [
    "xs = pa.array([5, 6, 7])\n",
    "\n",
    "ys = pa.array([False, False, True])\n",
    "\n",
    "# The types array: indicates which child holds the value for each element.\n",
    "types = pa.array([0,0,0], type=pa.int8())\n",
    "\n",
    "union_arr = pa.UnionArray.from_sparse(types, [xs, ys])\n",
    "\n",
    "print(union_arr.type)\n",
    "print(\"------\")\n",
    "print(union_arr)\n",
    "print('#############')\n",
    "print(union_arr[0],union_arr[1],union_arr[2])"
   ]
  },
  {
   "cell_type": "code",
   "execution_count": 3,
   "metadata": {},
   "outputs": [
    {
     "name": "stdout",
     "output_type": "stream",
     "text": [
      "sparse_union<0: int64=0, 1: bool=1>\n",
      "------\n",
      "-- is_valid: all not null\n",
      "-- type_ids:   [\n",
      "    0,\n",
      "    1,\n",
      "    0\n",
      "  ]\n",
      "-- child 0 type: int64\n",
      "  [\n",
      "    5,\n",
      "    6,\n",
      "    7\n",
      "  ]\n",
      "-- child 1 type: bool\n",
      "  [\n",
      "    false,\n",
      "    false,\n",
      "    true\n",
      "  ]\n",
      "#############\n",
      "5 False 7\n"
     ]
    }
   ],
   "source": [
    "xs = pa.array([5, 6, 7])\n",
    "\n",
    "ys = pa.array([False, False, True])\n",
    "\n",
    "# The types array: indicates which child holds the value for each element.\n",
    "types = pa.array([0,1,0], type=pa.int8())\n",
    "\n",
    "union_arr = pa.UnionArray.from_sparse(types, [xs, ys])\n",
    "\n",
    "print(union_arr.type)\n",
    "print(\"------\")\n",
    "print(union_arr)\n",
    "print('#############')\n",
    "print(union_arr[0],union_arr[1],union_arr[2])"
   ]
  },
  {
   "cell_type": "code",
   "execution_count": 39,
   "metadata": {},
   "outputs": [
    {
     "name": "stdout",
     "output_type": "stream",
     "text": [
      "sparse_union<0: int64=0, 1: bool=1, 2: string=2>\n",
      "------\n",
      "-- is_valid: all not null\n",
      "-- type_ids:   [\n",
      "    0,\n",
      "    1,\n",
      "    2\n",
      "  ]\n",
      "-- child 0 type: int64\n",
      "  [\n",
      "    5,\n",
      "    6,\n",
      "    7\n",
      "  ]\n",
      "-- child 1 type: bool\n",
      "  [\n",
      "    false,\n",
      "    false,\n",
      "    true\n",
      "  ]\n",
      "-- child 2 type: string\n",
      "  [\n",
      "    \"foo\",\n",
      "    \"bar\",\n",
      "    \"baz\"\n",
      "  ]\n"
     ]
    }
   ],
   "source": [
    "import pyarrow as pa\n",
    "\n",
    "# Create three child arrays.\n",
    "xs = pa.array([5, 6, 7])\n",
    "ys = pa.array([False, False, True])\n",
    "zs = pa.array([\"foo\", \"bar\", \"baz\"])  # third child (e.g., strings)\n",
    "\n",
    "# The types array indicates which child to use for each element.\n",
    "types = pa.array([0, 1, 2], type=pa.int8())\n",
    "\n",
    "# Create the union array from all three children.\n",
    "union_arr2 = pa.UnionArray.from_sparse(types, [xs, ys, zs])\n",
    "\n",
    "print(union_arr2.type)\n",
    "print(\"------\")\n",
    "print(union_arr2)\n"
   ]
  },
  {
   "cell_type": "code",
   "execution_count": 4,
   "metadata": {},
   "outputs": [
    {
     "name": "stdout",
     "output_type": "stream",
     "text": [
      "sparse_union<0: int64=0, 1: bool=1, 2: string=2>\n",
      "------\n",
      "-- is_valid: all not null\n",
      "-- type_ids:   [\n",
      "    0,\n",
      "    1,\n",
      "    2\n",
      "  ]\n",
      "-- child 0 type: int64\n",
      "  [\n",
      "    5,\n",
      "    6,\n",
      "    7\n",
      "  ]\n",
      "-- child 1 type: bool\n",
      "  [\n",
      "    false,\n",
      "    false,\n",
      "    true\n",
      "  ]\n",
      "-- child 2 type: string\n",
      "  [\n",
      "    \"foo\",\n",
      "    \"bar\",\n",
      "    \"baz\"\n",
      "  ]\n",
      "#############\n",
      "5 False baz\n"
     ]
    }
   ],
   "source": [
    "import pyarrow as pa\n",
    "\n",
    "# Create three child arrays.\n",
    "xs = pa.array([5, 6, 7])\n",
    "ys = pa.array([False, False, True])\n",
    "zs = pa.array([\"foo\", \"bar\", \"baz\"])  # third child (e.g., strings)\n",
    "\n",
    "# The types array indicates which child to use for each element.\n",
    "types = pa.array([0, 1, 2], type=pa.int8())\n",
    "\n",
    "# Create the union array from all three children.\n",
    "union_arr2 = pa.UnionArray.from_sparse(types, [xs, ys, zs])\n",
    "\n",
    "print(union_arr2.type)\n",
    "print(\"------\")\n",
    "print(union_arr2)\n",
    "print('#############')\n",
    "print(union_arr2[0],union_arr2[1],union_arr2[2])"
   ]
  },
  {
   "cell_type": "code",
   "execution_count": 14,
   "metadata": {},
   "outputs": [],
   "source": [
    "data = [\n",
    "    pa.array([1, 2, 3, 4]),\n",
    "    pa.array(['foo', 'bar', 'baz', None]),\n",
    "    pa.array([True, None, False, True])\n",
    "]\n"
   ]
  },
  {
   "cell_type": "code",
   "execution_count": 16,
   "metadata": {},
   "outputs": [
    {
     "name": "stdout",
     "output_type": "stream",
     "text": [
      "3\n",
      "4\n",
      "f0: int64\n",
      "f1: string\n",
      "f2: bool\n",
      "[\n",
      "  \"foo\",\n",
      "  \"bar\",\n",
      "  \"baz\",\n",
      "  null\n",
      "]\n"
     ]
    }
   ],
   "source": [
    "batch = pa.RecordBatch.from_arrays(data, ['f0', 'f1', 'f2'])\n",
    "\n",
    "print(batch.num_columns)\n",
    "\n",
    "print(batch.num_rows)\n",
    "\n",
    "print(batch.schema)\n",
    "\n",
    "print(batch[1])"
   ]
  },
  {
   "cell_type": "code",
   "execution_count": 17,
   "metadata": {},
   "outputs": [
    {
     "name": "stdout",
     "output_type": "stream",
     "text": [
      "Table:\n",
      "pyarrow.Table\n",
      "id: int64\n",
      "value: string\n",
      "----\n",
      "id: [[10,44,46,34,4]]\n",
      "value: [[\"y\",\"z\",\"y\",\"y\",\"z\"]]\n",
      "\n",
      "Table Schema: id: int64\n",
      "value: string\n",
      "Column 'id' data: [10, 44, 46, 34, 4]\n",
      "Column 'value' data: ['y', 'z', 'y', 'y', 'z']\n"
     ]
    }
   ],
   "source": [
    "# Generate random data for a table.\n",
    "ids = pa.array(np.random.randint(1, 50, size=5).tolist())\n",
    "values = pa.array([random.choice([\"x\", \"y\", \"z\"]) for _ in range(5)])\n",
    "table = pa.Table.from_arrays([ids, values], names=[\"id\", \"value\"])\n",
    "print(\"Table:\")\n",
    "print(table)\n",
    "\n",
    "# Access the schema and individual columns.\n",
    "print(\"\\nTable Schema:\", table.schema)\n",
    "print(\"Column 'id' data:\", table.column(\"id\").to_pylist())\n",
    "print(\"Column 'value' data:\", table.column(\"value\").to_pylist())\n"
   ]
  },
  {
   "cell_type": "code",
   "execution_count": 18,
   "metadata": {},
   "outputs": [
    {
     "name": "stdout",
     "output_type": "stream",
     "text": [
      "Custom Schema: username: string\n",
      "  -- field metadata --\n",
      "  description: 'User login 40'\n",
      "age: int32\n",
      "  -- field metadata --\n",
      "  description: 'Age 45'\n",
      "-- schema metadata --\n",
      "source: 'generated data'\n",
      "Field 'username' metadata: User login 40\n",
      "\n",
      "Record Batch using custom schema:\n",
      "pyarrow.RecordBatch\n",
      "username: string\n",
      "age: int32\n",
      "----\n",
      "username: [\"alice\",\"bob\",\"charlie\"]\n",
      "age: [25,30,22]\n"
     ]
    }
   ],
   "source": [
    "field1 = pa.field(\"username\", pa.string(), metadata={\"description\": f\"User login {random.randint(1,100)}\".encode()})\n",
    "field2 = pa.field(\"age\", pa.int32(), metadata={\"description\": f\"Age {random.randint(18,80)}\".encode()})\n",
    "custom_schema = pa.schema([field1, field2], metadata={\"source\": b\"generated data\"})\n",
    "print(\"Custom Schema:\", custom_schema)\n",
    "\n",
    "# Retrieve metadata from a field.\n",
    "if field1.metadata and b\"description\" in field1.metadata:\n",
    "    print(\"Field 'username' metadata:\", field1.metadata[b\"description\"].decode())\n",
    "\n",
    "# Use the custom schema in a RecordBatch.\n",
    "usernames = pa.array([\"alice\", \"bob\", \"charlie\"])\n",
    "ages = pa.array([25, 30, 22])\n",
    "user_batch = pa.RecordBatch.from_arrays([usernames, ages], schema=custom_schema)\n",
    "print(\"\\nRecord Batch using custom schema:\")\n",
    "print(user_batch)\n"
   ]
  },
  {
   "cell_type": "code",
   "execution_count": null,
   "metadata": {},
   "outputs": [],
   "source": []
  }
 ],
 "metadata": {
  "kernelspec": {
   "display_name": ".venv",
   "language": "python",
   "name": "python3"
  },
  "language_info": {
   "codemirror_mode": {
    "name": "ipython",
    "version": 3
   },
   "file_extension": ".py",
   "mimetype": "text/x-python",
   "name": "python",
   "nbconvert_exporter": "python",
   "pygments_lexer": "ipython3",
   "version": "3.11.5"
  }
 },
 "nbformat": 4,
 "nbformat_minor": 2
}
